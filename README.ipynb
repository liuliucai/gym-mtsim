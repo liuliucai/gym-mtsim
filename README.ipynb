{
 "cells": [
  {
   "cell_type": "markdown",
   "metadata": {},
   "source": [
    "# gym-mtsim: OpenAI Gym - MetaTrader 5 Simulator\n",
    "\n",
    "`MtSim` is a simulator for the [MetaTrader 5](https://www.metatrader5.com) trading platform alongside an [OpenAI Gym](https://github.com/openai/gym) environment for reinforcement learning-based trading algorithms. `MetaTrader 5` is a **multi-asset** platform that allows trading **Forex**, **Stocks**, **Crypto**, and Futures. It is one of the most popular trading platforms and supports numerous useful features, such as opening demo accounts on various brokers.\n",
    "\n",
    "The simulator is separated from the Gym environment and can work independently. Although the Gym environment is designed to be suitable for RL frameworks, it is also proper for backtesting and classic analysis.\n",
    "\n",
    "The goal of this project was to provide a *general-purpose*, *flexible*, and *easy-to-use* library with a focus on *code readability* that enables users to do all parts of the trading process through it from 0 to 100. So, `gym-mtsim` is not just a testing tool or a Gym environment. It is a combination of a **real-world** simulator, a **backtesting** tool with *high detail visualization*, and a **Gym environment** appropriate for RL/classic algorithms.\n",
    "\n",
    "**Note:** For beginners, it is recommended to check out the [gym-anytrading](https://github.com/AminHP/gym-anytrading) project."
   ]
  },
  {
   "cell_type": "markdown",
   "metadata": {},
   "source": [
    "## Prerequisites\n",
    "\n",
    "### Install MetaTrader 5\n",
    "Download and install MetaTrader 5 software from [here](https://www.metatrader5.com/en/download).\n",
    "\n",
    "Open a demo account on any broker. By default, the software opens a demo account automatically after installation.\n",
    "\n",
    "Explore the software and try to get familiar with it by trading different symbols in both **hedged** and **unhedged** accounts.\n",
    "\n",
    "### Install gym-mtsim\n",
    "\n",
    "#### Via PIP\n",
    "```bash\n",
    "pip install gym-mtsim\n",
    "```\n",
    "\n",
    "#### From Repository\n",
    "```bash\n",
    "git clone https://github.com/AminHP/gym-mtsim\n",
    "cd gym-mtsim\n",
    "pip install -e .\n",
    "\n",
    "## or\n",
    "\n",
    "pip install --upgrade --no-deps --force-reinstall https://github.com/AminHP/gym-mtsim/archive/main.zip\n",
    "```\n",
    "\n",
    "### Install stable-baselines3\n",
    "This package is required to run some examples. Install it from [here](https://github.com/DLR-RM/stable-baselines3#installation)."
   ]
  },
  {
   "cell_type": "markdown",
   "metadata": {},
   "source": [
    "## Components"
   ]
  },
  {
   "cell_type": "markdown",
   "metadata": {},
   "source": [
    "### 1. SymbolInfo\n",
    "\n",
    "This is a data class that contains the essential properties of a symbol. Try to get fully acquainted with [these properties](https://github.com/AminHP/gym-mtsim/blob/main/gym_mtsim/metatrader/symbol.py) in case they are unfamiliar. There are plenty of resources that provide good explanations."
   ]
  },
  {
   "cell_type": "markdown",
   "metadata": {},
   "source": [
    "### 2. Order\n",
    "\n",
    "This is another data class that consists of information of an order. Each order has the following properties:\n",
    "\n",
    "> `id`: A unique number that helps with tracking orders.\n",
    ">\n",
    "> `type`: An enum that specifies the type of the order. It can be either **Buy** or **Sell**.\n",
    ">\n",
    "> `symbol`: The symbol selected for the order.\n",
    ">\n",
    "> `volume`: The volume chose for the order. It can be a multiple of *volume_step* between *volume_min* and *volume_max*. \n",
    ">\n",
    "> `fee`: It is a tricky property. In MetaTrader, there is *no* such concept called fee. Each symbol has bid and ask prices, the difference between which represents the **fee**. Although MetaTrader API provides these bid/ask prices for the recent past, it is not possible to access them for the distant past. Therefore, the **fee** property helps to manage the mentioned difference.\n",
    ">\n",
    "> `entry_time`: The time when the order was placed.\n",
    ">\n",
    "> `entry_price`: The **close** price when the order was placed.\n",
    ">\n",
    "> `exit_time`: The time when the order was closed.\n",
    ">\n",
    "> `exit_price`: The **close** price when the order was closed.\n",
    ">\n",
    "> `profit`: The amount of profit earned by this order so far.\n",
    ">\n",
    "> `margin`: The required amount of margin for this order.\n",
    ">\n",
    "> `closed`: A boolean that specifies whether this order is closed or not."
   ]
  },
  {
   "cell_type": "markdown",
   "metadata": {},
   "source": [
    "### 3. MtSimulator\n",
    "\n",
    "This is the core class that simulates the main parts of MetaTrader. Most of its public properties and methods are explained here. But feel free to take a look at the complete [source code](https://github.com/AminHP/gym-mtsim/blob/main/gym_mtsim/simulator/mt_simulator.py).\n",
    "\n",
    "* Properties:\n",
    "\n",
    "    > `unit`: The unit currency. It is usually *USD*, but it can be anything the broker allows, such as *EUR*.\n",
    "    >\n",
    "    > `balance`: The amount of money before taking into account any open positions.\n",
    "    >\n",
    "    > `equity`: The amount of money, including the value of any open positions.\n",
    "    >\n",
    "    > `margin`: The amount of money which is required for having positions opened.\n",
    "    >\n",
    "    > `leverage`: The leverage ratio.\n",
    "    >\n",
    "    > `free_margin`: The amount of money that is available to open new positions.\n",
    "    >\n",
    "    > `margin_level`: The ratio between **equity** and **margin**.\n",
    "    >\n",
    "    > `stop_out_level`: If the **margin_level** drops below **stop_out_level**, the most unprofitable position will be closed automatically by the broker.\n",
    "    >\n",
    "    > `hedge`: A boolean that specifies whether hedging is enabled or not.\n",
    "    >\n",
    "    > `symbols_info`: A dictionary that contains symbols' information.\n",
    "    >\n",
    "    > `symbols_data`: A dictionary that contains symbols' OHLCV data.\n",
    "    >\n",
    "    > `orders`: The list of open orders.\n",
    "    >\n",
    "    > `closed_orders`: The list of closed orders.\n",
    "    >\n",
    "    > `current_time`: The current time of the system.\n",
    "\n",
    "* Methods:\n",
    "\n",
    "    > `download_data`: Downloads required data from MetaTrader for a list of symbols in a time range. This method can be overridden in order to download data from servers other than MetaTrader.\n",
    "    >\n",
    "    > `save_symbols`: Saves the downloaded symbols' data to a file.\n",
    "    >\n",
    "    > `load_symbols`: Loads the symbols' data from a file.\n",
    "    >\n",
    "    > `tick`: Moves forward in time (by a delta time) and updates orders and other related properties.\n",
    "    >\n",
    "    > `create_order`: Creates a **Buy** or **Sell** order and updates related properties.\n",
    "    >\n",
    "    > `close_order`: Closes an order and updates related properties.\n",
    "    >\n",
    "    > `get_state`: Returns the state of the system. The result is similar to the *Trading tab* and *History tab* of the *Toolbox window* in MetaTrader software."
   ]
  },
  {
   "cell_type": "markdown",
   "metadata": {},
   "source": [
    "### 4. MtEnv\n",
    "\n",
    "This is the Gym environment that works on top of the *MtSim*. Most of its public properties and methods are explained here. But feel free to take a look at the complete [source code](https://github.com/AminHP/gym-mtsim/blob/main/gym_mtsim/envs/mt_env.py).\n",
    "\n",
    "* Properties:\n",
    "\n",
    "    > `original_simulator`: An instance of **MtSim** class as a baseline for simulating the system.\n",
    "    >\n",
    "    > `simulator`: The current simulator in use. It is a copy of the **original_simulator**.\n",
    "    >\n",
    "    > `trading_symbols`: The list of symbols to trade.\n",
    "    >\n",
    "    > `time_points`: A list of time points based on which the simulator moves time. The default value is taken from the *pandas DataFrame.Index* of the first symbol in the **trading_symbols** list.\n",
    "    >\n",
    "    > `hold_threshold`: A probability threshold that controls holding or placing a new order.\n",
    "    >\n",
    "    > `close_threshold`: A probability threshold that controls closing an order.\n",
    "    >\n",
    "    > `fee`: A constant number or a callable that takes a *symbol* as input and returns the **fee** based on that.\n",
    "    >\n",
    "    > `symbol_max_orders`: Specifies the maximum number of open positions per symbol in hedge trading. \n",
    "    >\n",
    "    > `multiprocessing_processes`: Specifies the maximum number of processes used for parallel processing.\n",
    "    >\n",
    "    > `prices`: The symbol prices over time. It is used to calculate signal features and render the environment.\n",
    "    >\n",
    "    > `signal_features`: The extracted features over time. It is used to generate *Gym observations*.\n",
    "    >\n",
    "    > `window_size`: The number of time points (current and previous points) as the length of each observation's features. \n",
    "    >\n",
    "    > `features_shape`: The shape of a single observation's features.\n",
    "    >\n",
    "    > `action_space`: The *Gym action_space* property. It has a complex structure since **stable-baselines** does not support *Dict* or *2D Box* action spaces. The action space is a 1D vector of size `count(trading_symbols) * (symbol_max_orders + 2)`. For each symbol, two types of actions can be performed, closing previous orders and placing a new order. The former is controlled by the first *symbol_max_orders* elements and the latter is controlled by the last two elements. Therefore, the action for each symbol is ***[probability of closing order 1, probability of closing order 2, ..., probability of closing order symbol_max_orders, probability of holding or creating a new order, volume of the new order]***. The last two elements specify whether to hold or place a new order and the volume of the new order (positive volume indicates buy and negative volume indicates sell). These elements are a number in range (-∞, ∞), but the probability values must be in the range [0, 1]. This is a problem with **stable-baselines** as mentioned earlier. To overcome this problem, it is assumed that the probability values belong to the [logit](https://en.wikipedia.org/wiki/Logit) function. So, applying the [expit](https://en.wikipedia.org/wiki/Expit) function on them gives the desired probability values in the range [0, 1]. This function is applied in the **step** method of the environment.\n",
    "    >\n",
    "    > `observation_space`: The *Gym observation_space* property. Each observation contains information about *balance*, *equity*, *margin*, *features*, and *orders*. The **features** is a window on the *signal_features* from index *current_tick - window_size + 1* to *current_tick*. The **orders** is a 3D array. Its first dimension specifies the symbol index in the *trading_symbols* list. The second dimension specifies the order number (each symbol can have more than one open order at the same time in hedge trading). The last dimension has three elements, *entry_price*, *volume*, and *profit* of corresponding order.\n",
    "    >\n",
    "    > `history`: Stores the information of all steps.\n",
    "\n",
    "* Methods:\n",
    "\n",
    "    > `seed`: The typical *Gym seed* method.\n",
    "    >\n",
    "    > `reset`: The typical *Gym reset* method.\n",
    "    >\n",
    "    > `step`: The typical *Gym step* method.\n",
    "    >\n",
    "    > `render`: The typical *Gym render* method. It can render in three modes, **human**, **simple_figure**, and **advanced_figure**.\n",
    "    >\n",
    "    > `close`: The typical *Gym close* method.\n",
    "\n",
    "* Virtual Methods:\n",
    "\n",
    "    > `_get_prices`: It is called in the constructor and calculates symbol **prices**.\n",
    "    >\n",
    "    > `_process_data`: It is called in the constructor and calculates **signal_features**.\n",
    "    >\n",
    "    > `_calculate_reward`: The reward function for the RL agent."
   ]
  },
  {
   "cell_type": "markdown",
   "metadata": {},
   "source": [
    "## A Simple Example"
   ]
  },
  {
   "cell_type": "markdown",
   "metadata": {},
   "source": [
    "### MtSim"
   ]
  },
  {
   "cell_type": "markdown",
   "metadata": {},
   "source": [
    "#### Create a simulator with custom parameters"
   ]
  },
  {
   "cell_type": "code",
   "execution_count": 1,
   "metadata": {},
   "outputs": [],
   "source": [
    "import pytz\n",
    "from datetime import datetime, timedelta\n",
    "from gym_mtsim import MtSimulator, OrderType, Timeframe, FOREX_DATA_PATH\n",
    "\n",
    "\n",
    "sim = MtSimulator(\n",
    "    unit='USD',\n",
    "    balance=10000.,\n",
    "    leverage=100.,\n",
    "    stop_out_level=0.2,\n",
    "    hedge=False,\n",
    ")\n",
    "\n",
    "if not sim.load_symbols(FOREX_DATA_PATH):\n",
    "    sim.download_data(\n",
    "        symbols=['EURUSD', 'GBPCAD', 'GBPUSD', 'USDCAD', 'USDCHF', 'GBPJPY', 'USDJPY'],\n",
    "        time_range=(\n",
    "            datetime(2021, 5, 5, tzinfo=pytz.UTC),\n",
    "            datetime(2021, 9, 5, tzinfo=pytz.UTC)\n",
    "        ),\n",
    "        timeframe=Timeframe.D1\n",
    "    )\n",
    "    sim.save_symbols(FOREX_DATA_PATH)"
   ]
  },
  {
   "cell_type": "markdown",
   "metadata": {},
   "source": [
    "#### Place some orders"
   ]
  },
  {
   "cell_type": "code",
   "execution_count": 2,
   "metadata": {},
   "outputs": [
    {
     "name": "stdout",
     "output_type": "stream",
     "text": [
      "balance: 10000.0, equity: 10717.58118589908, margin: 3375.480933228619\n",
      "free_margin: 7342.1002526704615, margin_level: 3.1751271592500743\n",
      "\n"
     ]
    },
    {
     "data": {
      "text/html": [
       "<div>\n",
       "<style scoped>\n",
       "    .dataframe tbody tr th:only-of-type {\n",
       "        vertical-align: middle;\n",
       "    }\n",
       "\n",
       "    .dataframe tbody tr th {\n",
       "        vertical-align: top;\n",
       "    }\n",
       "\n",
       "    .dataframe thead th {\n",
       "        text-align: right;\n",
       "    }\n",
       "</style>\n",
       "<table border=\"1\" class=\"dataframe\">\n",
       "  <thead>\n",
       "    <tr style=\"text-align: right;\">\n",
       "      <th></th>\n",
       "      <th>Id</th>\n",
       "      <th>Symbol</th>\n",
       "      <th>Type</th>\n",
       "      <th>Volume</th>\n",
       "      <th>Entry Time</th>\n",
       "      <th>Entry Price</th>\n",
       "      <th>Exit Time</th>\n",
       "      <th>Exit Price</th>\n",
       "      <th>Profit</th>\n",
       "      <th>Margin</th>\n",
       "      <th>Fee</th>\n",
       "      <th>Closed</th>\n",
       "    </tr>\n",
       "  </thead>\n",
       "  <tbody>\n",
       "    <tr>\n",
       "      <th>0</th>\n",
       "      <td>2</td>\n",
       "      <td>USDJPY</td>\n",
       "      <td>Sell</td>\n",
       "      <td>2.0</td>\n",
       "      <td>2021-09-01 00:17:52+00:00</td>\n",
       "      <td>110.02500</td>\n",
       "      <td>2021-09-06 00:17:52+00:00</td>\n",
       "      <td>109.71200</td>\n",
       "      <td>552.355257</td>\n",
       "      <td>2000.000000</td>\n",
       "      <td>0.0100</td>\n",
       "      <td>False</td>\n",
       "    </tr>\n",
       "    <tr>\n",
       "      <th>1</th>\n",
       "      <td>1</td>\n",
       "      <td>GBPCAD</td>\n",
       "      <td>Buy</td>\n",
       "      <td>1.0</td>\n",
       "      <td>2021-08-30 00:17:52+00:00</td>\n",
       "      <td>1.73389</td>\n",
       "      <td>2021-09-06 00:17:52+00:00</td>\n",
       "      <td>1.73626</td>\n",
       "      <td>165.225928</td>\n",
       "      <td>1375.480933</td>\n",
       "      <td>0.0003</td>\n",
       "      <td>False</td>\n",
       "    </tr>\n",
       "  </tbody>\n",
       "</table>\n",
       "</div>"
      ],
      "text/plain": [
       "   Id  Symbol  Type  Volume                Entry Time  Entry Price  \\\n",
       "0   2  USDJPY  Sell     2.0 2021-09-01 00:17:52+00:00    110.02500   \n",
       "1   1  GBPCAD   Buy     1.0 2021-08-30 00:17:52+00:00      1.73389   \n",
       "\n",
       "                  Exit Time  Exit Price      Profit       Margin     Fee  \\\n",
       "0 2021-09-06 00:17:52+00:00   109.71200  552.355257  2000.000000  0.0100   \n",
       "1 2021-09-06 00:17:52+00:00     1.73626  165.225928  1375.480933  0.0003   \n",
       "\n",
       "   Closed  \n",
       "0   False  \n",
       "1   False  "
      ]
     },
     "execution_count": 2,
     "metadata": {},
     "output_type": "execute_result"
    }
   ],
   "source": [
    "sim.current_time = datetime(2021, 8, 30, 0, 17, 52, tzinfo=pytz.UTC)\n",
    "\n",
    "order1 = sim.create_order(\n",
    "    order_type=OrderType.Buy,\n",
    "    symbol='GBPCAD',\n",
    "    volume=1.,\n",
    "    fee=0.0003,\n",
    ")\n",
    "\n",
    "sim.tick(timedelta(days=2))\n",
    "\n",
    "order2 = sim.create_order(\n",
    "    order_type=OrderType.Sell,\n",
    "    symbol='USDJPY',\n",
    "    volume=2.,\n",
    "    fee=0.01,\n",
    ")\n",
    "\n",
    "sim.tick(timedelta(days=5))\n",
    "\n",
    "state = sim.get_state()\n",
    "\n",
    "print(\n",
    "    f\"balance: {state['balance']}, equity: {state['equity']}, margin: {state['margin']}\\n\"\n",
    "    f\"free_margin: {state['free_margin']}, margin_level: {state['margin_level']}\\n\"\n",
    ")\n",
    "state['orders']"
   ]
  },
  {
   "cell_type": "markdown",
   "metadata": {},
   "source": [
    "#### Close all orders"
   ]
  },
  {
   "cell_type": "code",
   "execution_count": 3,
   "metadata": {},
   "outputs": [
    {
     "name": "stdout",
     "output_type": "stream",
     "text": [
      "balance: 10717.58118589908, equity: 10717.58118589908, margin: 0.0\n",
      "free_margin: 10717.58118589908, margin_level: inf\n",
      "\n"
     ]
    },
    {
     "data": {
      "text/html": [
       "<div>\n",
       "<style scoped>\n",
       "    .dataframe tbody tr th:only-of-type {\n",
       "        vertical-align: middle;\n",
       "    }\n",
       "\n",
       "    .dataframe tbody tr th {\n",
       "        vertical-align: top;\n",
       "    }\n",
       "\n",
       "    .dataframe thead th {\n",
       "        text-align: right;\n",
       "    }\n",
       "</style>\n",
       "<table border=\"1\" class=\"dataframe\">\n",
       "  <thead>\n",
       "    <tr style=\"text-align: right;\">\n",
       "      <th></th>\n",
       "      <th>Id</th>\n",
       "      <th>Symbol</th>\n",
       "      <th>Type</th>\n",
       "      <th>Volume</th>\n",
       "      <th>Entry Time</th>\n",
       "      <th>Entry Price</th>\n",
       "      <th>Exit Time</th>\n",
       "      <th>Exit Price</th>\n",
       "      <th>Profit</th>\n",
       "      <th>Margin</th>\n",
       "      <th>Fee</th>\n",
       "      <th>Closed</th>\n",
       "    </tr>\n",
       "  </thead>\n",
       "  <tbody>\n",
       "    <tr>\n",
       "      <th>0</th>\n",
       "      <td>2</td>\n",
       "      <td>USDJPY</td>\n",
       "      <td>Sell</td>\n",
       "      <td>2.0</td>\n",
       "      <td>2021-09-01 00:17:52+00:00</td>\n",
       "      <td>110.02500</td>\n",
       "      <td>2021-09-06 00:17:52+00:00</td>\n",
       "      <td>109.71200</td>\n",
       "      <td>552.355257</td>\n",
       "      <td>2000.000000</td>\n",
       "      <td>0.0100</td>\n",
       "      <td>True</td>\n",
       "    </tr>\n",
       "    <tr>\n",
       "      <th>1</th>\n",
       "      <td>1</td>\n",
       "      <td>GBPCAD</td>\n",
       "      <td>Buy</td>\n",
       "      <td>1.0</td>\n",
       "      <td>2021-08-30 00:17:52+00:00</td>\n",
       "      <td>1.73389</td>\n",
       "      <td>2021-09-06 00:17:52+00:00</td>\n",
       "      <td>1.73626</td>\n",
       "      <td>165.225928</td>\n",
       "      <td>1375.480933</td>\n",
       "      <td>0.0003</td>\n",
       "      <td>True</td>\n",
       "    </tr>\n",
       "  </tbody>\n",
       "</table>\n",
       "</div>"
      ],
      "text/plain": [
       "   Id  Symbol  Type  Volume                Entry Time  Entry Price  \\\n",
       "0   2  USDJPY  Sell     2.0 2021-09-01 00:17:52+00:00    110.02500   \n",
       "1   1  GBPCAD   Buy     1.0 2021-08-30 00:17:52+00:00      1.73389   \n",
       "\n",
       "                  Exit Time  Exit Price      Profit       Margin     Fee  \\\n",
       "0 2021-09-06 00:17:52+00:00   109.71200  552.355257  2000.000000  0.0100   \n",
       "1 2021-09-06 00:17:52+00:00     1.73626  165.225928  1375.480933  0.0003   \n",
       "\n",
       "   Closed  \n",
       "0    True  \n",
       "1    True  "
      ]
     },
     "execution_count": 3,
     "metadata": {},
     "output_type": "execute_result"
    }
   ],
   "source": [
    "order1_profit = sim.close_order(order1)\n",
    "order2_profit = sim.close_order(order2)\n",
    "\n",
    "# alternatively:\n",
    "# for order in sim.orders:\n",
    "#     sim.close_order(order)\n",
    "\n",
    "state = sim.get_state()\n",
    "\n",
    "print(\n",
    "    f\"balance: {state['balance']}, equity: {state['equity']}, margin: {state['margin']}\\n\"\n",
    "    f\"free_margin: {state['free_margin']}, margin_level: {state['margin_level']}\\n\"\n",
    ")\n",
    "state['orders']"
   ]
  },
  {
   "cell_type": "markdown",
   "metadata": {},
   "source": [
    "### MtEnv"
   ]
  },
  {
   "cell_type": "markdown",
   "metadata": {},
   "source": [
    "#### Create an environment"
   ]
  },
  {
   "cell_type": "code",
   "execution_count": 4,
   "metadata": {},
   "outputs": [],
   "source": [
    "import gym\n",
    "import gym_mtsim\n",
    "\n",
    "env = gym.make('forex-hedge-v0')\n",
    "# env = gym.make('stocks-hedge-v0')\n",
    "# env = gym.make('crypto-hedge-v0')\n",
    "# env = gym.make('mixed-hedge-v0')\n",
    "\n",
    "# env = gym.make('forex-unhedge-v0')\n",
    "# env = gym.make('stocks-unhedge-v0')\n",
    "# env = gym.make('crypto-unhedge-v0')\n",
    "# env = gym.make('mixed-unhedge-v0')"
   ]
  },
  {
   "cell_type": "markdown",
   "metadata": {},
   "source": [
    "* This will create a default environment. There are eight default environments, but it is also possible to create environments with custom parameters."
   ]
  },
  {
   "cell_type": "markdown",
   "metadata": {},
   "source": [
    "#### Create an environment with custom parameters"
   ]
  },
  {
   "cell_type": "code",
   "execution_count": 5,
   "metadata": {},
   "outputs": [],
   "source": [
    "import pytz\n",
    "from datetime import datetime, timedelta\n",
    "import numpy as np\n",
    "from gym_mtsim import MtEnv, MtSimulator, FOREX_DATA_PATH\n",
    "\n",
    "\n",
    "sim = MtSimulator(\n",
    "    unit='USD',\n",
    "    balance=10000.,\n",
    "    leverage=100.,\n",
    "    stop_out_level=0.2,\n",
    "    hedge=True,\n",
    "    symbols_filename=FOREX_DATA_PATH\n",
    ")\n",
    "\n",
    "env = MtEnv(\n",
    "    original_simulator=sim,\n",
    "    trading_symbols=['GBPCAD', 'EURUSD', 'USDJPY'],\n",
    "    window_size=10,\n",
    "    # time_points=[desired time points ...],\n",
    "    hold_threshold=0.5,\n",
    "    close_threshold=0.5,\n",
    "    fee=lambda symbol: {\n",
    "        'GBPCAD': max(0., np.random.normal(0.0007, 0.00005)),\n",
    "        'EURUSD': max(0., np.random.normal(0.0002, 0.00003)),\n",
    "        'USDJPY': max(0., np.random.normal(0.02, 0.003)),\n",
    "    }[symbol],\n",
    "    symbol_max_orders=2,\n",
    "    multiprocessing_processes=2\n",
    ")"
   ]
  },
  {
   "cell_type": "markdown",
   "metadata": {},
   "source": [
    "#### Print some information"
   ]
  },
  {
   "cell_type": "code",
   "execution_count": 6,
   "metadata": {},
   "outputs": [
    {
     "name": "stdout",
     "output_type": "stream",
     "text": [
      "env information:\n",
      "> prices[GBPCAD].shape: (88, 2)\n",
      "> prices[EURUSD].shape: (88, 2)\n",
      "> prices[USDJPY].shape: (88, 2)\n",
      "> signal_features.shape: (88, 6)\n",
      "> features_shape: (10, 6)\n"
     ]
    }
   ],
   "source": [
    "print(\"env information:\")\n",
    "\n",
    "for symbol in env.prices:\n",
    "    print(f\"> prices[{symbol}].shape:\", env.prices[symbol].shape)\n",
    "\n",
    "print(\"> signal_features.shape:\", env.signal_features.shape)\n",
    "print(\"> features_shape:\", env.features_shape)"
   ]
  },
  {
   "cell_type": "markdown",
   "metadata": {},
   "source": [
    "#### Trade randomly"
   ]
  },
  {
   "cell_type": "code",
   "execution_count": 7,
   "metadata": {},
   "outputs": [
    {
     "name": "stdout",
     "output_type": "stream",
     "text": [
      "balance: 2516.336909797761, equity: 2516.336909797761, margin: 0.0\n",
      "free_margin: 2516.336909797761, margin_level: inf\n",
      "step_reward: 0.0\n"
     ]
    }
   ],
   "source": [
    "observation = env.reset()\n",
    "\n",
    "while True:\n",
    "    action = env.action_space.sample()\n",
    "    observation, reward, done, info = env.step(action)\n",
    "\n",
    "    if done:\n",
    "        # print(info)\n",
    "        print(\n",
    "            f\"balance: {info['balance']}, equity: {info['equity']}, margin: {info['margin']}\\n\"\n",
    "            f\"free_margin: {info['free_margin']}, margin_level: {info['margin_level']}\\n\"\n",
    "            f\"step_reward: {info['step_reward']}\"\n",
    "        )\n",
    "        break"
   ]
  },
  {
   "cell_type": "markdown",
   "metadata": {},
   "source": [
    "#### Render in *human* mode"
   ]
  },
  {
   "cell_type": "code",
   "execution_count": 8,
   "metadata": {},
   "outputs": [
    {
     "name": "stdout",
     "output_type": "stream",
     "text": [
      "balance: 2516.336909797761, equity: 2516.336909797761, margin: 0.0\n",
      "free_margin: 2516.336909797761, margin_level: inf\n",
      "\n"
     ]
    },
    {
     "data": {
      "text/html": [
       "<div>\n",
       "<style scoped>\n",
       "    .dataframe tbody tr th:only-of-type {\n",
       "        vertical-align: middle;\n",
       "    }\n",
       "\n",
       "    .dataframe tbody tr th {\n",
       "        vertical-align: top;\n",
       "    }\n",
       "\n",
       "    .dataframe thead th {\n",
       "        text-align: right;\n",
       "    }\n",
       "</style>\n",
       "<table border=\"1\" class=\"dataframe\">\n",
       "  <thead>\n",
       "    <tr style=\"text-align: right;\">\n",
       "      <th></th>\n",
       "      <th>Id</th>\n",
       "      <th>Symbol</th>\n",
       "      <th>Type</th>\n",
       "      <th>Volume</th>\n",
       "      <th>Entry Time</th>\n",
       "      <th>Entry Price</th>\n",
       "      <th>Exit Time</th>\n",
       "      <th>Exit Price</th>\n",
       "      <th>Profit</th>\n",
       "      <th>Margin</th>\n",
       "      <th>Fee</th>\n",
       "      <th>Closed</th>\n",
       "    </tr>\n",
       "  </thead>\n",
       "  <tbody>\n",
       "    <tr>\n",
       "      <th>0</th>\n",
       "      <td>95</td>\n",
       "      <td>EURUSD</td>\n",
       "      <td>Buy</td>\n",
       "      <td>0.33</td>\n",
       "      <td>2021-08-30 00:00:00+00:00</td>\n",
       "      <td>1.17962</td>\n",
       "      <td>2021-09-02 00:00:00+00:00</td>\n",
       "      <td>1.18744</td>\n",
       "      <td>250.817550</td>\n",
       "      <td>389.274600</td>\n",
       "      <td>0.000219</td>\n",
       "      <td>True</td>\n",
       "    </tr>\n",
       "    <tr>\n",
       "      <th>1</th>\n",
       "      <td>96</td>\n",
       "      <td>GBPCAD</td>\n",
       "      <td>Buy</td>\n",
       "      <td>0.08</td>\n",
       "      <td>2021-08-31 00:00:00+00:00</td>\n",
       "      <td>1.73501</td>\n",
       "      <td>2021-09-02 00:00:00+00:00</td>\n",
       "      <td>1.73603</td>\n",
       "      <td>1.987448</td>\n",
       "      <td>110.029251</td>\n",
       "      <td>0.000708</td>\n",
       "      <td>True</td>\n",
       "    </tr>\n",
       "    <tr>\n",
       "      <th>2</th>\n",
       "      <td>98</td>\n",
       "      <td>USDJPY</td>\n",
       "      <td>Buy</td>\n",
       "      <td>0.20</td>\n",
       "      <td>2021-08-31 00:00:00+00:00</td>\n",
       "      <td>110.00700</td>\n",
       "      <td>2021-09-01 00:00:00+00:00</td>\n",
       "      <td>110.02500</td>\n",
       "      <td>-0.493075</td>\n",
       "      <td>200.000000</td>\n",
       "      <td>0.020713</td>\n",
       "      <td>True</td>\n",
       "    </tr>\n",
       "    <tr>\n",
       "      <th>3</th>\n",
       "      <td>97</td>\n",
       "      <td>EURUSD</td>\n",
       "      <td>Sell</td>\n",
       "      <td>1.52</td>\n",
       "      <td>2021-08-31 00:00:00+00:00</td>\n",
       "      <td>1.18083</td>\n",
       "      <td>2021-09-01 00:00:00+00:00</td>\n",
       "      <td>1.18384</td>\n",
       "      <td>-491.203089</td>\n",
       "      <td>1794.861600</td>\n",
       "      <td>0.000222</td>\n",
       "      <td>True</td>\n",
       "    </tr>\n",
       "    <tr>\n",
       "      <th>4</th>\n",
       "      <td>94</td>\n",
       "      <td>EURUSD</td>\n",
       "      <td>Buy</td>\n",
       "      <td>0.15</td>\n",
       "      <td>2021-08-27 00:00:00+00:00</td>\n",
       "      <td>1.17955</td>\n",
       "      <td>2021-08-30 00:00:00+00:00</td>\n",
       "      <td>1.17962</td>\n",
       "      <td>-1.845659</td>\n",
       "      <td>176.932500</td>\n",
       "      <td>0.000193</td>\n",
       "      <td>True</td>\n",
       "    </tr>\n",
       "    <tr>\n",
       "      <th>...</th>\n",
       "      <td>...</td>\n",
       "      <td>...</td>\n",
       "      <td>...</td>\n",
       "      <td>...</td>\n",
       "      <td>...</td>\n",
       "      <td>...</td>\n",
       "      <td>...</td>\n",
       "      <td>...</td>\n",
       "      <td>...</td>\n",
       "      <td>...</td>\n",
       "      <td>...</td>\n",
       "      <td>...</td>\n",
       "    </tr>\n",
       "    <tr>\n",
       "      <th>93</th>\n",
       "      <td>7</td>\n",
       "      <td>EURUSD</td>\n",
       "      <td>Sell</td>\n",
       "      <td>0.58</td>\n",
       "      <td>2021-05-21 00:00:00+00:00</td>\n",
       "      <td>1.21806</td>\n",
       "      <td>2021-05-24 00:00:00+00:00</td>\n",
       "      <td>1.22150</td>\n",
       "      <td>-210.698124</td>\n",
       "      <td>706.474800</td>\n",
       "      <td>0.000193</td>\n",
       "      <td>True</td>\n",
       "    </tr>\n",
       "    <tr>\n",
       "      <th>94</th>\n",
       "      <td>5</td>\n",
       "      <td>EURUSD</td>\n",
       "      <td>Sell</td>\n",
       "      <td>0.08</td>\n",
       "      <td>2021-05-20 00:00:00+00:00</td>\n",
       "      <td>1.22269</td>\n",
       "      <td>2021-05-24 00:00:00+00:00</td>\n",
       "      <td>1.22150</td>\n",
       "      <td>8.078541</td>\n",
       "      <td>97.815200</td>\n",
       "      <td>0.000180</td>\n",
       "      <td>True</td>\n",
       "    </tr>\n",
       "    <tr>\n",
       "      <th>95</th>\n",
       "      <td>4</td>\n",
       "      <td>USDJPY</td>\n",
       "      <td>Buy</td>\n",
       "      <td>0.44</td>\n",
       "      <td>2021-05-19 00:00:00+00:00</td>\n",
       "      <td>109.22700</td>\n",
       "      <td>2021-05-20 00:00:00+00:00</td>\n",
       "      <td>108.76700</td>\n",
       "      <td>-195.343675</td>\n",
       "      <td>440.000000</td>\n",
       "      <td>0.022885</td>\n",
       "      <td>True</td>\n",
       "    </tr>\n",
       "    <tr>\n",
       "      <th>96</th>\n",
       "      <td>3</td>\n",
       "      <td>EURUSD</td>\n",
       "      <td>Sell</td>\n",
       "      <td>2.07</td>\n",
       "      <td>2021-05-19 00:00:00+00:00</td>\n",
       "      <td>1.21744</td>\n",
       "      <td>2021-05-20 00:00:00+00:00</td>\n",
       "      <td>1.22269</td>\n",
       "      <td>-1138.874946</td>\n",
       "      <td>2520.100800</td>\n",
       "      <td>0.000252</td>\n",
       "      <td>True</td>\n",
       "    </tr>\n",
       "    <tr>\n",
       "      <th>97</th>\n",
       "      <td>1</td>\n",
       "      <td>EURUSD</td>\n",
       "      <td>Sell</td>\n",
       "      <td>0.14</td>\n",
       "      <td>2021-05-18 00:00:00+00:00</td>\n",
       "      <td>1.22219</td>\n",
       "      <td>2021-05-19 00:00:00+00:00</td>\n",
       "      <td>1.21744</td>\n",
       "      <td>63.275630</td>\n",
       "      <td>171.106600</td>\n",
       "      <td>0.000230</td>\n",
       "      <td>True</td>\n",
       "    </tr>\n",
       "  </tbody>\n",
       "</table>\n",
       "<p>98 rows × 12 columns</p>\n",
       "</div>"
      ],
      "text/plain": [
       "    Id  Symbol  Type  Volume                Entry Time  Entry Price  \\\n",
       "0   95  EURUSD   Buy    0.33 2021-08-30 00:00:00+00:00      1.17962   \n",
       "1   96  GBPCAD   Buy    0.08 2021-08-31 00:00:00+00:00      1.73501   \n",
       "2   98  USDJPY   Buy    0.20 2021-08-31 00:00:00+00:00    110.00700   \n",
       "3   97  EURUSD  Sell    1.52 2021-08-31 00:00:00+00:00      1.18083   \n",
       "4   94  EURUSD   Buy    0.15 2021-08-27 00:00:00+00:00      1.17955   \n",
       "..  ..     ...   ...     ...                       ...          ...   \n",
       "93   7  EURUSD  Sell    0.58 2021-05-21 00:00:00+00:00      1.21806   \n",
       "94   5  EURUSD  Sell    0.08 2021-05-20 00:00:00+00:00      1.22269   \n",
       "95   4  USDJPY   Buy    0.44 2021-05-19 00:00:00+00:00    109.22700   \n",
       "96   3  EURUSD  Sell    2.07 2021-05-19 00:00:00+00:00      1.21744   \n",
       "97   1  EURUSD  Sell    0.14 2021-05-18 00:00:00+00:00      1.22219   \n",
       "\n",
       "                   Exit Time  Exit Price       Profit       Margin       Fee  \\\n",
       "0  2021-09-02 00:00:00+00:00     1.18744   250.817550   389.274600  0.000219   \n",
       "1  2021-09-02 00:00:00+00:00     1.73603     1.987448   110.029251  0.000708   \n",
       "2  2021-09-01 00:00:00+00:00   110.02500    -0.493075   200.000000  0.020713   \n",
       "3  2021-09-01 00:00:00+00:00     1.18384  -491.203089  1794.861600  0.000222   \n",
       "4  2021-08-30 00:00:00+00:00     1.17962    -1.845659   176.932500  0.000193   \n",
       "..                       ...         ...          ...          ...       ...   \n",
       "93 2021-05-24 00:00:00+00:00     1.22150  -210.698124   706.474800  0.000193   \n",
       "94 2021-05-24 00:00:00+00:00     1.22150     8.078541    97.815200  0.000180   \n",
       "95 2021-05-20 00:00:00+00:00   108.76700  -195.343675   440.000000  0.022885   \n",
       "96 2021-05-20 00:00:00+00:00     1.22269 -1138.874946  2520.100800  0.000252   \n",
       "97 2021-05-19 00:00:00+00:00     1.21744    63.275630   171.106600  0.000230   \n",
       "\n",
       "    Closed  \n",
       "0     True  \n",
       "1     True  \n",
       "2     True  \n",
       "3     True  \n",
       "4     True  \n",
       "..     ...  \n",
       "93    True  \n",
       "94    True  \n",
       "95    True  \n",
       "96    True  \n",
       "97    True  \n",
       "\n",
       "[98 rows x 12 columns]"
      ]
     },
     "execution_count": 8,
     "metadata": {},
     "output_type": "execute_result"
    }
   ],
   "source": [
    "state = env.render()\n",
    "\n",
    "print(\n",
    "    f\"balance: {state['balance']}, equity: {state['equity']}, margin: {state['margin']}\\n\"\n",
    "    f\"free_margin: {state['free_margin']}, margin_level: {state['margin_level']}\\n\"\n",
    ")\n",
    "state['orders']"
   ]
  },
  {
   "cell_type": "markdown",
   "metadata": {},
   "source": [
    "#### Render in *simple_figure* mode\n",
    "\n",
    "* Each *symbol* is illustrated with a separate color.\n",
    "* The **green**/**red** triangles show successful **buy**/**sell** actions.\n",
    "* The **gray** triangles indicate that the **buy**/**sell** action has encountered an **error**.\n",
    "* The **black** vertical bars specify **close** actions."
   ]
  },
  {
   "cell_type": "code",
   "execution_count": 9,
   "metadata": {},
   "outputs": [
    {
     "name": "stderr",
     "output_type": "stream",
     "text": [
      "d:\\Programming\\gym-mtsim\\venv\\lib\\site-packages\\matplotlib\\axis.py:125: FutureWarning: elementwise comparison failed; returning scalar instead, but in the future will perform elementwise comparison\n",
      "  if labelcolor == 'inherit':\n"
     ]
    },
    {
     "data": {
      "image/png": "[encoded data removed]",
      "text/plain": [
       "<Figure size 1008x432 with 3 Axes>"
      ]
     },
     "metadata": {},
     "output_type": "display_data"
    }
   ],
   "source": [
    "env.render('simple_figure')"
   ]
  },
  {
   "cell_type": "markdown",
   "metadata": {},
   "source": [
    "#### Render in *advanced_figure* mode\n",
    "\n",
    "* Clicking on a symbol name will hide/show its plot.\n",
    "* Hovering over points and markers will display their detail.\n",
    "* The size of triangles indicates their relative volume."
   ]
  },
  {
   "cell_type": "code",
   "execution_count": 10,
   "metadata": {},
   "outputs": [
    {
     "data": {
      "application/vnd.plotly.v1+json": {
       "config": {
        "plotlyServerURL": "https://plot.ly"
       },
       "data": [
        {
         "hovertext": [
          "balance: 10000.000000 USD<br>equity: 10000.000000<br>margin: 0.000000<br>free margin: 10000.000000<br>margin level: inf",
          "balance: 10000.000000 USD<br>equity: 10000.000000<br>margin: 0.000000<br>free margin: 10000.000000<br>margin level: inf",
          "balance: 10000.000000 USD<br>equity: 10000.000000<br>margin: 0.000000<br>free margin: 10000.000000<br>margin level: inf",
          "balance: 10000.000000 USD<br>equity: 10000.000000<br>margin: 0.000000<br>free margin: 10000.000000<br>margin level: inf",
          "balance: 10000.000000 USD<br>equity: 10000.000000<br>margin: 0.000000<br>free margin: 10000.000000<br>margin level: inf",
          "balance: 10000.000000 USD<br>equity: 10000.000000<br>margin: 0.000000<br>free margin: 10000.000000<br>margin level: inf",
          "balance: 10000.000000 USD<br>equity: 10000.000000<br>margin: 0.000000<br>free margin: 10000.000000<br>margin level: inf",
          "balance: 10000.000000 USD<br>equity: 10000.000000<br>margin: 0.000000<br>free margin: 10000.000000<br>margin level: inf",
          "balance: 10000.000000 USD<br>equity: 10000.000000<br>margin: 0.000000<br>free margin: 10000.000000<br>margin level: inf",
          "balance: 10000.000000 USD<br>equity: 10000.000000<br>margin: 0.000000<br>free margin: 10000.000000<br>margin level: inf",
          "balance: 10000.000000 USD<br>equity: 10063.275630<br>margin: 171.106600<br>free margin: 9892.169030<br>margin level: 58.812902",
          "balance: 10063.275630 USD<br>equity: 8652.167329<br>margin: 3566.986769<br>free margin: 5085.180560<br>margin level: 2.425624",
          "balance: 8729.057009 USD<br>equity: 8565.200901<br>margin: 704.701169<br>free margin: 7860.499732<br>margin level: 12.154373",
          "balance: 8729.057009 USD<br>equity: 8209.931099<br>margin: 1481.928559<br>free margin: 6728.002540<br>margin level: 5.540032",
          "balance: 8526.437425 USD<br>equity: 8406.432302<br>margin: 1080.733559<br>free margin: 7325.698743<br>margin level: 7.778450",
          "balance: 8526.437425 USD<br>equity: 8387.624859<br>margin: 1080.733559<br>free margin: 7306.891300<br>margin level: 7.761048",
          "balance: 8375.301070 USD<br>equity: 8085.574406<br>margin: 570.752590<br>free margin: 7514.821815<br>margin level: 14.166514",
          "balance: 8062.585800 USD<br>equity: 7999.195855<br>margin: 2132.890781<br>free margin: 5866.305075<br>margin level: 3.750401",
          "balance: 7975.773557 USD<br>equity: 8356.718089<br>margin: 4687.444352<br>free margin: 3669.273738<br>margin level: 1.782788",
          "balance: 7975.773557 USD<br>equity: 9194.899731<br>margin: 5576.419352<br>free margin: 3618.480380<br>margin level: 1.648890",
          "balance: 7932.320011 USD<br>equity: 9661.788546<br>margin: 5477.444352<br>free margin: 4184.344195<br>margin level: 1.763923",
          "balance: 9680.259906 USD<br>equity: 9267.253427<br>margin: 977.429535<br>free margin: 8289.823892<br>margin level: 9.481250",
          "balance: 9333.927006 USD<br>equity: 11010.688124<br>margin: 6027.443421<br>free margin: 4983.244703<br>margin level: 1.826759",
          "balance: 9794.961017 USD<br>equity: 11920.025782<br>margin: 6665.050043<br>free margin: 5254.975739<br>margin level: 1.788438",
          "balance: 10357.979096 USD<br>equity: 11308.183155<br>margin: 4783.662500<br>free margin: 6524.520655<br>margin level: 2.363917",
          "balance: 11711.899391 USD<br>equity: 11127.034696<br>margin: 1580.000000<br>free margin: 9547.034696<br>margin level: 7.042427",
          "balance: 11711.899391 USD<br>equity: 12086.213048<br>margin: 3808.323100<br>free margin: 8277.889948<br>margin level: 3.173631",
          "balance: 12086.213048 USD<br>equity: 11118.859247<br>margin: 2041.914800<br>free margin: 9076.944447<br>margin level: 5.445310",
          "balance: 12086.213048 USD<br>equity: 10581.328131<br>margin: 4251.914800<br>free margin: 6329.413331<br>margin level: 2.488603",
          "balance: 11422.263692 USD<br>equity: 10514.414353<br>margin: 3637.795627<br>free margin: 6876.618726<br>margin level: 2.890326",
          "balance: 10542.232696 USD<br>equity: 11917.058483<br>margin: 3487.847743<br>free margin: 8429.210739<br>margin level: 3.416737",
          "balance: 11461.784930 USD<br>equity: 11560.721475<br>margin: 847.964091<br>free margin: 10712.757384<br>margin level: 13.633504",
          "balance: 11560.721475 USD<br>equity: 12412.750730<br>margin: 3741.380000<br>free margin: 8671.370730<br>margin level: 3.317693",
          "balance: 12450.450465 USD<br>equity: 12278.397353<br>margin: 4562.871570<br>free margin: 7715.525783<br>margin level: 2.690936",
          "balance: 12189.078912 USD<br>equity: 12575.496234<br>margin: 1955.925000<br>free margin: 10619.571234<br>margin level: 6.429437",
          "balance: 12063.675358 USD<br>equity: 12527.339375<br>margin: 4098.114035<br>free margin: 8429.225340<br>margin level: 3.056855",
          "balance: 11909.223655 USD<br>equity: 12708.303983<br>margin: 3047.279635<br>free margin: 9661.024347<br>margin level: 4.170377",
          "balance: 12684.996825 USD<br>equity: 13467.889247<br>margin: 1687.279635<br>free margin: 11780.609612<br>margin level: 7.982014",
          "balance: 12684.996825 USD<br>equity: 13024.965858<br>margin: 2227.279635<br>free margin: 10797.686223<br>margin level: 5.847926",
          "balance: 12757.471678 USD<br>equity: 12739.649870<br>margin: 1687.279635<br>free margin: 11052.370234<br>margin level: 7.550408",
          "balance: 12739.649870 USD<br>equity: 12663.448454<br>margin: 746.983162<br>free margin: 11916.465292<br>margin level: 16.952790",
          "balance: 12663.448454 USD<br>equity: 12663.448454<br>margin: 0.000000<br>free margin: 12663.448454<br>margin level: inf",
          "balance: 12663.448454 USD<br>equity: 12755.203704<br>margin: 853.178400<br>free margin: 11902.025304<br>margin level: 14.950219",
          "balance: 12663.448454 USD<br>equity: 12744.281556<br>margin: 4047.475556<br>free margin: 8696.806000<br>margin level: 3.148699",
          "balance: 12785.787942 USD<br>equity: 10707.323236<br>margin: 3641.007795<br>free margin: 7066.315441<br>margin level: 2.940758",
          "balance: 10707.323236 USD<br>equity: 10707.323236<br>margin: 0.000000<br>free margin: 10707.323236<br>margin level: inf",
          "balance: 10707.323236 USD<br>equity: 10115.983810<br>margin: 1226.191200<br>free margin: 8889.792610<br>margin level: 8.249924",
          "balance: 10115.983810 USD<br>equity: 9909.880023<br>margin: 610.000000<br>free margin: 9299.880023<br>margin level: 16.245705",
          "balance: 9909.880023 USD<br>equity: 9841.028298<br>margin: 427.586400<br>free margin: 9413.441898<br>margin level: 23.015298",
          "balance: 9909.880023 USD<br>equity: 9487.677296<br>margin: 2459.731085<br>free margin: 7027.946212<br>margin level: 3.857201",
          "balance: 9397.831755 USD<br>equity: 9739.989645<br>margin: 660.466600<br>free margin: 9079.523045<br>margin level: 14.747134",
          "balance: 9422.447296 USD<br>equity: 9460.683862<br>margin: 2033.146600<br>free margin: 7427.537262<br>margin level: 4.653223",
          "balance: 9460.683862 USD<br>equity: 8553.941915<br>margin: 5656.204516<br>free margin: 2897.737399<br>margin level: 1.512311",
          "balance: 9706.469959 USD<br>equity: 10145.692219<br>margin: 5079.976413<br>free margin: 5065.715807<br>margin level: 1.997193",
          "balance: 9706.469959 USD<br>equity: 6026.061219<br>margin: 5759.976413<br>free margin: 266.084807<br>margin level: 1.046195",
          "balance: 9939.919058 USD<br>equity: 4187.060887<br>margin: 5519.976413<br>free margin: -1332.915526<br>margin level: 0.758529",
          "balance: 4371.175961 USD<br>equity: 4285.282514<br>margin: 729.481200<br>free margin: 3555.801314<br>margin level: 5.874425",
          "balance: 4419.181431 USD<br>equity: 4018.405788<br>margin: 1778.826100<br>free margin: 2239.579688<br>margin level: 2.259021",
          "balance: 4305.969586 USD<br>equity: 4064.558218<br>margin: 2614.808601<br>free margin: 1449.749617<br>margin level: 1.554438",
          "balance: 4064.558218 USD<br>equity: 4627.572479<br>margin: 2081.107400<br>free margin: 2546.465079<br>margin level: 2.223611",
          "balance: 4506.632617 USD<br>equity: 4942.774780<br>margin: 1717.589794<br>free margin: 3225.184986<br>margin level: 2.877739",
          "balance: 4573.067125 USD<br>equity: 4635.463810<br>margin: 3896.239200<br>free margin: 739.224610<br>margin level: 1.189728",
          "balance: 4649.406235 USD<br>equity: 4759.663810<br>margin: 3596.239200<br>free margin: 1163.424610<br>margin level: 1.323511",
          "balance: 5369.246097 USD<br>equity: 4661.598215<br>margin: 2875.131800<br>free margin: 1786.466415<br>margin level: 1.621351",
          "balance: 5188.020502 USD<br>equity: 4669.585700<br>margin: 4006.763800<br>free margin: 662.821900<br>margin level: 1.165426",
          "balance: 5188.020502 USD<br>equity: 4703.130189<br>margin: 4605.085672<br>free margin: 98.044517<br>margin level: 1.021290",
          "balance: 5188.020502 USD<br>equity: 4709.752772<br>margin: 4605.085672<br>free margin: 104.667100<br>margin level: 1.022729",
          "balance: 5376.378215 USD<br>equity: 3407.868085<br>margin: 2804.258072<br>free margin: 603.610013<br>margin level: 1.215248",
          "balance: 5376.378215 USD<br>equity: 2909.687309<br>margin: 2970.759541<br>free margin: -61.072233<br>margin level: 0.979442",
          "balance: 3049.471056 USD<br>equity: 2465.076808<br>margin: 1058.321872<br>free margin: 1406.754936<br>margin level: 2.329232",
          "balance: 2465.076808 USD<br>equity: 2486.032447<br>margin: 152.363900<br>free margin: 2333.668547<br>margin level: 16.316414",
          "balance: 2465.076808 USD<br>equity: 2829.562287<br>margin: 2051.291557<br>free margin: 778.270729<br>margin level: 1.379405",
          "balance: 2829.562287 USD<br>equity: 4446.117043<br>margin: 2686.358400<br>free margin: 1759.758643<br>margin level: 1.655072",
          "balance: 4446.117043 USD<br>equity: 4074.200041<br>margin: 1100.000000<br>free margin: 2974.200041<br>margin level: 3.703818",
          "balance: 4446.117043 USD<br>equity: 4263.470017<br>margin: 1590.000000<br>free margin: 2673.470017<br>margin level: 2.681428",
          "balance: 4263.470017 USD<br>equity: 4274.517930<br>margin: 1498.636800<br>free margin: 2775.881130<br>margin level: 2.852271",
          "balance: 4274.517930 USD<br>equity: 4274.517930<br>margin: 0.000000<br>free margin: 4274.517930<br>margin level: inf",
          "balance: 4274.517930 USD<br>equity: 4241.736664<br>margin: 815.026800<br>free margin: 3426.709864<br>margin level: 5.204414",
          "balance: 4241.736664 USD<br>equity: 2828.271922<br>margin: 2209.800892<br>free margin: 618.471030<br>margin level: 1.279876",
          "balance: 4012.162506 USD<br>equity: 2103.854054<br>margin: 2428.220092<br>free margin: -324.366038<br>margin level: 0.866418",
          "balance: 3987.667541 USD<br>equity: 2560.815599<br>margin: 1648.220092<br>free margin: 912.595506<br>margin level: 1.553685",
          "balance: 3987.667541 USD<br>equity: 3160.294167<br>margin: 2283.886492<br>free margin: 876.407675<br>margin level: 1.383735",
          "balance: 3987.667541 USD<br>equity: 2691.063429<br>margin: 2283.886492<br>free margin: 407.176936<br>margin level: 1.178282",
          "balance: 2827.379037 USD<br>equity: 2755.228075<br>margin: 2573.513432<br>free margin: 181.714643<br>margin level: 1.070610",
          "balance: 2755.228075 USD<br>equity: 2787.915625<br>margin: 389.274600<br>free margin: 2398.641025<br>margin level: 7.161823",
          "balance: 2755.228075 USD<br>equity: 2405.451245<br>margin: 2494.165451<br>free margin: -88.714206<br>margin level: 0.964431",
          "balance: 2263.531912 USD<br>equity: 2516.336910<br>margin: 499.303851<br>free margin: 2017.033059<br>margin level: 5.039691",
          "balance: 2516.336910 USD<br>equity: 2516.336910<br>margin: 0.000000<br>free margin: 2516.336910<br>margin level: inf"
         ],
         "legendgroup": "g1",
         "line": {
          "color": "rgba(0.12156862745098039, 0.4666666666666667, 0.7058823529411765, 1.0)"
         },
         "mode": "lines+markers",
         "name": "GBPCAD",
         "opacity": 1,
         "type": "scatter",
         "x": [
          "2021-05-05T00:00:00+00:00",
          "2021-05-06T00:00:00+00:00",
          "2021-05-07T00:00:00+00:00",
          "2021-05-10T00:00:00+00:00",
          "2021-05-11T00:00:00+00:00",
          "2021-05-12T00:00:00+00:00",
          "2021-05-13T00:00:00+00:00",
          "2021-05-14T00:00:00+00:00",
          "2021-05-17T00:00:00+00:00",
          "2021-05-18T00:00:00+00:00",
          "2021-05-19T00:00:00+00:00",
          "2021-05-20T00:00:00+00:00",
          "2021-05-21T00:00:00+00:00",
          "2021-05-24T00:00:00+00:00",
          "2021-05-25T00:00:00+00:00",
          "2021-05-26T00:00:00+00:00",
          "2021-05-27T00:00:00+00:00",
          "2021-05-28T00:00:00+00:00",
          "2021-05-31T00:00:00+00:00",
          "2021-06-01T00:00:00+00:00",
          "2021-06-02T00:00:00+00:00",
          "2021-06-03T00:00:00+00:00",
          "2021-06-04T00:00:00+00:00",
          "2021-06-07T00:00:00+00:00",
          "2021-06-08T00:00:00+00:00",
          "2021-06-09T00:00:00+00:00",
          "2021-06-10T00:00:00+00:00",
          "2021-06-11T00:00:00+00:00",
          "2021-06-14T00:00:00+00:00",
          "2021-06-15T00:00:00+00:00",
          "2021-06-16T00:00:00+00:00",
          "2021-06-17T00:00:00+00:00",
          "2021-06-18T00:00:00+00:00",
          "2021-06-21T00:00:00+00:00",
          "2021-06-22T00:00:00+00:00",
          "2021-06-23T00:00:00+00:00",
          "2021-06-24T00:00:00+00:00",
          "2021-06-25T00:00:00+00:00",
          "2021-06-28T00:00:00+00:00",
          "2021-06-29T00:00:00+00:00",
          "2021-06-30T00:00:00+00:00",
          "2021-07-01T00:00:00+00:00",
          "2021-07-02T00:00:00+00:00",
          "2021-07-05T00:00:00+00:00",
          "2021-07-06T00:00:00+00:00",
          "2021-07-07T00:00:00+00:00",
          "2021-07-08T00:00:00+00:00",
          "2021-07-09T00:00:00+00:00",
          "2021-07-12T00:00:00+00:00",
          "2021-07-13T00:00:00+00:00",
          "2021-07-14T00:00:00+00:00",
          "2021-07-15T00:00:00+00:00",
          "2021-07-16T00:00:00+00:00",
          "2021-07-19T00:00:00+00:00",
          "2021-07-20T00:00:00+00:00",
          "2021-07-21T00:00:00+00:00",
          "2021-07-22T00:00:00+00:00",
          "2021-07-23T00:00:00+00:00",
          "2021-07-26T00:00:00+00:00",
          "2021-07-27T00:00:00+00:00",
          "2021-07-28T00:00:00+00:00",
          "2021-07-29T00:00:00+00:00",
          "2021-07-30T00:00:00+00:00",
          "2021-08-02T00:00:00+00:00",
          "2021-08-03T00:00:00+00:00",
          "2021-08-04T00:00:00+00:00",
          "2021-08-05T00:00:00+00:00",
          "2021-08-06T00:00:00+00:00",
          "2021-08-09T00:00:00+00:00",
          "2021-08-10T00:00:00+00:00",
          "2021-08-11T00:00:00+00:00",
          "2021-08-12T00:00:00+00:00",
          "2021-08-13T00:00:00+00:00",
          "2021-08-16T00:00:00+00:00",
          "2021-08-17T00:00:00+00:00",
          "2021-08-18T00:00:00+00:00",
          "2021-08-19T00:00:00+00:00",
          "2021-08-20T00:00:00+00:00",
          "2021-08-23T00:00:00+00:00",
          "2021-08-24T00:00:00+00:00",
          "2021-08-25T00:00:00+00:00",
          "2021-08-26T00:00:00+00:00",
          "2021-08-27T00:00:00+00:00",
          "2021-08-30T00:00:00+00:00",
          "2021-08-31T00:00:00+00:00",
          "2021-09-01T00:00:00+00:00",
          "2021-09-02T00:00:00+00:00",
          "2021-09-03T00:00:00+00:00"
         ],
         "y": [
          1.70525,
          1.68648,
          1.69619,
          1.7070699999999999,
          1.71108,
          1.70468,
          1.7082899999999999,
          1.70635,
          1.7059199999999999,
          1.71128,
          1.71211,
          1.7107,
          1.70726,
          1.7044000000000001,
          1.7066,
          1.71089,
          1.71345,
          1.71356,
          1.7132399999999999,
          1.70755,
          1.70462,
          1.7068400000000001,
          1.70999,
          1.71255,
          1.7139199999999999,
          1.70927,
          1.71433,
          1.71691,
          1.71341,
          1.71492,
          1.71638,
          1.71949,
          1.72017,
          1.72173,
          1.7158099999999998,
          1.7177,
          1.7149299999999998,
          1.70721,
          1.71244,
          1.71535,
          1.71437,
          1.71059,
          1.70511,
          1.70716,
          1.71879,
          1.72167,
          1.72692,
          1.7307000000000001,
          1.72832,
          1.72767,
          1.73236,
          1.7407,
          1.73684,
          1.74244,
          1.7273800000000001,
          1.72183,
          1.72851,
          1.72728,
          1.73336,
          1.7481900000000001,
          1.7405300000000001,
          1.73688,
          1.73335,
          1.73577,
          1.7441499999999999,
          1.7412999999999998,
          1.7408299999999999,
          1.7419799999999999,
          1.7408000000000001,
          1.7316500000000001,
          1.73282,
          1.72889,
          1.7357200000000002,
          1.7402199999999999,
          1.7349700000000001,
          1.74061,
          1.74874,
          1.7468,
          1.73506,
          1.72784,
          1.73259,
          1.7377,
          1.7353399999999999,
          1.7338900000000002,
          1.73501,
          1.7372800000000002,
          1.73603,
          1.7362600000000001
         ],
         "yaxis": "y"
        },
        {
         "hovertext": [
          "order id: 2<br>hold probability: 0.3852<br>hold: False<br>volume: 0.430665<br>modified volume: 0.4300<br>fee: 0.000746<br>margin: 606.885969<br>error: ",
          "order id: 6<br>hold probability: 0.2986<br>hold: False<br>volume: 0.049199<br>modified volume: 0.0500<br>fee: 0.000642<br>margin: 70.752590<br>error: ",
          "order id: <br>hold probability: 0.0835<br>hold: False<br>volume: -0.885282<br>modified volume: 0.8900<br>fee: nan<br>margin: nan<br>error: cannot add more orders",
          "order id: 10<br>hold probability: 0.0661<br>hold: False<br>volume: -1.041560<br>modified volume: 1.0400<br>fee: 0.000605<br>margin: 1476.854990<br>error: ",
          "order id: 12<br>hold probability: 0.3278<br>hold: False<br>volume: -2.183153<br>modified volume: 2.1800<br>fee: 0.000655<br>margin: 3092.991762<br>error: ",
          "order id: <br>hold probability: 0.1988<br>hold: False<br>volume: 2.176678<br>modified volume: 2.1800<br>fee: nan<br>margin: nan<br>error: cannot add more orders",
          "order id: <br>hold probability: 0.1748<br>hold: False<br>volume: -0.255900<br>modified volume: 0.2600<br>fee: nan<br>margin: nan<br>error: cannot add more orders",
          "order id: 17<br>hold probability: 0.3579<br>hold: False<br>volume: -0.278256<br>modified volume: 0.2800<br>fee: 0.000662<br>margin: 396.676945<br>error: ",
          "order id: 18<br>hold probability: 0.3021<br>hold: False<br>volume: 2.256742<br>modified volume: 2.2600<br>fee: 0.000687<br>margin: 3186.796976<br>error: ",
          "order id: 21<br>hold probability: 0.3734<br>hold: False<br>volume: 2.699925<br>modified volume: 2.7000<br>fee: 0.000859<br>margin: 3824.403598<br>error: ",
          "order id: 29<br>hold probability: 0.3865<br>hold: False<br>volume: -0.718002<br>modified volume: 0.7200<br>fee: 0.000754<br>margin: 1015.880827<br>error: ",
          "order id: 31<br>hold probability: 0.4880<br>hold: False<br>volume: 1.317293<br>modified volume: 1.3200<br>fee: 0.000666<br>margin: 1858.137343<br>error: ",
          "order id: 34<br>hold probability: 0.2798<br>hold: False<br>volume: 0.018933<br>modified volume: 0.0200<br>fee: 0.000664<br>margin: 27.964091<br>error: ",
          "order id: 37<br>hold probability: 0.1418<br>hold: False<br>volume: 1.781360<br>modified volume: 1.7800<br>fee: 0.000711<br>margin: 2455.710470<br>error: ",
          "order id: 40<br>hold probability: 0.2983<br>hold: False<br>volume: -1.211210<br>modified volume: 1.2100<br>fee: 0.000643<br>margin: 1687.279635<br>error: ",
          "order id: 43<br>hold probability: 0.3473<br>hold: False<br>volume: 0.535803<br>modified volume: 0.5400<br>fee: 0.000769<br>margin: 746.983162<br>error: ",
          "order id: 45<br>hold probability: 0.3510<br>hold: False<br>volume: 0.758908<br>modified volume: 0.7600<br>fee: 0.000725<br>margin: 1051.222156<br>error: ",
          "order id: 48<br>hold probability: 0.2792<br>hold: False<br>volume: -1.560847<br>modified volume: 1.5600<br>fee: 0.000618<br>margin: 2157.932795<br>error: ",
          "order id: 52<br>hold probability: 0.3366<br>hold: False<br>volume: 1.372848<br>modified volume: 1.3700<br>fee: 0.000633<br>margin: 1901.678085<br>error: ",
          "order id: 56<br>hold probability: 0.3594<br>hold: False<br>volume: 3.173562<br>modified volume: 3.1700<br>fee: 0.000727<br>margin: 4381.710116<br>error: ",
          "order id: 59<br>hold probability: 0.2646<br>hold: False<br>volume: 0.499976<br>modified volume: 0.5000<br>fee: 0.000672<br>margin: 688.266297<br>error: ",
          "order id: <br>hold probability: 0.4297<br>hold: False<br>volume: 0.129139<br>modified volume: 0.1300<br>fee: nan<br>margin: nan<br>error: cannot add more orders",
          "order id: 65<br>hold probability: 0.3599<br>hold: False<br>volume: 0.781546<br>modified volume: 0.7800<br>fee: 0.000700<br>margin: 1073.412100<br>error: ",
          "order id: 67<br>hold probability: 0.4979<br>hold: False<br>volume: 0.519154<br>modified volume: 0.5200<br>fee: 0.000723<br>margin: 714.808601<br>error: ",
          "order id: 71<br>hold probability: 0.3931<br>hold: False<br>volume: -0.116479<br>modified volume: 0.1200<br>fee: 0.000726<br>margin: 166.482394<br>error: ",
          "order id: 76<br>hold probability: 0.4157<br>hold: False<br>volume: 0.434322<br>modified volume: 0.4300<br>fee: 0.000739<br>margin: 598.321872<br>error: ",
          "order id: <br>hold probability: 0.3898<br>hold: False<br>volume: -0.666372<br>modified volume: 0.6700<br>fee: nan<br>margin: nan<br>error: low free margin (order margin=930.3596491228069, order profit=-37.09034905763259, free margin=98.0445168000615)",
          "order id: 78<br>hold probability: 0.4588<br>hold: False<br>volume: -0.116291<br>modified volume: 0.1200<br>fee: 0.000643<br>margin: 166.501470<br>error: ",
          "order id: <br>hold probability: 0.4276<br>hold: False<br>volume: 0.164858<br>modified volume: 0.1600<br>fee: nan<br>margin: nan<br>error: low free margin (order margin=221.45117432855758, order profit=-8.531727616985851, free margin=105.42923701828977)",
          "order id: 81<br>hold probability: 0.2572<br>hold: False<br>volume: -1.366348<br>modified volume: 1.3700<br>fee: 0.000681<br>margin: 1898.927657<br>error: ",
          "order id: <br>hold probability: 0.3504<br>hold: False<br>volume: -1.296163<br>modified volume: 1.3000<br>fee: nan<br>margin: nan<br>error: low free margin (order margin=1803.114886408132, order profit=-68.98829109347942, free margin=1759.7586428967588)",
          "order id: 89<br>hold probability: 0.3839<br>hold: False<br>volume: 1.214909<br>modified volume: 1.2100<br>fee: 0.000636<br>margin: 1648.220092<br>error: ",
          "order id: <br>hold probability: 0.3706<br>hold: False<br>volume: -1.106087<br>modified volume: 1.1100<br>fee: nan<br>margin: nan<br>error: low free margin (order margin=1527.5901537777213, order profit=-61.98483262299087, free margin=912.5955061345298)",
          "order id: 93<br>hold probability: 0.4321<br>hold: False<br>volume: -1.280295<br>modified volume: 1.2800<br>fee: 0.000763<br>margin: 1760.914532<br>error: ",
          "order id: 96<br>hold probability: 0.2096<br>hold: False<br>volume: 0.076913<br>modified volume: 0.0800<br>fee: 0.000708<br>margin: 110.029251<br>error: "
         ],
         "legendgroup": "g1",
         "marker": {
          "color": [
           "green",
           "green",
           "gray",
           "red",
           "red",
           "gray",
           "gray",
           "red",
           "green",
           "green",
           "red",
           "green",
           "green",
           "green",
           "red",
           "green",
           "green",
           "red",
           "green",
           "green",
           "green",
           "gray",
           "green",
           "green",
           "red",
           "green",
           "gray",
           "red",
           "gray",
           "red",
           "gray",
           "green",
           "gray",
           "red",
           "green"
          ],
          "size": [
           10.984227129337539,
           8.347003154574132,
           14.176656151419559,
           15.217665615141957,
           23.12933753943218,
           23.12933753943218,
           9.804416403785488,
           9.943217665615142,
           23.68454258675079,
           26.738170347003155,
           12.996845425867509,
           17.160883280757098,
           8.138801261829652,
           20.353312302839118,
           16.397476340694006,
           11.747634069400632,
           13.274447949526813,
           18.826498422712934,
           17.50788643533123,
           30,
           11.470031545741325,
           8.902208201892744,
           13.413249211356467,
           11.608832807570979,
           8.832807570977918,
           10.984227129337539,
           12.649842271293377,
           8.832807570977918,
           9.110410094637224,
           17.50788643533123,
           17.022082018927446,
           16.397476340694006,
           15.703470031545741,
           16.883280757097793,
           8.555205047318612
          ],
          "symbol": [
           "triangle-up",
           "triangle-up",
           "triangle-down",
           "triangle-down",
           "triangle-down",
           "triangle-down",
           "triangle-down",
           "triangle-down",
           "triangle-up",
           "triangle-up",
           "triangle-down",
           "triangle-up",
           "triangle-up",
           "triangle-up",
           "triangle-down",
           "triangle-up",
           "triangle-up",
           "triangle-down",
           "triangle-up",
           "triangle-up",
           "triangle-up",
           "triangle-down",
           "triangle-up",
           "triangle-up",
           "triangle-down",
           "triangle-up",
           "triangle-down",
           "triangle-down",
           "triangle-down",
           "triangle-down",
           "triangle-down",
           "triangle-up",
           "triangle-down",
           "triangle-down",
           "triangle-up"
          ]
         },
         "mode": "markers",
         "name": "GBPCAD",
         "showlegend": false,
         "type": "scatter",
         "x": [
          "2021-05-19T00:00:00+00:00",
          "2021-05-21T00:00:00+00:00",
          "2021-05-25T00:00:00+00:00",
          "2021-05-27T00:00:00+00:00",
          "2021-05-28T00:00:00+00:00",
          "2021-05-31T00:00:00+00:00",
          "2021-06-01T00:00:00+00:00",
          "2021-06-02T00:00:00+00:00",
          "2021-06-03T00:00:00+00:00",
          "2021-06-04T00:00:00+00:00",
          "2021-06-14T00:00:00+00:00",
          "2021-06-15T00:00:00+00:00",
          "2021-06-16T00:00:00+00:00",
          "2021-06-18T00:00:00+00:00",
          "2021-06-22T00:00:00+00:00",
          "2021-06-29T00:00:00+00:00",
          "2021-07-02T00:00:00+00:00",
          "2021-07-05T00:00:00+00:00",
          "2021-07-12T00:00:00+00:00",
          "2021-07-15T00:00:00+00:00",
          "2021-07-16T00:00:00+00:00",
          "2021-07-20T00:00:00+00:00",
          "2021-07-22T00:00:00+00:00",
          "2021-07-23T00:00:00+00:00",
          "2021-07-27T00:00:00+00:00",
          "2021-08-03T00:00:00+00:00",
          "2021-08-04T00:00:00+00:00",
          "2021-08-06T00:00:00+00:00",
          "2021-08-09T00:00:00+00:00",
          "2021-08-11T00:00:00+00:00",
          "2021-08-13T00:00:00+00:00",
          "2021-08-20T00:00:00+00:00",
          "2021-08-25T00:00:00+00:00",
          "2021-08-27T00:00:00+00:00",
          "2021-08-31T00:00:00+00:00"
         ],
         "y": [
          1.71211,
          1.70726,
          1.7066,
          1.71345,
          1.71356,
          1.7132399999999999,
          1.70755,
          1.70462,
          1.7068400000000001,
          1.70999,
          1.71341,
          1.71492,
          1.71638,
          1.72017,
          1.7158099999999998,
          1.71535,
          1.70511,
          1.70716,
          1.72832,
          1.7407,
          1.73684,
          1.7273800000000001,
          1.72851,
          1.72728,
          1.7481900000000001,
          1.7441499999999999,
          1.7412999999999998,
          1.7419799999999999,
          1.7408000000000001,
          1.73282,
          1.7357200000000002,
          1.7468,
          1.73259,
          1.7353399999999999,
          1.73501
         ],
         "yaxis": "y"
        },
        {
         "hovertext": [
          "order id: 2<br>order type: Buy<br>close probability: 0.6564<br>margin: 606.885969<br>profit: -69.753771",
          "order id: 10<br>order type: Sell<br>close probability: 0.6153<br>margin: 1476.854990<br>profit: -61.585852",
          "order id: 12<br>order type: Sell<br>close probability: 0.6055<br>margin: 3092.991762<br>profit: 1500.984853",
          "order id: 6<br>order type: Buy<br>close probability: 0.7106<br>margin: 70.752590<br>profit: -4.388218",
          "order id: 18<br>order type: Buy<br>close probability: 0.6894<br>margin: 3186.796976<br>profit: 461.034011",
          "order id: 17<br>order type: Sell<br>close probability: 0.5632<br>margin: 396.676945<br>profit: -199.182880<br>---------------------------------<br>order id: 21<br>order type: Buy<br>close probability: 0.8048<br>margin: 3824.403598<br>profit: 380.303128",
          "order id: 29<br>order type: Sell<br>close probability: 0.8134<br>margin: 1015.880827<br>profit: -133.815435",
          "order id: 31<br>order type: Buy<br>close probability: 0.5767<br>margin: 1858.137343<br>profit: 85.335035",
          "order id: 34<br>order type: Buy<br>close probability: 0.6389<br>margin: 27.964091<br>profit: 3.959867",
          "order id: 37<br>order type: Buy<br>close probability: 0.5444<br>margin: 2455.710470<br>profit: 122.321998",
          "order id: 40<br>order type: Sell<br>close probability: 0.6375<br>margin: 1687.279635<br>profit: -17.821809",
          "order id: 43<br>order type: Buy<br>close probability: 0.5180<br>margin: 746.983162<br>profit: -76.201415",
          "order id: 45<br>order type: Buy<br>close probability: 0.7818<br>margin: 1051.222156<br>profit: 81.603205",
          "order id: 48<br>order type: Sell<br>close probability: 0.5543<br>margin: 2157.932795<br>profit: -1533.208320",
          "order id: 52<br>order type: Buy<br>close probability: 0.5051<br>margin: 1901.678085<br>profit: -140.436543",
          "order id: 56<br>order type: Buy<br>close probability: 0.6586<br>margin: 4381.710116<br>profit: -4946.156258<br>---------------------------------<br>order id: 59<br>order type: Buy<br>close probability: 0.7804<br>margin: 688.266297<br>profit: -624.284125",
          "order id: 65<br>order type: Buy<br>close probability: 0.5540<br>margin: 1073.412100<br>profit: -119.826515",
          "order id: 67<br>order type: Buy<br>close probability: 0.5355<br>margin: 714.808601<br>profit: 222.042336",
          "order id: 71<br>order type: Sell<br>close probability: 0.6260<br>margin: 166.482394<br>profit: 66.434507",
          "order id: 78<br>order type: Sell<br>close probability: 0.5414<br>margin: 166.501470<br>profit: 5.121626",
          "order id: 76<br>order type: Buy<br>close probability: 0.6655<br>margin: 598.321872<br>profit: -454.710853",
          "order id: 81<br>order type: Sell<br>close probability: 0.6377<br>margin: 1898.927657<br>profit: 355.489840",
          "order id: 89<br>order type: Buy<br>close probability: 0.7942<br>margin: 1648.220092<br>profit: -1160.288504",
          "order id: 93<br>order type: Sell<br>close probability: 0.7540<br>margin: 1760.914532<br>profit: 69.790305",
          "order id: 96<br>order type: Buy<br>close probability: 0.6893<br>margin: 110.029251<br>profit: 1.987448"
         ],
         "legendgroup": "g1",
         "marker": {
          "color": "black",
          "line": {
           "width": 1.5
          },
          "size": 7,
          "symbol": "line-ns"
         },
         "mode": "markers",
         "name": "GBPCAD",
         "showlegend": false,
         "type": "scatter",
         "x": [
          "2021-05-26T00:00:00+00:00",
          "2021-05-28T00:00:00+00:00",
          "2021-06-02T00:00:00+00:00",
          "2021-06-03T00:00:00+00:00",
          "2021-06-04T00:00:00+00:00",
          "2021-06-07T00:00:00+00:00",
          "2021-06-15T00:00:00+00:00",
          "2021-06-16T00:00:00+00:00",
          "2021-06-17T00:00:00+00:00",
          "2021-06-21T00:00:00+00:00",
          "2021-06-29T00:00:00+00:00",
          "2021-06-30T00:00:00+00:00",
          "2021-07-05T00:00:00+00:00",
          "2021-07-06T00:00:00+00:00",
          "2021-07-13T00:00:00+00:00",
          "2021-07-21T00:00:00+00:00",
          "2021-07-23T00:00:00+00:00",
          "2021-07-26T00:00:00+00:00",
          "2021-07-28T00:00:00+00:00",
          "2021-08-09T00:00:00+00:00",
          "2021-08-10T00:00:00+00:00",
          "2021-08-12T00:00:00+00:00",
          "2021-08-27T00:00:00+00:00",
          "2021-08-30T00:00:00+00:00",
          "2021-09-02T00:00:00+00:00"
         ],
         "y": [
          1.71089,
          1.71356,
          1.70462,
          1.7068400000000001,
          1.70999,
          1.71255,
          1.71492,
          1.71638,
          1.71949,
          1.72173,
          1.71535,
          1.71437,
          1.70716,
          1.71879,
          1.72767,
          1.72183,
          1.72728,
          1.73336,
          1.7405300000000001,
          1.7408000000000001,
          1.7316500000000001,
          1.72889,
          1.7353399999999999,
          1.7338900000000002,
          1.73603
         ],
         "yaxis": "y"
        },
        {
         "hovertext": [
          "balance: 10000.000000 USD<br>equity: 10000.000000<br>margin: 0.000000<br>free margin: 10000.000000<br>margin level: inf",
          "balance: 10000.000000 USD<br>equity: 10000.000000<br>margin: 0.000000<br>free margin: 10000.000000<br>margin level: inf",
          "balance: 10000.000000 USD<br>equity: 10000.000000<br>margin: 0.000000<br>free margin: 10000.000000<br>margin level: inf",
          "balance: 10000.000000 USD<br>equity: 10000.000000<br>margin: 0.000000<br>free margin: 10000.000000<br>margin level: inf",
          "balance: 10000.000000 USD<br>equity: 10000.000000<br>margin: 0.000000<br>free margin: 10000.000000<br>margin level: inf",
          "balance: 10000.000000 USD<br>equity: 10000.000000<br>margin: 0.000000<br>free margin: 10000.000000<br>margin level: inf",
          "balance: 10000.000000 USD<br>equity: 10000.000000<br>margin: 0.000000<br>free margin: 10000.000000<br>margin level: inf",
          "balance: 10000.000000 USD<br>equity: 10000.000000<br>margin: 0.000000<br>free margin: 10000.000000<br>margin level: inf",
          "balance: 10000.000000 USD<br>equity: 10000.000000<br>margin: 0.000000<br>free margin: 10000.000000<br>margin level: inf",
          "balance: 10000.000000 USD<br>equity: 10000.000000<br>margin: 0.000000<br>free margin: 10000.000000<br>margin level: inf",
          "balance: 10000.000000 USD<br>equity: 10063.275630<br>margin: 171.106600<br>free margin: 9892.169030<br>margin level: 58.812902",
          "balance: 10063.275630 USD<br>equity: 8652.167329<br>margin: 3566.986769<br>free margin: 5085.180560<br>margin level: 2.425624",
          "balance: 8729.057009 USD<br>equity: 8565.200901<br>margin: 704.701169<br>free margin: 7860.499732<br>margin level: 12.154373",
          "balance: 8729.057009 USD<br>equity: 8209.931099<br>margin: 1481.928559<br>free margin: 6728.002540<br>margin level: 5.540032",
          "balance: 8526.437425 USD<br>equity: 8406.432302<br>margin: 1080.733559<br>free margin: 7325.698743<br>margin level: 7.778450",
          "balance: 8526.437425 USD<br>equity: 8387.624859<br>margin: 1080.733559<br>free margin: 7306.891300<br>margin level: 7.761048",
          "balance: 8375.301070 USD<br>equity: 8085.574406<br>margin: 570.752590<br>free margin: 7514.821815<br>margin level: 14.166514",
          "balance: 8062.585800 USD<br>equity: 7999.195855<br>margin: 2132.890781<br>free margin: 5866.305075<br>margin level: 3.750401",
          "balance: 7975.773557 USD<br>equity: 8356.718089<br>margin: 4687.444352<br>free margin: 3669.273738<br>margin level: 1.782788",
          "balance: 7975.773557 USD<br>equity: 9194.899731<br>margin: 5576.419352<br>free margin: 3618.480380<br>margin level: 1.648890",
          "balance: 7932.320011 USD<br>equity: 9661.788546<br>margin: 5477.444352<br>free margin: 4184.344195<br>margin level: 1.763923",
          "balance: 9680.259906 USD<br>equity: 9267.253427<br>margin: 977.429535<br>free margin: 8289.823892<br>margin level: 9.481250",
          "balance: 9333.927006 USD<br>equity: 11010.688124<br>margin: 6027.443421<br>free margin: 4983.244703<br>margin level: 1.826759",
          "balance: 9794.961017 USD<br>equity: 11920.025782<br>margin: 6665.050043<br>free margin: 5254.975739<br>margin level: 1.788438",
          "balance: 10357.979096 USD<br>equity: 11308.183155<br>margin: 4783.662500<br>free margin: 6524.520655<br>margin level: 2.363917",
          "balance: 11711.899391 USD<br>equity: 11127.034696<br>margin: 1580.000000<br>free margin: 9547.034696<br>margin level: 7.042427",
          "balance: 11711.899391 USD<br>equity: 12086.213048<br>margin: 3808.323100<br>free margin: 8277.889948<br>margin level: 3.173631",
          "balance: 12086.213048 USD<br>equity: 11118.859247<br>margin: 2041.914800<br>free margin: 9076.944447<br>margin level: 5.445310",
          "balance: 12086.213048 USD<br>equity: 10581.328131<br>margin: 4251.914800<br>free margin: 6329.413331<br>margin level: 2.488603",
          "balance: 11422.263692 USD<br>equity: 10514.414353<br>margin: 3637.795627<br>free margin: 6876.618726<br>margin level: 2.890326",
          "balance: 10542.232696 USD<br>equity: 11917.058483<br>margin: 3487.847743<br>free margin: 8429.210739<br>margin level: 3.416737",
          "balance: 11461.784930 USD<br>equity: 11560.721475<br>margin: 847.964091<br>free margin: 10712.757384<br>margin level: 13.633504",
          "balance: 11560.721475 USD<br>equity: 12412.750730<br>margin: 3741.380000<br>free margin: 8671.370730<br>margin level: 3.317693",
          "balance: 12450.450465 USD<br>equity: 12278.397353<br>margin: 4562.871570<br>free margin: 7715.525783<br>margin level: 2.690936",
          "balance: 12189.078912 USD<br>equity: 12575.496234<br>margin: 1955.925000<br>free margin: 10619.571234<br>margin level: 6.429437",
          "balance: 12063.675358 USD<br>equity: 12527.339375<br>margin: 4098.114035<br>free margin: 8429.225340<br>margin level: 3.056855",
          "balance: 11909.223655 USD<br>equity: 12708.303983<br>margin: 3047.279635<br>free margin: 9661.024347<br>margin level: 4.170377",
          "balance: 12684.996825 USD<br>equity: 13467.889247<br>margin: 1687.279635<br>free margin: 11780.609612<br>margin level: 7.982014",
          "balance: 12684.996825 USD<br>equity: 13024.965858<br>margin: 2227.279635<br>free margin: 10797.686223<br>margin level: 5.847926",
          "balance: 12757.471678 USD<br>equity: 12739.649870<br>margin: 1687.279635<br>free margin: 11052.370234<br>margin level: 7.550408",
          "balance: 12739.649870 USD<br>equity: 12663.448454<br>margin: 746.983162<br>free margin: 11916.465292<br>margin level: 16.952790",
          "balance: 12663.448454 USD<br>equity: 12663.448454<br>margin: 0.000000<br>free margin: 12663.448454<br>margin level: inf",
          "balance: 12663.448454 USD<br>equity: 12755.203704<br>margin: 853.178400<br>free margin: 11902.025304<br>margin level: 14.950219",
          "balance: 12663.448454 USD<br>equity: 12744.281556<br>margin: 4047.475556<br>free margin: 8696.806000<br>margin level: 3.148699",
          "balance: 12785.787942 USD<br>equity: 10707.323236<br>margin: 3641.007795<br>free margin: 7066.315441<br>margin level: 2.940758",
          "balance: 10707.323236 USD<br>equity: 10707.323236<br>margin: 0.000000<br>free margin: 10707.323236<br>margin level: inf",
          "balance: 10707.323236 USD<br>equity: 10115.983810<br>margin: 1226.191200<br>free margin: 8889.792610<br>margin level: 8.249924",
          "balance: 10115.983810 USD<br>equity: 9909.880023<br>margin: 610.000000<br>free margin: 9299.880023<br>margin level: 16.245705",
          "balance: 9909.880023 USD<br>equity: 9841.028298<br>margin: 427.586400<br>free margin: 9413.441898<br>margin level: 23.015298",
          "balance: 9909.880023 USD<br>equity: 9487.677296<br>margin: 2459.731085<br>free margin: 7027.946212<br>margin level: 3.857201",
          "balance: 9397.831755 USD<br>equity: 9739.989645<br>margin: 660.466600<br>free margin: 9079.523045<br>margin level: 14.747134",
          "balance: 9422.447296 USD<br>equity: 9460.683862<br>margin: 2033.146600<br>free margin: 7427.537262<br>margin level: 4.653223",
          "balance: 9460.683862 USD<br>equity: 8553.941915<br>margin: 5656.204516<br>free margin: 2897.737399<br>margin level: 1.512311",
          "balance: 9706.469959 USD<br>equity: 10145.692219<br>margin: 5079.976413<br>free margin: 5065.715807<br>margin level: 1.997193",
          "balance: 9706.469959 USD<br>equity: 6026.061219<br>margin: 5759.976413<br>free margin: 266.084807<br>margin level: 1.046195",
          "balance: 9939.919058 USD<br>equity: 4187.060887<br>margin: 5519.976413<br>free margin: -1332.915526<br>margin level: 0.758529",
          "balance: 4371.175961 USD<br>equity: 4285.282514<br>margin: 729.481200<br>free margin: 3555.801314<br>margin level: 5.874425",
          "balance: 4419.181431 USD<br>equity: 4018.405788<br>margin: 1778.826100<br>free margin: 2239.579688<br>margin level: 2.259021",
          "balance: 4305.969586 USD<br>equity: 4064.558218<br>margin: 2614.808601<br>free margin: 1449.749617<br>margin level: 1.554438",
          "balance: 4064.558218 USD<br>equity: 4627.572479<br>margin: 2081.107400<br>free margin: 2546.465079<br>margin level: 2.223611",
          "balance: 4506.632617 USD<br>equity: 4942.774780<br>margin: 1717.589794<br>free margin: 3225.184986<br>margin level: 2.877739",
          "balance: 4573.067125 USD<br>equity: 4635.463810<br>margin: 3896.239200<br>free margin: 739.224610<br>margin level: 1.189728",
          "balance: 4649.406235 USD<br>equity: 4759.663810<br>margin: 3596.239200<br>free margin: 1163.424610<br>margin level: 1.323511",
          "balance: 5369.246097 USD<br>equity: 4661.598215<br>margin: 2875.131800<br>free margin: 1786.466415<br>margin level: 1.621351",
          "balance: 5188.020502 USD<br>equity: 4669.585700<br>margin: 4006.763800<br>free margin: 662.821900<br>margin level: 1.165426",
          "balance: 5188.020502 USD<br>equity: 4703.130189<br>margin: 4605.085672<br>free margin: 98.044517<br>margin level: 1.021290",
          "balance: 5188.020502 USD<br>equity: 4709.752772<br>margin: 4605.085672<br>free margin: 104.667100<br>margin level: 1.022729",
          "balance: 5376.378215 USD<br>equity: 3407.868085<br>margin: 2804.258072<br>free margin: 603.610013<br>margin level: 1.215248",
          "balance: 5376.378215 USD<br>equity: 2909.687309<br>margin: 2970.759541<br>free margin: -61.072233<br>margin level: 0.979442",
          "balance: 3049.471056 USD<br>equity: 2465.076808<br>margin: 1058.321872<br>free margin: 1406.754936<br>margin level: 2.329232",
          "balance: 2465.076808 USD<br>equity: 2486.032447<br>margin: 152.363900<br>free margin: 2333.668547<br>margin level: 16.316414",
          "balance: 2465.076808 USD<br>equity: 2829.562287<br>margin: 2051.291557<br>free margin: 778.270729<br>margin level: 1.379405",
          "balance: 2829.562287 USD<br>equity: 4446.117043<br>margin: 2686.358400<br>free margin: 1759.758643<br>margin level: 1.655072",
          "balance: 4446.117043 USD<br>equity: 4074.200041<br>margin: 1100.000000<br>free margin: 2974.200041<br>margin level: 3.703818",
          "balance: 4446.117043 USD<br>equity: 4263.470017<br>margin: 1590.000000<br>free margin: 2673.470017<br>margin level: 2.681428",
          "balance: 4263.470017 USD<br>equity: 4274.517930<br>margin: 1498.636800<br>free margin: 2775.881130<br>margin level: 2.852271",
          "balance: 4274.517930 USD<br>equity: 4274.517930<br>margin: 0.000000<br>free margin: 4274.517930<br>margin level: inf",
          "balance: 4274.517930 USD<br>equity: 4241.736664<br>margin: 815.026800<br>free margin: 3426.709864<br>margin level: 5.204414",
          "balance: 4241.736664 USD<br>equity: 2828.271922<br>margin: 2209.800892<br>free margin: 618.471030<br>margin level: 1.279876",
          "balance: 4012.162506 USD<br>equity: 2103.854054<br>margin: 2428.220092<br>free margin: -324.366038<br>margin level: 0.866418",
          "balance: 3987.667541 USD<br>equity: 2560.815599<br>margin: 1648.220092<br>free margin: 912.595506<br>margin level: 1.553685",
          "balance: 3987.667541 USD<br>equity: 3160.294167<br>margin: 2283.886492<br>free margin: 876.407675<br>margin level: 1.383735",
          "balance: 3987.667541 USD<br>equity: 2691.063429<br>margin: 2283.886492<br>free margin: 407.176936<br>margin level: 1.178282",
          "balance: 2827.379037 USD<br>equity: 2755.228075<br>margin: 2573.513432<br>free margin: 181.714643<br>margin level: 1.070610",
          "balance: 2755.228075 USD<br>equity: 2787.915625<br>margin: 389.274600<br>free margin: 2398.641025<br>margin level: 7.161823",
          "balance: 2755.228075 USD<br>equity: 2405.451245<br>margin: 2494.165451<br>free margin: -88.714206<br>margin level: 0.964431",
          "balance: 2263.531912 USD<br>equity: 2516.336910<br>margin: 499.303851<br>free margin: 2017.033059<br>margin level: 5.039691",
          "balance: 2516.336910 USD<br>equity: 2516.336910<br>margin: 0.000000<br>free margin: 2516.336910<br>margin level: inf"
         ],
         "legendgroup": "g2",
         "line": {
          "color": "rgba(0.5643983083429451, 0.36993464052287583, 0.5132641291810843, 1.0)"
         },
         "mode": "lines+markers",
         "name": "EURUSD",
         "opacity": 1,
         "type": "scatter",
         "x": [
          "2021-05-05T00:00:00+00:00",
          "2021-05-06T00:00:00+00:00",
          "2021-05-07T00:00:00+00:00",
          "2021-05-10T00:00:00+00:00",
          "2021-05-11T00:00:00+00:00",
          "2021-05-12T00:00:00+00:00",
          "2021-05-13T00:00:00+00:00",
          "2021-05-14T00:00:00+00:00",
          "2021-05-17T00:00:00+00:00",
          "2021-05-18T00:00:00+00:00",
          "2021-05-19T00:00:00+00:00",
          "2021-05-20T00:00:00+00:00",
          "2021-05-21T00:00:00+00:00",
          "2021-05-24T00:00:00+00:00",
          "2021-05-25T00:00:00+00:00",
          "2021-05-26T00:00:00+00:00",
          "2021-05-27T00:00:00+00:00",
          "2021-05-28T00:00:00+00:00",
          "2021-05-31T00:00:00+00:00",
          "2021-06-01T00:00:00+00:00",
          "2021-06-02T00:00:00+00:00",
          "2021-06-03T00:00:00+00:00",
          "2021-06-04T00:00:00+00:00",
          "2021-06-07T00:00:00+00:00",
          "2021-06-08T00:00:00+00:00",
          "2021-06-09T00:00:00+00:00",
          "2021-06-10T00:00:00+00:00",
          "2021-06-11T00:00:00+00:00",
          "2021-06-14T00:00:00+00:00",
          "2021-06-15T00:00:00+00:00",
          "2021-06-16T00:00:00+00:00",
          "2021-06-17T00:00:00+00:00",
          "2021-06-18T00:00:00+00:00",
          "2021-06-21T00:00:00+00:00",
          "2021-06-22T00:00:00+00:00",
          "2021-06-23T00:00:00+00:00",
          "2021-06-24T00:00:00+00:00",
          "2021-06-25T00:00:00+00:00",
          "2021-06-28T00:00:00+00:00",
          "2021-06-29T00:00:00+00:00",
          "2021-06-30T00:00:00+00:00",
          "2021-07-01T00:00:00+00:00",
          "2021-07-02T00:00:00+00:00",
          "2021-07-05T00:00:00+00:00",
          "2021-07-06T00:00:00+00:00",
          "2021-07-07T00:00:00+00:00",
          "2021-07-08T00:00:00+00:00",
          "2021-07-09T00:00:00+00:00",
          "2021-07-12T00:00:00+00:00",
          "2021-07-13T00:00:00+00:00",
          "2021-07-14T00:00:00+00:00",
          "2021-07-15T00:00:00+00:00",
          "2021-07-16T00:00:00+00:00",
          "2021-07-19T00:00:00+00:00",
          "2021-07-20T00:00:00+00:00",
          "2021-07-21T00:00:00+00:00",
          "2021-07-22T00:00:00+00:00",
          "2021-07-23T00:00:00+00:00",
          "2021-07-26T00:00:00+00:00",
          "2021-07-27T00:00:00+00:00",
          "2021-07-28T00:00:00+00:00",
          "2021-07-29T00:00:00+00:00",
          "2021-07-30T00:00:00+00:00",
          "2021-08-02T00:00:00+00:00",
          "2021-08-03T00:00:00+00:00",
          "2021-08-04T00:00:00+00:00",
          "2021-08-05T00:00:00+00:00",
          "2021-08-06T00:00:00+00:00",
          "2021-08-09T00:00:00+00:00",
          "2021-08-10T00:00:00+00:00",
          "2021-08-11T00:00:00+00:00",
          "2021-08-12T00:00:00+00:00",
          "2021-08-13T00:00:00+00:00",
          "2021-08-16T00:00:00+00:00",
          "2021-08-17T00:00:00+00:00",
          "2021-08-18T00:00:00+00:00",
          "2021-08-19T00:00:00+00:00",
          "2021-08-20T00:00:00+00:00",
          "2021-08-23T00:00:00+00:00",
          "2021-08-24T00:00:00+00:00",
          "2021-08-25T00:00:00+00:00",
          "2021-08-26T00:00:00+00:00",
          "2021-08-27T00:00:00+00:00",
          "2021-08-30T00:00:00+00:00",
          "2021-08-31T00:00:00+00:00",
          "2021-09-01T00:00:00+00:00",
          "2021-09-02T00:00:00+00:00",
          "2021-09-03T00:00:00+00:00"
         ],
         "y": [
          1.20036,
          1.20646,
          1.21618,
          1.21282,
          1.2147000000000001,
          1.20705,
          1.20791,
          1.21441,
          1.21511,
          1.2221899999999999,
          1.21744,
          1.22269,
          1.21806,
          1.2215,
          1.22497,
          1.21922,
          1.21934,
          1.21896,
          1.2225,
          1.22126,
          1.221,
          1.21265,
          1.21662,
          1.21893,
          1.21726,
          1.21787,
          1.21751,
          1.21063,
          1.212,
          1.21264,
          1.19943,
          1.19069,
          1.18597,
          1.19185,
          1.19413,
          1.19258,
          1.19315,
          1.1937,
          1.19242,
          1.1896,
          1.1856,
          1.18497,
          1.18646,
          1.18634,
          1.18231,
          1.17903,
          1.18449,
          1.18774,
          1.18606,
          1.17765,
          1.18358,
          1.18118,
          1.18055,
          1.17987,
          1.17805,
          1.17946,
          1.17707,
          1.17689,
          1.18029,
          1.18165,
          1.18441,
          1.18865,
          1.1873,
          1.18688,
          1.18637,
          1.18367,
          1.18327,
          1.17611,
          1.17362,
          1.17203,
          1.17388,
          1.17296,
          1.17962,
          1.17768,
          1.17081,
          1.17108,
          1.16756,
          1.16996,
          1.1745700000000001,
          1.17555,
          1.17716,
          1.17515,
          1.1795499999999999,
          1.17962,
          1.18083,
          1.18384,
          1.18744,
          1.18772
         ],
         "yaxis": "y2"
        },
        {
         "hovertext": [
          "order id: 1<br>hold probability: 0.1582<br>hold: False<br>volume: -0.141069<br>modified volume: 0.1400<br>fee: 0.000230<br>margin: 171.106600<br>error: ",
          "order id: 3<br>hold probability: 0.3231<br>hold: False<br>volume: -2.069744<br>modified volume: 2.0700<br>fee: 0.000252<br>margin: 2520.100800<br>error: ",
          "order id: 5<br>hold probability: 0.3417<br>hold: False<br>volume: -0.084114<br>modified volume: 0.0800<br>fee: 0.000180<br>margin: 97.815200<br>error: ",
          "order id: 7<br>hold probability: 0.1762<br>hold: False<br>volume: -0.575303<br>modified volume: 0.5800<br>fee: 0.000193<br>margin: 706.474800<br>error: ",
          "order id: 8<br>hold probability: 0.1935<br>hold: False<br>volume: 0.333128<br>modified volume: 0.3300<br>fee: 0.000186<br>margin: 403.095000<br>error: ",
          "order id: 11<br>hold probability: 0.2297<br>hold: False<br>volume: 0.478995<br>modified volume: 0.4800<br>fee: 0.000146<br>margin: 585.283200<br>error: ",
          "order id: 13<br>hold probability: 0.4012<br>hold: False<br>volume: 1.245750<br>modified volume: 1.2500<br>fee: 0.000184<br>margin: 1523.700000<br>error: ",
          "order id: 14<br>hold probability: 0.2758<br>hold: False<br>volume: 0.305346<br>modified volume: 0.3100<br>fee: 0.000162<br>margin: 378.975000<br>error: ",
          "order id: 19<br>hold probability: 0.2625<br>hold: False<br>volume: 0.631706<br>modified volume: 0.6300<br>fee: 0.000218<br>margin: 763.969500<br>error: ",
          "order id: 22<br>hold probability: 0.0363<br>hold: False<br>volume: -1.245175<br>modified volume: 1.2500<br>fee: 0.000188<br>margin: 1523.662500<br>error: ",
          "order id: 24<br>hold probability: 0.0992<br>hold: False<br>volume: 0.134105<br>modified volume: 0.1300<br>fee: 0.000232<br>margin: 158.323100<br>error: ",
          "order id: 26<br>hold probability: 0.4875<br>hold: False<br>volume: 1.479188<br>modified volume: 1.4800<br>fee: 0.000172<br>margin: 1801.914800<br>error: ",
          "order id: 32<br>hold probability: 0.2366<br>hold: False<br>volume: -0.608957<br>modified volume: 0.6100<br>fee: 0.000186<br>margin: 739.710400<br>error: ",
          "order id: 35<br>hold probability: 0.3043<br>hold: False<br>volume: -1.995900<br>modified volume: 2.0000<br>fee: 0.000271<br>margin: 2381.380000<br>error: ",
          "order id: 38<br>hold probability: 0.4152<br>hold: False<br>volume: -0.627667<br>modified volume: 0.6300<br>fee: 0.000210<br>margin: 747.161100<br>error: ",
          "order id: 39<br>hold probability: 0.4017<br>hold: False<br>volume: -0.496516<br>modified volume: 0.5000<br>fee: 0.000228<br>margin: 595.925000<br>error: ",
          "order id: 41<br>hold probability: 0.4536<br>hold: False<br>volume: 0.876160<br>modified volume: 0.8800<br>fee: 0.000205<br>margin: 1050.834400<br>error: ",
          "order id: 44<br>hold probability: 0.1318<br>hold: False<br>volume: 0.715981<br>modified volume: 0.7200<br>fee: 0.000216<br>margin: 853.178400<br>error: ",
          "order id: 46<br>hold probability: 0.3562<br>hold: False<br>volume: 1.250812<br>modified volume: 1.2500<br>fee: 0.000212<br>margin: 1483.075000<br>error: ",
          "order id: 49<br>hold probability: 0.4575<br>hold: False<br>volume: -1.038783<br>modified volume: 1.0400<br>fee: 0.000226<br>margin: 1226.191200<br>error: ",
          "order id: 51<br>hold probability: 0.3221<br>hold: False<br>volume: 0.358606<br>modified volume: 0.3600<br>fee: 0.000233<br>margin: 427.586400<br>error: ",
          "order id: 53<br>hold probability: 0.3808<br>hold: False<br>volume: -0.106820<br>modified volume: 0.1100<br>fee: 0.000242<br>margin: 130.466600<br>error: ",
          "order id: 55<br>hold probability: 0.1682<br>hold: False<br>volume: 1.269712<br>modified volume: 1.2700<br>fee: 0.000254<br>margin: 1503.146600<br>error: ",
          "order id: 57<br>hold probability: 0.1403<br>hold: False<br>volume: 0.084273<br>modified volume: 0.0800<br>fee: 0.000244<br>margin: 94.494400<br>error: ",
          "order id: 63<br>hold probability: 0.3951<br>hold: False<br>volume: -0.215026<br>modified volume: 0.2200<br>fee: 0.000208<br>margin: 259.481200<br>error: ",
          "order id: 66<br>hold probability: 0.4547<br>hold: False<br>volume: -0.195112<br>modified volume: 0.2000<br>fee: 0.000176<br>margin: 235.414000<br>error: ",
          "order id: 69<br>hold probability: 0.3232<br>hold: False<br>volume: 1.056880<br>modified volume: 1.0600<br>fee: 0.000219<br>margin: 1251.107400<br>error: ",
          "order id: 73<br>hold probability: 0.1250<br>hold: False<br>volume: -1.982434<br>modified volume: 1.9800<br>fee: 0.000189<br>margin: 2345.131800<br>error: ",
          "order id: <br>hold probability: 0.2447<br>hold: False<br>volume: 1.124056<br>modified volume: 1.1200<br>fee: nan<br>margin: nan<br>error: cannot add more orders",
          "order id: 75<br>hold probability: 0.3468<br>hold: False<br>volume: 1.400099<br>modified volume: 1.4000<br>fee: 0.000154<br>margin: 1661.632000<br>error: ",
          "order id: <br>hold probability: 0.4319<br>hold: False<br>volume: -0.128500<br>modified volume: 0.1300<br>fee: nan<br>margin: nan<br>error: cannot add more orders",
          "order id: <br>hold probability: 0.4359<br>hold: False<br>volume: -1.429518<br>modified volume: 1.4300<br>fee: nan<br>margin: nan<br>error: cannot add more orders",
          "order id: 77<br>hold probability: 0.2994<br>hold: False<br>volume: 0.455114<br>modified volume: 0.4600<br>fee: 0.000220<br>margin: 544.304200<br>error: ",
          "order id: <br>hold probability: 0.1155<br>hold: False<br>volume: -2.618936<br>modified volume: 2.6200<br>fee: nan<br>margin: nan<br>error: low free margin (order margin=3074.8844, order profit=-51.72138248446685, free margin=2311.3654370182894)",
          "order id: 80<br>hold probability: 0.2877<br>hold: False<br>volume: 0.129112<br>modified volume: 0.1300<br>fee: 0.000238<br>margin: 152.363900<br>error: ",
          "order id: <br>hold probability: 0.3737<br>hold: False<br>volume: 1.148889<br>modified volume: 1.1500<br>fee: nan<br>margin: nan<br>error: low free margin (order margin=1349.9620000000002, order profit=-22.759956598596226, free margin=360.1123486574065)",
          "order id: 82<br>hold probability: 0.3534<br>hold: False<br>volume: 1.537409<br>modified volume: 1.5400<br>fee: 0.000196<br>margin: 1806.358400<br>error: ",
          "order id: 86<br>hold probability: 0.2720<br>hold: False<br>volume: 1.283870<br>modified volume: 1.2800<br>fee: 0.000184<br>margin: 1498.636800<br>error: ",
          "order id: 87<br>hold probability: 0.4701<br>hold: False<br>volume: 0.032907<br>modified volume: 0.0300<br>fee: 0.000228<br>margin: 35.026800<br>error: ",
          "order id: 90<br>hold probability: 0.2646<br>hold: False<br>volume: -0.482112<br>modified volume: 0.4800<br>fee: 0.000173<br>margin: 561.580800<br>error: ",
          "order id: <br>hold probability: 0.2664<br>hold: False<br>volume: 0.652207<br>modified volume: 0.6500<br>fee: nan<br>margin: nan<br>error: low free margin (order margin=764.1075, order profit=-9.093046138645402, free margin=-324.3660382443477)",
          "order id: 92<br>hold probability: 0.4516<br>hold: False<br>volume: -0.540048<br>modified volume: 0.5400<br>fee: 0.000134<br>margin: 635.666400<br>error: ",
          "order id: 94<br>hold probability: 0.4206<br>hold: False<br>volume: 0.151433<br>modified volume: 0.1500<br>fee: 0.000193<br>margin: 176.932500<br>error: ",
          "order id: 95<br>hold probability: 0.4379<br>hold: False<br>volume: 0.331168<br>modified volume: 0.3300<br>fee: 0.000219<br>margin: 389.274600<br>error: ",
          "order id: 97<br>hold probability: 0.3204<br>hold: False<br>volume: -1.516766<br>modified volume: 1.5200<br>fee: 0.000222<br>margin: 1794.861600<br>error: "
         ],
         "legendgroup": "g2",
         "marker": {
          "color": [
           "red",
           "red",
           "red",
           "red",
           "green",
           "green",
           "green",
           "green",
           "green",
           "red",
           "green",
           "green",
           "red",
           "red",
           "red",
           "red",
           "green",
           "green",
           "green",
           "red",
           "green",
           "red",
           "green",
           "green",
           "red",
           "red",
           "green",
           "red",
           "gray",
           "green",
           "gray",
           "gray",
           "green",
           "gray",
           "green",
           "gray",
           "green",
           "green",
           "green",
           "red",
           "gray",
           "red",
           "green",
           "green",
           "red"
          ],
          "size": [
           9.124087591240876,
           24.620437956204377,
           8.642335766423358,
           12.656934306569342,
           10.64963503649635,
           11.854014598540147,
           18.036496350364963,
           10.48905109489051,
           13.05839416058394,
           18.036496350364963,
           9.043795620437956,
           19.88321167883212,
           12.897810218978101,
           24.05839416058394,
           13.05839416058394,
           12.014598540145986,
           15.065693430656935,
           13.781021897810218,
           18.036496350364963,
           16.35036496350365,
           10.89051094890511,
           8.883211678832117,
           18.197080291970803,
           8.642335766423358,
           9.766423357664234,
           9.605839416058394,
           16.510948905109487,
           23.8978102189781,
           16.99270072992701,
           19.24087591240876,
           9.043795620437956,
           19.48175182481752,
           11.693430656934307,
           29.036496350364963,
           9.043795620437956,
           17.23357664233577,
           20.364963503649633,
           18.277372262773724,
           8.24087591240876,
           11.854014598540147,
           13.21897810218978,
           12.335766423357665,
           9.204379562043796,
           10.64963503649635,
           20.204379562043798
          ],
          "symbol": [
           "triangle-down",
           "triangle-down",
           "triangle-down",
           "triangle-down",
           "triangle-up",
           "triangle-up",
           "triangle-up",
           "triangle-up",
           "triangle-up",
           "triangle-down",
           "triangle-up",
           "triangle-up",
           "triangle-down",
           "triangle-down",
           "triangle-down",
           "triangle-down",
           "triangle-up",
           "triangle-up",
           "triangle-up",
           "triangle-down",
           "triangle-up",
           "triangle-down",
           "triangle-up",
           "triangle-up",
           "triangle-down",
           "triangle-down",
           "triangle-up",
           "triangle-down",
           "triangle-down",
           "triangle-up",
           "triangle-down",
           "triangle-down",
           "triangle-up",
           "triangle-down",
           "triangle-up",
           "triangle-down",
           "triangle-up",
           "triangle-up",
           "triangle-up",
           "triangle-down",
           "triangle-down",
           "triangle-down",
           "triangle-up",
           "triangle-up",
           "triangle-down"
          ]
         },
         "mode": "markers",
         "name": "EURUSD",
         "showlegend": false,
         "type": "scatter",
         "x": [
          "2021-05-18T00:00:00+00:00",
          "2021-05-19T00:00:00+00:00",
          "2021-05-20T00:00:00+00:00",
          "2021-05-21T00:00:00+00:00",
          "2021-05-24T00:00:00+00:00",
          "2021-05-27T00:00:00+00:00",
          "2021-05-28T00:00:00+00:00",
          "2021-05-31T00:00:00+00:00",
          "2021-06-03T00:00:00+00:00",
          "2021-06-07T00:00:00+00:00",
          "2021-06-09T00:00:00+00:00",
          "2021-06-10T00:00:00+00:00",
          "2021-06-15T00:00:00+00:00",
          "2021-06-17T00:00:00+00:00",
          "2021-06-18T00:00:00+00:00",
          "2021-06-21T00:00:00+00:00",
          "2021-06-22T00:00:00+00:00",
          "2021-07-01T00:00:00+00:00",
          "2021-07-02T00:00:00+00:00",
          "2021-07-07T00:00:00+00:00",
          "2021-07-09T00:00:00+00:00",
          "2021-07-12T00:00:00+00:00",
          "2021-07-14T00:00:00+00:00",
          "2021-07-15T00:00:00+00:00",
          "2021-07-21T00:00:00+00:00",
          "2021-07-22T00:00:00+00:00",
          "2021-07-26T00:00:00+00:00",
          "2021-07-28T00:00:00+00:00",
          "2021-07-29T00:00:00+00:00",
          "2021-08-02T00:00:00+00:00",
          "2021-08-03T00:00:00+00:00",
          "2021-08-04T00:00:00+00:00",
          "2021-08-05T00:00:00+00:00",
          "2021-08-09T00:00:00+00:00",
          "2021-08-10T00:00:00+00:00",
          "2021-08-11T00:00:00+00:00",
          "2021-08-12T00:00:00+00:00",
          "2021-08-17T00:00:00+00:00",
          "2021-08-19T00:00:00+00:00",
          "2021-08-20T00:00:00+00:00",
          "2021-08-24T00:00:00+00:00",
          "2021-08-25T00:00:00+00:00",
          "2021-08-27T00:00:00+00:00",
          "2021-08-30T00:00:00+00:00",
          "2021-08-31T00:00:00+00:00"
         ],
         "y": [
          1.2221899999999999,
          1.21744,
          1.22269,
          1.21806,
          1.2215,
          1.21934,
          1.21896,
          1.2225,
          1.21265,
          1.21893,
          1.21787,
          1.21751,
          1.21264,
          1.19069,
          1.18597,
          1.19185,
          1.19413,
          1.18497,
          1.18646,
          1.17903,
          1.18774,
          1.18606,
          1.18358,
          1.18118,
          1.17946,
          1.17707,
          1.18029,
          1.18441,
          1.18865,
          1.18688,
          1.18637,
          1.18367,
          1.18327,
          1.17362,
          1.17203,
          1.17388,
          1.17296,
          1.17081,
          1.16756,
          1.16996,
          1.17555,
          1.17716,
          1.1795499999999999,
          1.17962,
          1.18083
         ],
         "yaxis": "y2"
        },
        {
         "hovertext": [
          "order id: 1<br>order type: Sell<br>close probability: 0.6650<br>margin: 171.106600<br>profit: 63.275630",
          "order id: 3<br>order type: Sell<br>close probability: 0.5644<br>margin: 2520.100800<br>profit: -1138.874946",
          "order id: 5<br>order type: Sell<br>close probability: 0.7678<br>margin: 97.815200<br>profit: 8.078541<br>---------------------------------<br>order id: 7<br>order type: Sell<br>close probability: 0.6728<br>margin: 706.474800<br>profit: -210.698124",
          "order id: 8<br>order type: Buy<br>close probability: 0.6436<br>margin: 403.095000<br>profit: -81.382584",
          "order id: 11<br>order type: Buy<br>close probability: 0.6525<br>margin: 585.283200<br>profit: -25.226392",
          "order id: 14<br>order type: Buy<br>close probability: 0.7094<br>margin: 378.975000<br>profit: -43.453546",
          "order id: 13<br>order type: Buy<br>close probability: 0.6137<br>margin: 1523.700000<br>profit: 231.946713",
          "order id: 19<br>order type: Buy<br>close probability: 0.7866<br>margin: 763.969500<br>profit: 381.897831",
          "order id: 22<br>order type: Sell<br>close probability: 0.5016<br>margin: 1523.662500<br>profit: 185.224355",
          "order id: 24<br>order type: Buy<br>close probability: 0.6208<br>margin: 158.323100<br>profit: -7.693644",
          "order id: 26<br>order type: Buy<br>close probability: 0.8465<br>margin: 1801.914800<br>profit: -746.215561",
          "order id: 32<br>order type: Sell<br>close probability: 0.6305<br>margin: 739.710400<br>profit: 794.446754",
          "order id: 35<br>order type: Sell<br>close probability: 0.5343<br>margin: 2381.380000<br>profit: 889.728990",
          "order id: 38<br>order type: Sell<br>close probability: 0.6599<br>margin: 747.161100<br>profit: -383.693551",
          "order id: 39<br>order type: Sell<br>close probability: 0.7461<br>margin: 595.925000<br>profit: -125.403555",
          "order id: 41<br>order type: Buy<br>close probability: 0.5134<br>margin: 1050.834400<br>profit: -154.451703",
          "order id: 44<br>order type: Buy<br>close probability: 0.6501<br>margin: 853.178400<br>profit: 83.115250",
          "order id: 46<br>order type: Buy<br>close probability: 0.5603<br>margin: 1483.075000<br>profit: -545.256387",
          "order id: 49<br>order type: Sell<br>close probability: 0.5192<br>margin: 1226.191200<br>profit: -591.339426",
          "order id: 51<br>order type: Buy<br>close probability: 0.7798<br>margin: 427.586400<br>profit: -371.611724",
          "order id: 53<br>order type: Sell<br>close probability: 0.6476<br>margin: 130.466600<br>profit: 24.615541",
          "order id: 55<br>order type: Buy<br>close probability: 0.8755<br>margin: 1503.146600<br>profit: -337.074424",
          "order id: 57<br>order type: Buy<br>close probability: 0.5282<br>margin: 94.494400<br>profit: -6.995852",
          "order id: 63<br>order type: Sell<br>close probability: 0.5486<br>margin: 259.481200<br>profit: 48.005469",
          "order id: 66<br>order type: Sell<br>close probability: 0.7529<br>margin: 235.414000<br>profit: 0.079139",
          "order id: 69<br>order type: Buy<br>close probability: 0.8761<br>margin: 1251.107400<br>profit: 719.839862",
          "order id: 73<br>order type: Sell<br>close probability: 0.8535<br>margin: 2345.131800<br>profit: 188.357713",
          "order id: 75<br>order type: Buy<br>close probability: 0.7785<br>margin: 1661.632000<br>profit: -1877.992515<br>---------------------------------<br>order id: 77<br>order type: Buy<br>close probability: 0.6370<br>margin: 544.304200<br>profit: -454.036269",
          "order id: 80<br>order type: Buy<br>close probability: 0.7889<br>margin: 152.363900<br>profit: 8.995639",
          "order id: 82<br>order type: Buy<br>close probability: 0.6878<br>margin: 1806.358400<br>profit: 995.439373",
          "order id: 86<br>order type: Buy<br>close probability: 0.6532<br>margin: 1498.636800<br>profit: 11.047912",
          "order id: 87<br>order type: Buy<br>close probability: 0.5180<br>margin: 35.026800<br>profit: 6.514974",
          "order id: 90<br>order type: Sell<br>close probability: 0.6267<br>margin: 561.580800<br>profit: -229.574157",
          "order id: 92<br>order type: Sell<br>close probability: 0.5738<br>margin: 635.666400<br>profit: -140.095609<br>---------------------------------<br>order id: 94<br>order type: Buy<br>close probability: 0.8146<br>margin: 176.932500<br>profit: -1.845659",
          "order id: 97<br>order type: Sell<br>close probability: 0.7354<br>margin: 1794.861600<br>profit: -491.203089",
          "order id: 95<br>order type: Buy<br>close probability: 0.5210<br>margin: 389.274600<br>profit: 250.817550"
         ],
         "legendgroup": "g2",
         "marker": {
          "color": "black",
          "line": {
           "width": 1.5
          },
          "size": 7,
          "symbol": "line-ns"
         },
         "mode": "markers",
         "name": "EURUSD",
         "showlegend": false,
         "type": "scatter",
         "x": [
          "2021-05-19T00:00:00+00:00",
          "2021-05-20T00:00:00+00:00",
          "2021-05-24T00:00:00+00:00",
          "2021-05-26T00:00:00+00:00",
          "2021-05-28T00:00:00+00:00",
          "2021-06-01T00:00:00+00:00",
          "2021-06-02T00:00:00+00:00",
          "2021-06-07T00:00:00+00:00",
          "2021-06-08T00:00:00+00:00",
          "2021-06-10T00:00:00+00:00",
          "2021-06-15T00:00:00+00:00",
          "2021-06-16T00:00:00+00:00",
          "2021-06-18T00:00:00+00:00",
          "2021-06-21T00:00:00+00:00",
          "2021-06-22T00:00:00+00:00",
          "2021-06-23T00:00:00+00:00",
          "2021-07-05T00:00:00+00:00",
          "2021-07-06T00:00:00+00:00",
          "2021-07-08T00:00:00+00:00",
          "2021-07-13T00:00:00+00:00",
          "2021-07-14T00:00:00+00:00",
          "2021-07-15T00:00:00+00:00",
          "2021-07-16T00:00:00+00:00",
          "2021-07-22T00:00:00+00:00",
          "2021-07-23T00:00:00+00:00",
          "2021-07-30T00:00:00+00:00",
          "2021-08-05T00:00:00+00:00",
          "2021-08-09T00:00:00+00:00",
          "2021-08-12T00:00:00+00:00",
          "2021-08-13T00:00:00+00:00",
          "2021-08-18T00:00:00+00:00",
          "2021-08-20T00:00:00+00:00",
          "2021-08-23T00:00:00+00:00",
          "2021-08-30T00:00:00+00:00",
          "2021-09-01T00:00:00+00:00",
          "2021-09-02T00:00:00+00:00"
         ],
         "y": [
          1.21744,
          1.22269,
          1.2215,
          1.21922,
          1.21896,
          1.22126,
          1.221,
          1.21893,
          1.21726,
          1.21751,
          1.21264,
          1.19943,
          1.18597,
          1.19185,
          1.19413,
          1.19258,
          1.18634,
          1.18231,
          1.18449,
          1.17765,
          1.18358,
          1.18118,
          1.18055,
          1.17707,
          1.17689,
          1.1873,
          1.18327,
          1.17362,
          1.17296,
          1.17962,
          1.17108,
          1.16996,
          1.1745700000000001,
          1.17962,
          1.18384,
          1.18744
         ],
         "yaxis": "y2"
        },
        {
         "hovertext": [
          "balance: 10000.000000 USD<br>equity: 10000.000000<br>margin: 0.000000<br>free margin: 10000.000000<br>margin level: inf",
          "balance: 10000.000000 USD<br>equity: 10000.000000<br>margin: 0.000000<br>free margin: 10000.000000<br>margin level: inf",
          "balance: 10000.000000 USD<br>equity: 10000.000000<br>margin: 0.000000<br>free margin: 10000.000000<br>margin level: inf",
          "balance: 10000.000000 USD<br>equity: 10000.000000<br>margin: 0.000000<br>free margin: 10000.000000<br>margin level: inf",
          "balance: 10000.000000 USD<br>equity: 10000.000000<br>margin: 0.000000<br>free margin: 10000.000000<br>margin level: inf",
          "balance: 10000.000000 USD<br>equity: 10000.000000<br>margin: 0.000000<br>free margin: 10000.000000<br>margin level: inf",
          "balance: 10000.000000 USD<br>equity: 10000.000000<br>margin: 0.000000<br>free margin: 10000.000000<br>margin level: inf",
          "balance: 10000.000000 USD<br>equity: 10000.000000<br>margin: 0.000000<br>free margin: 10000.000000<br>margin level: inf",
          "balance: 10000.000000 USD<br>equity: 10000.000000<br>margin: 0.000000<br>free margin: 10000.000000<br>margin level: inf",
          "balance: 10000.000000 USD<br>equity: 10000.000000<br>margin: 0.000000<br>free margin: 10000.000000<br>margin level: inf",
          "balance: 10000.000000 USD<br>equity: 10063.275630<br>margin: 171.106600<br>free margin: 9892.169030<br>margin level: 58.812902",
          "balance: 10063.275630 USD<br>equity: 8652.167329<br>margin: 3566.986769<br>free margin: 5085.180560<br>margin level: 2.425624",
          "balance: 8729.057009 USD<br>equity: 8565.200901<br>margin: 704.701169<br>free margin: 7860.499732<br>margin level: 12.154373",
          "balance: 8729.057009 USD<br>equity: 8209.931099<br>margin: 1481.928559<br>free margin: 6728.002540<br>margin level: 5.540032",
          "balance: 8526.437425 USD<br>equity: 8406.432302<br>margin: 1080.733559<br>free margin: 7325.698743<br>margin level: 7.778450",
          "balance: 8526.437425 USD<br>equity: 8387.624859<br>margin: 1080.733559<br>free margin: 7306.891300<br>margin level: 7.761048",
          "balance: 8375.301070 USD<br>equity: 8085.574406<br>margin: 570.752590<br>free margin: 7514.821815<br>margin level: 14.166514",
          "balance: 8062.585800 USD<br>equity: 7999.195855<br>margin: 2132.890781<br>free margin: 5866.305075<br>margin level: 3.750401",
          "balance: 7975.773557 USD<br>equity: 8356.718089<br>margin: 4687.444352<br>free margin: 3669.273738<br>margin level: 1.782788",
          "balance: 7975.773557 USD<br>equity: 9194.899731<br>margin: 5576.419352<br>free margin: 3618.480380<br>margin level: 1.648890",
          "balance: 7932.320011 USD<br>equity: 9661.788546<br>margin: 5477.444352<br>free margin: 4184.344195<br>margin level: 1.763923",
          "balance: 9680.259906 USD<br>equity: 9267.253427<br>margin: 977.429535<br>free margin: 8289.823892<br>margin level: 9.481250",
          "balance: 9333.927006 USD<br>equity: 11010.688124<br>margin: 6027.443421<br>free margin: 4983.244703<br>margin level: 1.826759",
          "balance: 9794.961017 USD<br>equity: 11920.025782<br>margin: 6665.050043<br>free margin: 5254.975739<br>margin level: 1.788438",
          "balance: 10357.979096 USD<br>equity: 11308.183155<br>margin: 4783.662500<br>free margin: 6524.520655<br>margin level: 2.363917",
          "balance: 11711.899391 USD<br>equity: 11127.034696<br>margin: 1580.000000<br>free margin: 9547.034696<br>margin level: 7.042427",
          "balance: 11711.899391 USD<br>equity: 12086.213048<br>margin: 3808.323100<br>free margin: 8277.889948<br>margin level: 3.173631",
          "balance: 12086.213048 USD<br>equity: 11118.859247<br>margin: 2041.914800<br>free margin: 9076.944447<br>margin level: 5.445310",
          "balance: 12086.213048 USD<br>equity: 10581.328131<br>margin: 4251.914800<br>free margin: 6329.413331<br>margin level: 2.488603",
          "balance: 11422.263692 USD<br>equity: 10514.414353<br>margin: 3637.795627<br>free margin: 6876.618726<br>margin level: 2.890326",
          "balance: 10542.232696 USD<br>equity: 11917.058483<br>margin: 3487.847743<br>free margin: 8429.210739<br>margin level: 3.416737",
          "balance: 11461.784930 USD<br>equity: 11560.721475<br>margin: 847.964091<br>free margin: 10712.757384<br>margin level: 13.633504",
          "balance: 11560.721475 USD<br>equity: 12412.750730<br>margin: 3741.380000<br>free margin: 8671.370730<br>margin level: 3.317693",
          "balance: 12450.450465 USD<br>equity: 12278.397353<br>margin: 4562.871570<br>free margin: 7715.525783<br>margin level: 2.690936",
          "balance: 12189.078912 USD<br>equity: 12575.496234<br>margin: 1955.925000<br>free margin: 10619.571234<br>margin level: 6.429437",
          "balance: 12063.675358 USD<br>equity: 12527.339375<br>margin: 4098.114035<br>free margin: 8429.225340<br>margin level: 3.056855",
          "balance: 11909.223655 USD<br>equity: 12708.303983<br>margin: 3047.279635<br>free margin: 9661.024347<br>margin level: 4.170377",
          "balance: 12684.996825 USD<br>equity: 13467.889247<br>margin: 1687.279635<br>free margin: 11780.609612<br>margin level: 7.982014",
          "balance: 12684.996825 USD<br>equity: 13024.965858<br>margin: 2227.279635<br>free margin: 10797.686223<br>margin level: 5.847926",
          "balance: 12757.471678 USD<br>equity: 12739.649870<br>margin: 1687.279635<br>free margin: 11052.370234<br>margin level: 7.550408",
          "balance: 12739.649870 USD<br>equity: 12663.448454<br>margin: 746.983162<br>free margin: 11916.465292<br>margin level: 16.952790",
          "balance: 12663.448454 USD<br>equity: 12663.448454<br>margin: 0.000000<br>free margin: 12663.448454<br>margin level: inf",
          "balance: 12663.448454 USD<br>equity: 12755.203704<br>margin: 853.178400<br>free margin: 11902.025304<br>margin level: 14.950219",
          "balance: 12663.448454 USD<br>equity: 12744.281556<br>margin: 4047.475556<br>free margin: 8696.806000<br>margin level: 3.148699",
          "balance: 12785.787942 USD<br>equity: 10707.323236<br>margin: 3641.007795<br>free margin: 7066.315441<br>margin level: 2.940758",
          "balance: 10707.323236 USD<br>equity: 10707.323236<br>margin: 0.000000<br>free margin: 10707.323236<br>margin level: inf",
          "balance: 10707.323236 USD<br>equity: 10115.983810<br>margin: 1226.191200<br>free margin: 8889.792610<br>margin level: 8.249924",
          "balance: 10115.983810 USD<br>equity: 9909.880023<br>margin: 610.000000<br>free margin: 9299.880023<br>margin level: 16.245705",
          "balance: 9909.880023 USD<br>equity: 9841.028298<br>margin: 427.586400<br>free margin: 9413.441898<br>margin level: 23.015298",
          "balance: 9909.880023 USD<br>equity: 9487.677296<br>margin: 2459.731085<br>free margin: 7027.946212<br>margin level: 3.857201",
          "balance: 9397.831755 USD<br>equity: 9739.989645<br>margin: 660.466600<br>free margin: 9079.523045<br>margin level: 14.747134",
          "balance: 9422.447296 USD<br>equity: 9460.683862<br>margin: 2033.146600<br>free margin: 7427.537262<br>margin level: 4.653223",
          "balance: 9460.683862 USD<br>equity: 8553.941915<br>margin: 5656.204516<br>free margin: 2897.737399<br>margin level: 1.512311",
          "balance: 9706.469959 USD<br>equity: 10145.692219<br>margin: 5079.976413<br>free margin: 5065.715807<br>margin level: 1.997193",
          "balance: 9706.469959 USD<br>equity: 6026.061219<br>margin: 5759.976413<br>free margin: 266.084807<br>margin level: 1.046195",
          "balance: 9939.919058 USD<br>equity: 4187.060887<br>margin: 5519.976413<br>free margin: -1332.915526<br>margin level: 0.758529",
          "balance: 4371.175961 USD<br>equity: 4285.282514<br>margin: 729.481200<br>free margin: 3555.801314<br>margin level: 5.874425",
          "balance: 4419.181431 USD<br>equity: 4018.405788<br>margin: 1778.826100<br>free margin: 2239.579688<br>margin level: 2.259021",
          "balance: 4305.969586 USD<br>equity: 4064.558218<br>margin: 2614.808601<br>free margin: 1449.749617<br>margin level: 1.554438",
          "balance: 4064.558218 USD<br>equity: 4627.572479<br>margin: 2081.107400<br>free margin: 2546.465079<br>margin level: 2.223611",
          "balance: 4506.632617 USD<br>equity: 4942.774780<br>margin: 1717.589794<br>free margin: 3225.184986<br>margin level: 2.877739",
          "balance: 4573.067125 USD<br>equity: 4635.463810<br>margin: 3896.239200<br>free margin: 739.224610<br>margin level: 1.189728",
          "balance: 4649.406235 USD<br>equity: 4759.663810<br>margin: 3596.239200<br>free margin: 1163.424610<br>margin level: 1.323511",
          "balance: 5369.246097 USD<br>equity: 4661.598215<br>margin: 2875.131800<br>free margin: 1786.466415<br>margin level: 1.621351",
          "balance: 5188.020502 USD<br>equity: 4669.585700<br>margin: 4006.763800<br>free margin: 662.821900<br>margin level: 1.165426",
          "balance: 5188.020502 USD<br>equity: 4703.130189<br>margin: 4605.085672<br>free margin: 98.044517<br>margin level: 1.021290",
          "balance: 5188.020502 USD<br>equity: 4709.752772<br>margin: 4605.085672<br>free margin: 104.667100<br>margin level: 1.022729",
          "balance: 5376.378215 USD<br>equity: 3407.868085<br>margin: 2804.258072<br>free margin: 603.610013<br>margin level: 1.215248",
          "balance: 5376.378215 USD<br>equity: 2909.687309<br>margin: 2970.759541<br>free margin: -61.072233<br>margin level: 0.979442",
          "balance: 3049.471056 USD<br>equity: 2465.076808<br>margin: 1058.321872<br>free margin: 1406.754936<br>margin level: 2.329232",
          "balance: 2465.076808 USD<br>equity: 2486.032447<br>margin: 152.363900<br>free margin: 2333.668547<br>margin level: 16.316414",
          "balance: 2465.076808 USD<br>equity: 2829.562287<br>margin: 2051.291557<br>free margin: 778.270729<br>margin level: 1.379405",
          "balance: 2829.562287 USD<br>equity: 4446.117043<br>margin: 2686.358400<br>free margin: 1759.758643<br>margin level: 1.655072",
          "balance: 4446.117043 USD<br>equity: 4074.200041<br>margin: 1100.000000<br>free margin: 2974.200041<br>margin level: 3.703818",
          "balance: 4446.117043 USD<br>equity: 4263.470017<br>margin: 1590.000000<br>free margin: 2673.470017<br>margin level: 2.681428",
          "balance: 4263.470017 USD<br>equity: 4274.517930<br>margin: 1498.636800<br>free margin: 2775.881130<br>margin level: 2.852271",
          "balance: 4274.517930 USD<br>equity: 4274.517930<br>margin: 0.000000<br>free margin: 4274.517930<br>margin level: inf",
          "balance: 4274.517930 USD<br>equity: 4241.736664<br>margin: 815.026800<br>free margin: 3426.709864<br>margin level: 5.204414",
          "balance: 4241.736664 USD<br>equity: 2828.271922<br>margin: 2209.800892<br>free margin: 618.471030<br>margin level: 1.279876",
          "balance: 4012.162506 USD<br>equity: 2103.854054<br>margin: 2428.220092<br>free margin: -324.366038<br>margin level: 0.866418",
          "balance: 3987.667541 USD<br>equity: 2560.815599<br>margin: 1648.220092<br>free margin: 912.595506<br>margin level: 1.553685",
          "balance: 3987.667541 USD<br>equity: 3160.294167<br>margin: 2283.886492<br>free margin: 876.407675<br>margin level: 1.383735",
          "balance: 3987.667541 USD<br>equity: 2691.063429<br>margin: 2283.886492<br>free margin: 407.176936<br>margin level: 1.178282",
          "balance: 2827.379037 USD<br>equity: 2755.228075<br>margin: 2573.513432<br>free margin: 181.714643<br>margin level: 1.070610",
          "balance: 2755.228075 USD<br>equity: 2787.915625<br>margin: 389.274600<br>free margin: 2398.641025<br>margin level: 7.161823",
          "balance: 2755.228075 USD<br>equity: 2405.451245<br>margin: 2494.165451<br>free margin: -88.714206<br>margin level: 0.964431",
          "balance: 2263.531912 USD<br>equity: 2516.336910<br>margin: 499.303851<br>free margin: 2017.033059<br>margin level: 5.039691",
          "balance: 2516.336910 USD<br>equity: 2516.336910<br>margin: 0.000000<br>free margin: 2516.336910<br>margin level: inf"
         ],
         "legendgroup": "g3",
         "line": {
          "color": "rgba(0.7372549019607844, 0.7411764705882353, 0.13333333333333333, 1.0)"
         },
         "mode": "lines+markers",
         "name": "USDJPY",
         "opacity": 1,
         "type": "scatter",
         "x": [
          "2021-05-05T00:00:00+00:00",
          "2021-05-06T00:00:00+00:00",
          "2021-05-07T00:00:00+00:00",
          "2021-05-10T00:00:00+00:00",
          "2021-05-11T00:00:00+00:00",
          "2021-05-12T00:00:00+00:00",
          "2021-05-13T00:00:00+00:00",
          "2021-05-14T00:00:00+00:00",
          "2021-05-17T00:00:00+00:00",
          "2021-05-18T00:00:00+00:00",
          "2021-05-19T00:00:00+00:00",
          "2021-05-20T00:00:00+00:00",
          "2021-05-21T00:00:00+00:00",
          "2021-05-24T00:00:00+00:00",
          "2021-05-25T00:00:00+00:00",
          "2021-05-26T00:00:00+00:00",
          "2021-05-27T00:00:00+00:00",
          "2021-05-28T00:00:00+00:00",
          "2021-05-31T00:00:00+00:00",
          "2021-06-01T00:00:00+00:00",
          "2021-06-02T00:00:00+00:00",
          "2021-06-03T00:00:00+00:00",
          "2021-06-04T00:00:00+00:00",
          "2021-06-07T00:00:00+00:00",
          "2021-06-08T00:00:00+00:00",
          "2021-06-09T00:00:00+00:00",
          "2021-06-10T00:00:00+00:00",
          "2021-06-11T00:00:00+00:00",
          "2021-06-14T00:00:00+00:00",
          "2021-06-15T00:00:00+00:00",
          "2021-06-16T00:00:00+00:00",
          "2021-06-17T00:00:00+00:00",
          "2021-06-18T00:00:00+00:00",
          "2021-06-21T00:00:00+00:00",
          "2021-06-22T00:00:00+00:00",
          "2021-06-23T00:00:00+00:00",
          "2021-06-24T00:00:00+00:00",
          "2021-06-25T00:00:00+00:00",
          "2021-06-28T00:00:00+00:00",
          "2021-06-29T00:00:00+00:00",
          "2021-06-30T00:00:00+00:00",
          "2021-07-01T00:00:00+00:00",
          "2021-07-02T00:00:00+00:00",
          "2021-07-05T00:00:00+00:00",
          "2021-07-06T00:00:00+00:00",
          "2021-07-07T00:00:00+00:00",
          "2021-07-08T00:00:00+00:00",
          "2021-07-09T00:00:00+00:00",
          "2021-07-12T00:00:00+00:00",
          "2021-07-13T00:00:00+00:00",
          "2021-07-14T00:00:00+00:00",
          "2021-07-15T00:00:00+00:00",
          "2021-07-16T00:00:00+00:00",
          "2021-07-19T00:00:00+00:00",
          "2021-07-20T00:00:00+00:00",
          "2021-07-21T00:00:00+00:00",
          "2021-07-22T00:00:00+00:00",
          "2021-07-23T00:00:00+00:00",
          "2021-07-26T00:00:00+00:00",
          "2021-07-27T00:00:00+00:00",
          "2021-07-28T00:00:00+00:00",
          "2021-07-29T00:00:00+00:00",
          "2021-07-30T00:00:00+00:00",
          "2021-08-02T00:00:00+00:00",
          "2021-08-03T00:00:00+00:00",
          "2021-08-04T00:00:00+00:00",
          "2021-08-05T00:00:00+00:00",
          "2021-08-06T00:00:00+00:00",
          "2021-08-09T00:00:00+00:00",
          "2021-08-10T00:00:00+00:00",
          "2021-08-11T00:00:00+00:00",
          "2021-08-12T00:00:00+00:00",
          "2021-08-13T00:00:00+00:00",
          "2021-08-16T00:00:00+00:00",
          "2021-08-17T00:00:00+00:00",
          "2021-08-18T00:00:00+00:00",
          "2021-08-19T00:00:00+00:00",
          "2021-08-20T00:00:00+00:00",
          "2021-08-23T00:00:00+00:00",
          "2021-08-24T00:00:00+00:00",
          "2021-08-25T00:00:00+00:00",
          "2021-08-26T00:00:00+00:00",
          "2021-08-27T00:00:00+00:00",
          "2021-08-30T00:00:00+00:00",
          "2021-08-31T00:00:00+00:00",
          "2021-09-01T00:00:00+00:00",
          "2021-09-02T00:00:00+00:00",
          "2021-09-03T00:00:00+00:00"
         ],
         "y": [
          109.188,
          109.09,
          108.604,
          108.81,
          108.615,
          109.699,
          109.453,
          109.362,
          109.209,
          108.888,
          109.227,
          108.767,
          108.945,
          108.74,
          108.747,
          109.139,
          109.808,
          109.872,
          109.556,
          109.467,
          109.547,
          110.276,
          109.524,
          109.238,
          109.492,
          109.618,
          109.319,
          109.682,
          110.071,
          110.056,
          110.708,
          110.221,
          110.211,
          110.314,
          110.658,
          110.949,
          110.874,
          110.778,
          110.614,
          110.538,
          111.101,
          111.521,
          111.02,
          110.962,
          110.61,
          110.608,
          109.748,
          110.102,
          110.349,
          110.627,
          109.95,
          109.831,
          110.081,
          109.447,
          109.843,
          110.286,
          110.149,
          110.547,
          110.381,
          109.774,
          109.909,
          109.47,
          109.656,
          109.305,
          109.042,
          109.473,
          109.761,
          110.217,
          110.267,
          110.56,
          110.428,
          110.386,
          109.592,
          109.243,
          109.595,
          109.763,
          109.763,
          109.799,
          109.694,
          109.679,
          110.023,
          110.081,
          109.85,
          109.913,
          110.007,
          110.025,
          109.937,
          109.712
         ],
         "yaxis": "y3"
        },
        {
         "hovertext": [
          "order id: 4<br>hold probability: 0.4641<br>hold: False<br>volume: 0.436789<br>modified volume: 0.4400<br>fee: 0.022885<br>margin: 440.000000<br>error: ",
          "order id: 9<br>hold probability: 0.4738<br>hold: False<br>volume: -0.496951<br>modified volume: 0.5000<br>fee: 0.017773<br>margin: 500.000000<br>error: ",
          "order id: 15<br>hold probability: 0.4026<br>hold: False<br>volume: -0.511069<br>modified volume: 0.5100<br>fee: 0.019378<br>margin: 510.000000<br>error: ",
          "order id: 16<br>hold probability: 0.4430<br>hold: False<br>volume: 0.278252<br>modified volume: 0.2800<br>fee: 0.021282<br>margin: 280.000000<br>error: ",
          "order id: 20<br>hold probability: 0.4128<br>hold: False<br>volume: -1.677619<br>modified volume: 1.6800<br>fee: 0.022316<br>margin: 1680.000000<br>error: ",
          "order id: 23<br>hold probability: 0.1293<br>hold: False<br>volume: -1.579593<br>modified volume: 1.5800<br>fee: 0.025770<br>margin: 1580.000000<br>error: ",
          "order id: 25<br>hold probability: 0.0431<br>hold: False<br>volume: -2.072224<br>modified volume: 2.0700<br>fee: 0.015762<br>margin: 2070.000000<br>error: ",
          "order id: 27<br>hold probability: 0.3641<br>hold: False<br>volume: 0.238414<br>modified volume: 0.2400<br>fee: 0.014112<br>margin: 240.000000<br>error: ",
          "order id: 28<br>hold probability: 0.1129<br>hold: False<br>volume: -2.211469<br>modified volume: 2.2100<br>fee: 0.021818<br>margin: 2210.000000<br>error: ",
          "order id: 30<br>hold probability: 0.4719<br>hold: False<br>volume: 0.815447<br>modified volume: 0.8200<br>fee: 0.022336<br>margin: 820.000000<br>error: ",
          "order id: 33<br>hold probability: 0.2086<br>hold: False<br>volume: 0.069199<br>modified volume: 0.0700<br>fee: 0.023013<br>margin: 70.000000<br>error: ",
          "order id: 36<br>hold probability: 0.1206<br>hold: False<br>volume: 1.363661<br>modified volume: 1.3600<br>fee: 0.020551<br>margin: 1360.000000<br>error: ",
          "order id: 42<br>hold probability: 0.3260<br>hold: False<br>volume: -0.536973<br>modified volume: 0.5400<br>fee: 0.015542<br>margin: 540.000000<br>error: ",
          "order id: 47<br>hold probability: 0.1474<br>hold: False<br>volume: 0.659058<br>modified volume: 0.6600<br>fee: 0.013249<br>margin: 660.000000<br>error: ",
          "order id: 50<br>hold probability: 0.3897<br>hold: False<br>volume: -0.608430<br>modified volume: 0.6100<br>fee: 0.018007<br>margin: 610.000000<br>error: ",
          "order id: 54<br>hold probability: 0.0949<br>hold: False<br>volume: -0.531604<br>modified volume: 0.5300<br>fee: 0.018249<br>margin: 530.000000<br>error: ",
          "order id: 58<br>hold probability: 0.4119<br>hold: False<br>volume: 1.176724<br>modified volume: 1.1800<br>fee: 0.014182<br>margin: 1180.000000<br>error: ",
          "order id: 60<br>hold probability: 0.4956<br>hold: False<br>volume: 0.010875<br>modified volume: 0.0100<br>fee: 0.017813<br>margin: 10.000000<br>error: ",
          "order id: 61<br>hold probability: 0.2575<br>hold: False<br>volume: 0.677537<br>modified volume: 0.6800<br>fee: 0.018901<br>margin: 680.000000<br>error: ",
          "order id: 62<br>hold probability: 0.2293<br>hold: False<br>volume: -0.443167<br>modified volume: 0.4400<br>fee: 0.018484<br>margin: 440.000000<br>error: ",
          "order id: 64<br>hold probability: 0.3206<br>hold: False<br>volume: 0.025513<br>modified volume: 0.0300<br>fee: 0.020172<br>margin: 30.000000<br>error: ",
          "order id: <br>hold probability: 0.3434<br>hold: False<br>volume: 1.687856<br>modified volume: 1.6900<br>fee: nan<br>margin: nan<br>error: cannot add more orders",
          "order id: 68<br>hold probability: 0.4572<br>hold: False<br>volume: 1.463733<br>modified volume: 1.4600<br>fee: 0.016679<br>margin: 1460.000000<br>error: ",
          "order id: 70<br>hold probability: 0.4831<br>hold: False<br>volume: -0.832034<br>modified volume: 0.8300<br>fee: 0.022322<br>margin: 830.000000<br>error: ",
          "order id: 72<br>hold probability: 0.3649<br>hold: False<br>volume: -0.297940<br>modified volume: 0.3000<br>fee: 0.025439<br>margin: 300.000000<br>error: ",
          "order id: 74<br>hold probability: 0.4962<br>hold: False<br>volume: 0.527365<br>modified volume: 0.5300<br>fee: 0.022752<br>margin: 530.000000<br>error: ",
          "order id: <br>hold probability: 0.4172<br>hold: False<br>volume: -0.713800<br>modified volume: 0.7100<br>fee: nan<br>margin: nan<br>error: low free margin (order margin=710.0, order profit=-11.507334622610783, free margin=633.2418995909902)",
          "order id: <br>hold probability: 0.4533<br>hold: False<br>volume: -0.998300<br>modified volume: 1.0000<br>fee: nan<br>margin: nan<br>error: low free margin (order margin=1000.0, order profit=-18.534316822757862, free margin=39.161282232575104)",
          "order id: <br>hold probability: 0.2630<br>hold: False<br>volume: 2.412551<br>modified volume: 2.4100<br>fee: nan<br>margin: nan<br>error: low free margin (order margin=2409.9999999999995, order profit=-41.2123017486069, free margin=430.96078519132243)",
          "order id: 79<br>hold probability: 0.4855<br>hold: False<br>volume: -0.464994<br>modified volume: 0.4600<br>fee: 0.018691<br>margin: 460.000000<br>error: ",
          "order id: 83<br>hold probability: 0.0567<br>hold: False<br>volume: -0.880246<br>modified volume: 0.8800<br>fee: 0.020485<br>margin: 880.000000<br>error: ",
          "order id: 84<br>hold probability: 0.4375<br>hold: False<br>volume: 1.097115<br>modified volume: 1.1000<br>fee: 0.020358<br>margin: 1100.000000<br>error: ",
          "order id: 85<br>hold probability: 0.4911<br>hold: False<br>volume: -0.491729<br>modified volume: 0.4900<br>fee: 0.017548<br>margin: 490.000000<br>error: ",
          "order id: 88<br>hold probability: 0.3312<br>hold: False<br>volume: -0.778333<br>modified volume: 0.7800<br>fee: 0.019317<br>margin: 780.000000<br>error: ",
          "order id: 91<br>hold probability: 0.3730<br>hold: False<br>volume: 0.782091<br>modified volume: 0.7800<br>fee: 0.019443<br>margin: 780.000000<br>error: ",
          "order id: <br>hold probability: 0.0804<br>hold: False<br>volume: -0.600848<br>modified volume: 0.6000<br>fee: nan<br>margin: nan<br>error: low free margin (order margin=600.0, order profit=-12.27980709251964, free margin=455.6339617556523)",
          "order id: <br>hold probability: 0.2414<br>hold: False<br>volume: 0.739093<br>modified volume: 0.7400<br>fee: nan<br>margin: nan<br>error: low free margin (order margin=740.0000000000001, order profit=-10.83492289180072, free margin=37.26123388349515)",
          "order id: 98<br>hold probability: 0.4264<br>hold: False<br>volume: 0.195844<br>modified volume: 0.2000<br>fee: 0.020713<br>margin: 200.000000<br>error: "
         ],
         "legendgroup": "g3",
         "marker": {
          "color": [
           "green",
           "red",
           "red",
           "green",
           "red",
           "red",
           "red",
           "green",
           "red",
           "green",
           "green",
           "green",
           "red",
           "green",
           "red",
           "red",
           "green",
           "green",
           "green",
           "red",
           "green",
           "gray",
           "green",
           "red",
           "red",
           "green",
           "gray",
           "gray",
           "gray",
           "red",
           "red",
           "green",
           "red",
           "red",
           "green",
           "gray",
           "gray",
           "green"
          ],
          "size": [
           11.349480968858131,
           11.806228373702421,
           11.882352941176471,
           10.131487889273355,
           20.78892733564014,
           20.027681660899653,
           23.757785467128024,
           9.826989619377162,
           24.823529411764703,
           14.242214532871973,
           8.53287197231834,
           18.352941176470587,
           12.110726643598616,
           13.024221453287197,
           12.643598615916954,
           12.034602076124568,
           16.982698961937714,
           8.076124567474048,
           13.176470588235293,
           11.349480968858131,
           8.228373702422145,
           20.865051903114185,
           19.114186851211073,
           14.318339100346021,
           10.283737024221454,
           12.034602076124568,
           13.40484429065744,
           15.612456747404844,
           26.346020761245676,
           11.501730103806228,
           14.698961937716263,
           16.37370242214533,
           11.730103806228374,
           13.937716262975778,
           13.937716262975778,
           12.567474048442907,
           13.633217993079583,
           9.522491349480969
          ],
          "symbol": [
           "triangle-up",
           "triangle-down",
           "triangle-down",
           "triangle-up",
           "triangle-down",
           "triangle-down",
           "triangle-down",
           "triangle-up",
           "triangle-down",
           "triangle-up",
           "triangle-up",
           "triangle-up",
           "triangle-down",
           "triangle-up",
           "triangle-down",
           "triangle-down",
           "triangle-up",
           "triangle-up",
           "triangle-up",
           "triangle-down",
           "triangle-up",
           "triangle-down",
           "triangle-up",
           "triangle-down",
           "triangle-down",
           "triangle-up",
           "triangle-down",
           "triangle-down",
           "triangle-down",
           "triangle-down",
           "triangle-down",
           "triangle-up",
           "triangle-down",
           "triangle-down",
           "triangle-up",
           "triangle-down",
           "triangle-down",
           "triangle-up"
          ]
         },
         "mode": "markers",
         "name": "USDJPY",
         "showlegend": false,
         "type": "scatter",
         "x": [
          "2021-05-19T00:00:00+00:00",
          "2021-05-26T00:00:00+00:00",
          "2021-05-31T00:00:00+00:00",
          "2021-06-01T00:00:00+00:00",
          "2021-06-03T00:00:00+00:00",
          "2021-06-07T00:00:00+00:00",
          "2021-06-09T00:00:00+00:00",
          "2021-06-10T00:00:00+00:00",
          "2021-06-11T00:00:00+00:00",
          "2021-06-14T00:00:00+00:00",
          "2021-06-15T00:00:00+00:00",
          "2021-06-17T00:00:00+00:00",
          "2021-06-25T00:00:00+00:00",
          "2021-07-02T00:00:00+00:00",
          "2021-07-08T00:00:00+00:00",
          "2021-07-13T00:00:00+00:00",
          "2021-07-15T00:00:00+00:00",
          "2021-07-16T00:00:00+00:00",
          "2021-07-19T00:00:00+00:00",
          "2021-07-20T00:00:00+00:00",
          "2021-07-21T00:00:00+00:00",
          "2021-07-22T00:00:00+00:00",
          "2021-07-23T00:00:00+00:00",
          "2021-07-26T00:00:00+00:00",
          "2021-07-27T00:00:00+00:00",
          "2021-07-30T00:00:00+00:00",
          "2021-08-02T00:00:00+00:00",
          "2021-08-03T00:00:00+00:00",
          "2021-08-06T00:00:00+00:00",
          "2021-08-09T00:00:00+00:00",
          "2021-08-12T00:00:00+00:00",
          "2021-08-13T00:00:00+00:00",
          "2021-08-16T00:00:00+00:00",
          "2021-08-19T00:00:00+00:00",
          "2021-08-23T00:00:00+00:00",
          "2021-08-24T00:00:00+00:00",
          "2021-08-27T00:00:00+00:00",
          "2021-08-31T00:00:00+00:00"
         ],
         "y": [
          109.227,
          109.139,
          109.556,
          109.467,
          110.276,
          109.238,
          109.618,
          109.319,
          109.682,
          110.071,
          110.056,
          110.221,
          110.778,
          111.02,
          109.748,
          110.627,
          109.831,
          110.081,
          109.447,
          109.843,
          110.286,
          110.149,
          110.547,
          110.381,
          109.774,
          109.656,
          109.305,
          109.042,
          110.217,
          110.267,
          110.386,
          109.592,
          109.243,
          109.763,
          109.694,
          109.679,
          109.85,
          110.007
         ],
         "yaxis": "y3"
        },
        {
         "hovertext": [
          "order id: 4<br>order type: Buy<br>close probability: 0.6933<br>margin: 440.000000<br>profit: -195.343675",
          "order id: 9<br>order type: Sell<br>close probability: 0.6854<br>margin: 500.000000<br>profit: -312.715270",
          "order id: 16<br>order type: Buy<br>close probability: 0.6426<br>margin: 280.000000<br>profit: 15.008330",
          "order id: 15<br>order type: Sell<br>close probability: 0.5748<br>margin: 510.000000<br>profit: -341.944682",
          "order id: 20<br>order type: Sell<br>close probability: 0.5626<br>margin: 1680.000000<br>profit: 1168.695940",
          "order id: 23<br>order type: Sell<br>close probability: 0.6507<br>margin: 1580.000000<br>profit: -154.316250<br>---------------------------------<br>order id: 25<br>order type: Sell<br>close probability: 0.5963<br>margin: 2070.000000<br>profit: 536.323551",
          "order id: 27<br>order type: Buy<br>close probability: 0.5529<br>margin: 240.000000<br>profit: 160.889943<br>---------------------------------<br>order id: 28<br>order type: Sell<br>close probability: 0.6126<br>margin: 2210.000000<br>profit: -824.839299",
          "order id: 33<br>order type: Buy<br>close probability: 0.6254<br>margin: 70.000000<br>profit: 39.770445",
          "order id: 30<br>order type: Buy<br>close probability: 0.7147<br>margin: 820.000000<br>profit: 94.976678",
          "order id: 36<br>order type: Buy<br>close probability: 0.7316<br>margin: 1360.000000<br>profit: 775.773170",
          "order id: 42<br>order type: Sell<br>close probability: 0.6682<br>margin: 540.000000<br>profit: 72.474853",
          "order id: 47<br>order type: Buy<br>close probability: 0.6308<br>margin: 660.000000<br>profit: -42.378967",
          "order id: 50<br>order type: Sell<br>close probability: 0.7136<br>margin: 610.000000<br>profit: -206.103787",
          "order id: 54<br>order type: Sell<br>close probability: 0.8297<br>margin: 530.000000<br>profit: 375.310989",
          "order id: 58<br>order type: Buy<br>close probability: 0.7002<br>margin: 1180.000000<br>profit: 252.781949",
          "order id: 61<br>order type: Buy<br>close probability: 0.8251<br>margin: 680.000000<br>profit: 233.449098",
          "order id: 60<br>order type: Buy<br>close probability: 0.5537<br>margin: 10.000000<br>profit: 1.697286",
          "order id: 64<br>order type: Buy<br>close probability: 0.8168<br>margin: 30.000000<br>profit: 6.535531",
          "order id: 62<br>order type: Sell<br>close probability: 0.6457<br>margin: 440.000000<br>profit: -221.825451<br>---------------------------------<br>order id: 68<br>order type: Buy<br>close probability: 0.7230<br>margin: 1460.000000<br>profit: -241.628252",
          "order id: 70<br>order type: Sell<br>close probability: 0.6008<br>margin: 830.000000<br>profit: 442.074399",
          "order id: 72<br>order type: Sell<br>close probability: 0.5239<br>margin: 300.000000<br>profit: 76.339111",
          "order id: 74<br>order type: Buy<br>close probability: 0.6987<br>margin: 530.000000<br>profit: -181.225595",
          "order id: 79<br>order type: Sell<br>close probability: 0.8248<br>margin: 460.000000<br>profit: -129.683396",
          "order id: 83<br>order type: Sell<br>close probability: 0.5948<br>margin: 880.000000<br>profit: 621.115384",
          "order id: 84<br>order type: Buy<br>close probability: 0.6222<br>margin: 1100.000000<br>profit: -17.421681<br>---------------------------------<br>order id: 85<br>order type: Sell<br>close probability: 0.5974<br>margin: 490.000000<br>profit: -165.225345",
          "order id: 88<br>order type: Sell<br>close probability: 0.5024<br>margin: 780.000000<br>profit: -39.296240",
          "order id: 91<br>order type: Buy<br>close probability: 0.6499<br>margin: 780.000000<br>profit: -24.494965",
          "order id: 98<br>order type: Buy<br>close probability: 0.7538<br>margin: 200.000000<br>profit: -0.493075"
         ],
         "legendgroup": "g3",
         "marker": {
          "color": "black",
          "line": {
           "width": 1.5
          },
          "size": 7,
          "symbol": "line-ns"
         },
         "mode": "markers",
         "name": "USDJPY",
         "showlegend": false,
         "type": "scatter",
         "x": [
          "2021-05-20T00:00:00+00:00",
          "2021-05-27T00:00:00+00:00",
          "2021-06-02T00:00:00+00:00",
          "2021-06-03T00:00:00+00:00",
          "2021-06-08T00:00:00+00:00",
          "2021-06-10T00:00:00+00:00",
          "2021-06-14T00:00:00+00:00",
          "2021-06-16T00:00:00+00:00",
          "2021-06-17T00:00:00+00:00",
          "2021-06-24T00:00:00+00:00",
          "2021-06-28T00:00:00+00:00",
          "2021-07-05T00:00:00+00:00",
          "2021-07-09T00:00:00+00:00",
          "2021-07-15T00:00:00+00:00",
          "2021-07-16T00:00:00+00:00",
          "2021-07-20T00:00:00+00:00",
          "2021-07-21T00:00:00+00:00",
          "2021-07-23T00:00:00+00:00",
          "2021-07-26T00:00:00+00:00",
          "2021-07-27T00:00:00+00:00",
          "2021-07-29T00:00:00+00:00",
          "2021-08-02T00:00:00+00:00",
          "2021-08-10T00:00:00+00:00",
          "2021-08-13T00:00:00+00:00",
          "2021-08-17T00:00:00+00:00",
          "2021-08-20T00:00:00+00:00",
          "2021-08-24T00:00:00+00:00",
          "2021-09-01T00:00:00+00:00"
         ],
         "y": [
          108.767,
          109.808,
          109.547,
          110.276,
          109.492,
          109.319,
          110.071,
          110.708,
          110.221,
          110.874,
          110.614,
          110.962,
          110.102,
          109.831,
          110.081,
          109.843,
          110.286,
          110.547,
          110.381,
          109.774,
          109.47,
          109.305,
          110.56,
          109.592,
          109.595,
          109.799,
          109.679,
          110.025
         ],
         "yaxis": "y3"
        }
       ],
       "layout": {
        "height": 600,
        "template": {
         "data": {
          "bar": [
           {
            "error_x": {
             "color": "#2a3f5f"
            },
            "error_y": {
             "color": "#2a3f5f"
            },
            "marker": {
             "line": {
              "color": "#E5ECF6",
              "width": 0.5
             },
             "pattern": {
              "fillmode": "overlay",
              "size": 10,
              "solidity": 0.2
             }
            },
            "type": "bar"
           }
          ],
          "barpolar": [
           {
            "marker": {
             "line": {
              "color": "#E5ECF6",
              "width": 0.5
             },
             "pattern": {
              "fillmode": "overlay",
              "size": 10,
              "solidity": 0.2
             }
            },
            "type": "barpolar"
           }
          ],
          "carpet": [
           {
            "aaxis": {
             "endlinecolor": "#2a3f5f",
             "gridcolor": "white",
             "linecolor": "white",
             "minorgridcolor": "white",
             "startlinecolor": "#2a3f5f"
            },
            "baxis": {
             "endlinecolor": "#2a3f5f",
             "gridcolor": "white",
             "linecolor": "white",
             "minorgridcolor": "white",
             "startlinecolor": "#2a3f5f"
            },
            "type": "carpet"
           }
          ],
          "choropleth": [
           {
            "colorbar": {
             "outlinewidth": 0,
             "ticks": ""
            },
            "type": "choropleth"
           }
          ],
          "contour": [
           {
            "colorbar": {
             "outlinewidth": 0,
             "ticks": ""
            },
            "colorscale": [
             [
              0,
              "#0d0887"
             ],
             [
              0.1111111111111111,
              "#46039f"
             ],
             [
              0.2222222222222222,
              "#7201a8"
             ],
             [
              0.3333333333333333,
              "#9c179e"
             ],
             [
              0.4444444444444444,
              "#bd3786"
             ],
             [
              0.5555555555555556,
              "#d8576b"
             ],
             [
              0.6666666666666666,
              "#ed7953"
             ],
             [
              0.7777777777777778,
              "#fb9f3a"
             ],
             [
              0.8888888888888888,
              "#fdca26"
             ],
             [
              1,
              "#f0f921"
             ]
            ],
            "type": "contour"
           }
          ],
          "contourcarpet": [
           {
            "colorbar": {
             "outlinewidth": 0,
             "ticks": ""
            },
            "type": "contourcarpet"
           }
          ],
          "heatmap": [
           {
            "colorbar": {
             "outlinewidth": 0,
             "ticks": ""
            },
            "colorscale": [
             [
              0,
              "#0d0887"
             ],
             [
              0.1111111111111111,
              "#46039f"
             ],
             [
              0.2222222222222222,
              "#7201a8"
             ],
             [
              0.3333333333333333,
              "#9c179e"
             ],
             [
              0.4444444444444444,
              "#bd3786"
             ],
             [
              0.5555555555555556,
              "#d8576b"
             ],
             [
              0.6666666666666666,
              "#ed7953"
             ],
             [
              0.7777777777777778,
              "#fb9f3a"
             ],
             [
              0.8888888888888888,
              "#fdca26"
             ],
             [
              1,
              "#f0f921"
             ]
            ],
            "type": "heatmap"
           }
          ],
          "heatmapgl": [
           {
            "colorbar": {
             "outlinewidth": 0,
             "ticks": ""
            },
            "colorscale": [
             [
              0,
              "#0d0887"
             ],
             [
              0.1111111111111111,
              "#46039f"
             ],
             [
              0.2222222222222222,
              "#7201a8"
             ],
             [
              0.3333333333333333,
              "#9c179e"
             ],
             [
              0.4444444444444444,
              "#bd3786"
             ],
             [
              0.5555555555555556,
              "#d8576b"
             ],
             [
              0.6666666666666666,
              "#ed7953"
             ],
             [
              0.7777777777777778,
              "#fb9f3a"
             ],
             [
              0.8888888888888888,
              "#fdca26"
             ],
             [
              1,
              "#f0f921"
             ]
            ],
            "type": "heatmapgl"
           }
          ],
          "histogram": [
           {
            "marker": {
             "pattern": {
              "fillmode": "overlay",
              "size": 10,
              "solidity": 0.2
             }
            },
            "type": "histogram"
           }
          ],
          "histogram2d": [
           {
            "colorbar": {
             "outlinewidth": 0,
             "ticks": ""
            },
            "colorscale": [
             [
              0,
              "#0d0887"
             ],
             [
              0.1111111111111111,
              "#46039f"
             ],
             [
              0.2222222222222222,
              "#7201a8"
             ],
             [
              0.3333333333333333,
              "#9c179e"
             ],
             [
              0.4444444444444444,
              "#bd3786"
             ],
             [
              0.5555555555555556,
              "#d8576b"
             ],
             [
              0.6666666666666666,
              "#ed7953"
             ],
             [
              0.7777777777777778,
              "#fb9f3a"
             ],
             [
              0.8888888888888888,
              "#fdca26"
             ],
             [
              1,
              "#f0f921"
             ]
            ],
            "type": "histogram2d"
           }
          ],
          "histogram2dcontour": [
           {
            "colorbar": {
             "outlinewidth": 0,
             "ticks": ""
            },
            "colorscale": [
             [
              0,
              "#0d0887"
             ],
             [
              0.1111111111111111,
              "#46039f"
             ],
             [
              0.2222222222222222,
              "#7201a8"
             ],
             [
              0.3333333333333333,
              "#9c179e"
             ],
             [
              0.4444444444444444,
              "#bd3786"
             ],
             [
              0.5555555555555556,
              "#d8576b"
             ],
             [
              0.6666666666666666,
              "#ed7953"
             ],
             [
              0.7777777777777778,
              "#fb9f3a"
             ],
             [
              0.8888888888888888,
              "#fdca26"
             ],
             [
              1,
              "#f0f921"
             ]
            ],
            "type": "histogram2dcontour"
           }
          ],
          "mesh3d": [
           {
            "colorbar": {
             "outlinewidth": 0,
             "ticks": ""
            },
            "type": "mesh3d"
           }
          ],
          "parcoords": [
           {
            "line": {
             "colorbar": {
              "outlinewidth": 0,
              "ticks": ""
             }
            },
            "type": "parcoords"
           }
          ],
          "pie": [
           {
            "automargin": true,
            "type": "pie"
           }
          ],
          "scatter": [
           {
            "marker": {
             "colorbar": {
              "outlinewidth": 0,
              "ticks": ""
             }
            },
            "type": "scatter"
           }
          ],
          "scatter3d": [
           {
            "line": {
             "colorbar": {
              "outlinewidth": 0,
              "ticks": ""
             }
            },
            "marker": {
             "colorbar": {
              "outlinewidth": 0,
              "ticks": ""
             }
            },
            "type": "scatter3d"
           }
          ],
          "scattercarpet": [
           {
            "marker": {
             "colorbar": {
              "outlinewidth": 0,
              "ticks": ""
             }
            },
            "type": "scattercarpet"
           }
          ],
          "scattergeo": [
           {
            "marker": {
             "colorbar": {
              "outlinewidth": 0,
              "ticks": ""
             }
            },
            "type": "scattergeo"
           }
          ],
          "scattergl": [
           {
            "marker": {
             "colorbar": {
              "outlinewidth": 0,
              "ticks": ""
             }
            },
            "type": "scattergl"
           }
          ],
          "scattermapbox": [
           {
            "marker": {
             "colorbar": {
              "outlinewidth": 0,
              "ticks": ""
             }
            },
            "type": "scattermapbox"
           }
          ],
          "scatterpolar": [
           {
            "marker": {
             "colorbar": {
              "outlinewidth": 0,
              "ticks": ""
             }
            },
            "type": "scatterpolar"
           }
          ],
          "scatterpolargl": [
           {
            "marker": {
             "colorbar": {
              "outlinewidth": 0,
              "ticks": ""
             }
            },
            "type": "scatterpolargl"
           }
          ],
          "scatterternary": [
           {
            "marker": {
             "colorbar": {
              "outlinewidth": 0,
              "ticks": ""
             }
            },
            "type": "scatterternary"
           }
          ],
          "surface": [
           {
            "colorbar": {
             "outlinewidth": 0,
             "ticks": ""
            },
            "colorscale": [
             [
              0,
              "#0d0887"
             ],
             [
              0.1111111111111111,
              "#46039f"
             ],
             [
              0.2222222222222222,
              "#7201a8"
             ],
             [
              0.3333333333333333,
              "#9c179e"
             ],
             [
              0.4444444444444444,
              "#bd3786"
             ],
             [
              0.5555555555555556,
              "#d8576b"
             ],
             [
              0.6666666666666666,
              "#ed7953"
             ],
             [
              0.7777777777777778,
              "#fb9f3a"
             ],
             [
              0.8888888888888888,
              "#fdca26"
             ],
             [
              1,
              "#f0f921"
             ]
            ],
            "type": "surface"
           }
          ],
          "table": [
           {
            "cells": {
             "fill": {
              "color": "#EBF0F8"
             },
             "line": {
              "color": "white"
             }
            },
            "header": {
             "fill": {
              "color": "#C8D4E3"
             },
             "line": {
              "color": "white"
             }
            },
            "type": "table"
           }
          ]
         },
         "layout": {
          "annotationdefaults": {
           "arrowcolor": "#2a3f5f",
           "arrowhead": 0,
           "arrowwidth": 1
          },
          "autotypenumbers": "strict",
          "coloraxis": {
           "colorbar": {
            "outlinewidth": 0,
            "ticks": ""
           }
          },
          "colorscale": {
           "diverging": [
            [
             0,
             "#8e0152"
            ],
            [
             0.1,
             "#c51b7d"
            ],
            [
             0.2,
             "#de77ae"
            ],
            [
             0.3,
             "#f1b6da"
            ],
            [
             0.4,
             "#fde0ef"
            ],
            [
             0.5,
             "#f7f7f7"
            ],
            [
             0.6,
             "#e6f5d0"
            ],
            [
             0.7,
             "#b8e186"
            ],
            [
             0.8,
             "#7fbc41"
            ],
            [
             0.9,
             "#4d9221"
            ],
            [
             1,
             "#276419"
            ]
           ],
           "sequential": [
            [
             0,
             "#0d0887"
            ],
            [
             0.1111111111111111,
             "#46039f"
            ],
            [
             0.2222222222222222,
             "#7201a8"
            ],
            [
             0.3333333333333333,
             "#9c179e"
            ],
            [
             0.4444444444444444,
             "#bd3786"
            ],
            [
             0.5555555555555556,
             "#d8576b"
            ],
            [
             0.6666666666666666,
             "#ed7953"
            ],
            [
             0.7777777777777778,
             "#fb9f3a"
            ],
            [
             0.8888888888888888,
             "#fdca26"
            ],
            [
             1,
             "#f0f921"
            ]
           ],
           "sequentialminus": [
            [
             0,
             "#0d0887"
            ],
            [
             0.1111111111111111,
             "#46039f"
            ],
            [
             0.2222222222222222,
             "#7201a8"
            ],
            [
             0.3333333333333333,
             "#9c179e"
            ],
            [
             0.4444444444444444,
             "#bd3786"
            ],
            [
             0.5555555555555556,
             "#d8576b"
            ],
            [
             0.6666666666666666,
             "#ed7953"
            ],
            [
             0.7777777777777778,
             "#fb9f3a"
            ],
            [
             0.8888888888888888,
             "#fdca26"
            ],
            [
             1,
             "#f0f921"
            ]
           ]
          },
          "colorway": [
           "#636efa",
           "#EF553B",
           "#00cc96",
           "#ab63fa",
           "#FFA15A",
           "#19d3f3",
           "#FF6692",
           "#B6E880",
           "#FF97FF",
           "#FECB52"
          ],
          "font": {
           "color": "#2a3f5f"
          },
          "geo": {
           "bgcolor": "white",
           "lakecolor": "white",
           "landcolor": "#E5ECF6",
           "showlakes": true,
           "showland": true,
           "subunitcolor": "white"
          },
          "hoverlabel": {
           "align": "left"
          },
          "hovermode": "closest",
          "mapbox": {
           "style": "light"
          },
          "paper_bgcolor": "white",
          "plot_bgcolor": "#E5ECF6",
          "polar": {
           "angularaxis": {
            "gridcolor": "white",
            "linecolor": "white",
            "ticks": ""
           },
           "bgcolor": "#E5ECF6",
           "radialaxis": {
            "gridcolor": "white",
            "linecolor": "white",
            "ticks": ""
           }
          },
          "scene": {
           "xaxis": {
            "backgroundcolor": "#E5ECF6",
            "gridcolor": "white",
            "gridwidth": 2,
            "linecolor": "white",
            "showbackground": true,
            "ticks": "",
            "zerolinecolor": "white"
           },
           "yaxis": {
            "backgroundcolor": "#E5ECF6",
            "gridcolor": "white",
            "gridwidth": 2,
            "linecolor": "white",
            "showbackground": true,
            "ticks": "",
            "zerolinecolor": "white"
           },
           "zaxis": {
            "backgroundcolor": "#E5ECF6",
            "gridcolor": "white",
            "gridwidth": 2,
            "linecolor": "white",
            "showbackground": true,
            "ticks": "",
            "zerolinecolor": "white"
           }
          },
          "shapedefaults": {
           "line": {
            "color": "#2a3f5f"
           }
          },
          "ternary": {
           "aaxis": {
            "gridcolor": "white",
            "linecolor": "white",
            "ticks": ""
           },
           "baxis": {
            "gridcolor": "white",
            "linecolor": "white",
            "ticks": ""
           },
           "bgcolor": "#E5ECF6",
           "caxis": {
            "gridcolor": "white",
            "linecolor": "white",
            "ticks": ""
           }
          },
          "title": {
           "x": 0.05
          },
          "xaxis": {
           "automargin": true,
           "gridcolor": "white",
           "linecolor": "white",
           "ticks": "",
           "title": {
            "standoff": 15
           },
           "zerolinecolor": "white",
           "zerolinewidth": 2
          },
          "yaxis": {
           "automargin": true,
           "gridcolor": "white",
           "linecolor": "white",
           "ticks": "",
           "title": {
            "standoff": 15
           },
           "zerolinecolor": "white",
           "zerolinewidth": 2
          }
         }
        },
        "title": {
         "text": "Balance: 2516.336910 USD ~ Equity: 2516.336910 ~ Margin: 0.000000 ~ Free Margin: 2516.336910 ~ Margin Level: inf"
        },
        "width": 1400,
        "xaxis": {
         "tickformat": "%Y-%m-%d"
        },
        "yaxis": {
         "tickfont": {
          "color": "rgba(0.12156862745098039, 0.4666666666666667, 0.7058823529411765, 0.8)"
         }
        },
        "yaxis2": {
         "overlaying": "y",
         "tickfont": {
          "color": "rgba(0.5643983083429451, 0.36993464052287583, 0.5132641291810843, 0.8)"
         }
        },
        "yaxis3": {
         "overlaying": "y",
         "tickfont": {
          "color": "rgba(0.7372549019607844, 0.7411764705882353, 0.13333333333333333, 0.8)"
         }
        }
       }
      }
     },
     "metadata": {},
     "output_type": "display_data"
    }
   ],
   "source": [
    "env.render('advanced_figure', time_format=\"%Y-%m-%d\")"
   ]
  },
  {
   "cell_type": "markdown",
   "metadata": {},
   "source": [
    "### A Complete Example using `stable-baselines`"
   ]
  },
  {
   "cell_type": "code",
   "execution_count": 11,
   "metadata": {},
   "outputs": [
    {
     "data": {
      "application/vnd.plotly.v1+json": {
       "config": {
        "plotlyServerURL": "https://plot.ly"
       },
       "data": [
        {
         "hovertext": [
          "balance: 10000.000000 USD<br>equity: 10000.000000<br>margin: 0.000000<br>free margin: 10000.000000<br>margin level: inf",
          "balance: 10000.000000 USD<br>equity: 10000.000000<br>margin: 0.000000<br>free margin: 10000.000000<br>margin level: inf",
          "balance: 10000.000000 USD<br>equity: 10000.000000<br>margin: 0.000000<br>free margin: 10000.000000<br>margin level: inf",
          "balance: 10000.000000 USD<br>equity: 10000.000000<br>margin: 0.000000<br>free margin: 10000.000000<br>margin level: inf",
          "balance: 10000.000000 USD<br>equity: 10000.000000<br>margin: 0.000000<br>free margin: 10000.000000<br>margin level: inf",
          "balance: 10000.000000 USD<br>equity: 10000.000000<br>margin: 0.000000<br>free margin: 10000.000000<br>margin level: inf",
          "balance: 10000.000000 USD<br>equity: 10000.000000<br>margin: 0.000000<br>free margin: 10000.000000<br>margin level: inf",
          "balance: 10000.000000 USD<br>equity: 10000.000000<br>margin: 0.000000<br>free margin: 10000.000000<br>margin level: inf",
          "balance: 10000.000000 USD<br>equity: 10000.000000<br>margin: 0.000000<br>free margin: 10000.000000<br>margin level: inf",
          "balance: 10000.000000 USD<br>equity: 10000.000000<br>margin: 0.000000<br>free margin: 10000.000000<br>margin level: inf",
          "balance: 10000.000000 USD<br>equity: 11245.591151<br>margin: 3348.800600<br>free margin: 7896.790551<br>margin level: 3.358095",
          "balance: 11245.591151 USD<br>equity: 11311.611827<br>margin: 158.267200<br>free margin: 11153.344627<br>margin level: 71.471611",
          "balance: 11245.591151 USD<br>equity: 12051.603703<br>margin: 2371.336100<br>free margin: 9680.267603<br>margin level: 5.082200",
          "balance: 11245.591151 USD<br>equity: 11473.683703<br>margin: 2371.336100<br>free margin: 9102.347603<br>margin level: 4.838489",
          "balance: 11245.591151 USD<br>equity: 10856.085272<br>margin: 5041.336100<br>free margin: 5814.749172<br>margin level: 2.153414",
          "balance: 11210.952720 USD<br>equity: 13265.317814<br>margin: 6637.915822<br>free margin: 6627.401992<br>margin level: 1.998416",
          "balance: 13232.804353 USD<br>equity: 13424.969921<br>margin: 4053.098283<br>free margin: 9371.871638<br>margin level: 3.312273",
          "balance: 13255.275029 USD<br>equity: 13528.901324<br>margin: 5701.907083<br>free margin: 7826.994241<br>margin level: 2.372698",
          "balance: 13279.470694 USD<br>equity: 12399.351465<br>margin: 6722.934316<br>free margin: 5676.417149<br>margin level: 1.844336",
          "balance: 12868.462565 USD<br>equity: 12577.231868<br>margin: 1755.976000<br>free margin: 10821.255868<br>margin level: 7.162531",
          "balance: 12572.951465 USD<br>equity: 12580.043060<br>margin: 669.530000<br>free margin: 11910.513060<br>margin level: 18.789364",
          "balance: 12577.346890 USD<br>equity: 14854.335168<br>margin: 3426.220000<br>free margin: 11428.115168<br>margin level: 4.335488",
          "balance: 12982.413974 USD<br>equity: 13945.205168<br>margin: 2796.220000<br>free margin: 11148.985168<br>margin level: 4.987163",
          "balance: 13723.508997 USD<br>equity: 13882.405785<br>margin: 891.787800<br>free margin: 12990.617985<br>margin level: 15.566938",
          "balance: 13735.951275 USD<br>equity: 14180.336044<br>margin: 2790.096130<br>free margin: 11390.239914<br>margin level: 5.082383",
          "balance: 13952.178753 USD<br>equity: 13118.799542<br>margin: 7688.669276<br>free margin: 5430.130266<br>margin level: 1.706251",
          "balance: 13952.178753 USD<br>equity: 13631.279569<br>margin: 8948.669276<br>free margin: 4682.610292<br>margin level: 1.523274",
          "balance: 13644.936756 USD<br>equity: 17176.152620<br>margin: 7900.360946<br>free margin: 9275.791674<br>margin level: 2.174097",
          "balance: 13838.643122 USD<br>equity: 17439.220819<br>margin: 7714.045400<br>free margin: 9725.175419<br>margin level: 2.260710",
          "balance: 15512.640682 USD<br>equity: 17155.663844<br>margin: 7060.966020<br>free margin: 10094.697824<br>margin level: 2.429648",
          "balance: 15428.658216 USD<br>equity: 22979.293014<br>margin: 6078.657220<br>free margin: 16900.635793<br>margin level: 3.780324",
          "balance: 22119.268354 USD<br>equity: 24146.360436<br>margin: 3834.586320<br>free margin: 20311.774116<br>margin level: 6.296992",
          "balance: 23167.800638 USD<br>equity: 25842.486111<br>margin: 4403.697100<br>free margin: 21438.789011<br>margin level: 5.868361",
          "balance: 23167.800638 USD<br>equity: 23680.422197<br>margin: 4503.697100<br>free margin: 19176.725097<br>margin level: 5.257996",
          "balance: 23175.456725 USD<br>equity: 22839.102197<br>margin: 4403.697100<br>free margin: 18435.405097<br>margin level: 5.186347",
          "balance: 22256.142399 USD<br>equity: 23532.155857<br>margin: 6072.275400<br>free margin: 17459.880457<br>margin level: 3.875344",
          "balance: 23017.352197 USD<br>equity: 23201.565778<br>margin: 6669.591900<br>free margin: 16531.973878<br>margin level: 3.478708",
          "balance: 22893.024306 USD<br>equity: 23307.176957<br>margin: 6416.781512<br>free margin: 16890.395445<br>margin level: 3.632222",
          "balance: 22935.522118 USD<br>equity: 22861.770243<br>margin: 10974.983633<br>free margin: 11886.786610<br>margin level: 2.083080",
          "balance: 22144.325485 USD<br>equity: 24333.810243<br>margin: 6232.803900<br>free margin: 18101.006343<br>margin level: 3.904151",
          "balance: 22144.325485 USD<br>equity: 26873.901334<br>margin: 7162.803900<br>free margin: 19711.097434<br>margin level: 3.751869",
          "balance: 25854.360236 USD<br>equity: 27608.199393<br>margin: 4881.569000<br>free margin: 22726.630393<br>margin level: 5.655600",
          "balance: 26507.388295 USD<br>equity: 27657.570246<br>margin: 3457.357844<br>free margin: 24200.212402<br>margin level: 7.999626",
          "balance: 27280.540929 USD<br>equity: 27414.817697<br>margin: 4593.340726<br>free margin: 22821.476972<br>margin level: 5.968383",
          "balance: 27211.737832 USD<br>equity: 27835.567337<br>margin: 6369.250126<br>free margin: 21466.317211<br>margin level: 4.370305",
          "balance: 27019.586498 USD<br>equity: 28830.414772<br>margin: 7259.250126<br>free margin: 21571.164647<br>margin level: 3.971542",
          "balance: 27019.586498 USD<br>equity: 27546.577919<br>margin: 7269.250126<br>free margin: 20277.327794<br>margin level: 3.789466",
          "balance: 28836.888852 USD<br>equity: 27118.624439<br>margin: 5807.746113<br>free margin: 21310.878326<br>margin level: 4.669389",
          "balance: 29405.689393 USD<br>equity: 27691.839061<br>margin: 9071.579113<br>free margin: 18620.259949<br>margin level: 3.052593",
          "balance: 27458.823783 USD<br>equity: 31262.982691<br>margin: 6626.080869<br>free margin: 24636.901823<br>margin level: 4.718171",
          "balance: 27458.823783 USD<br>equity: 28042.820833<br>margin: 7076.080869<br>free margin: 20966.739965<br>margin level: 3.963044",
          "balance: 27175.501430 USD<br>equity: 28266.645533<br>margin: 6626.080869<br>free margin: 21640.564665<br>margin level: 4.265967",
          "balance: 25811.288501 USD<br>equity: 28531.245533<br>margin: 4986.408000<br>free margin: 23544.837533<br>margin level: 5.721803",
          "balance: 25811.288501 USD<br>equity: 28035.776689<br>margin: 8609.420483<br>free margin: 19426.356206<br>margin level: 3.256407",
          "balance: 26258.731993 USD<br>equity: 30084.723444<br>margin: 7682.622164<br>free margin: 22402.101281<br>margin level: 3.915945",
          "balance: 26747.501594 USD<br>equity: 29742.062981<br>margin: 4693.193664<br>free margin: 25048.869317<br>margin level: 6.337276",
          "balance: 26587.148499 USD<br>equity: 29614.481336<br>margin: 5588.115558<br>free margin: 24026.365778<br>margin level: 5.299547",
          "balance: 30175.455687 USD<br>equity: 29696.086523<br>margin: 4111.787995<br>free margin: 25584.298528<br>margin level: 7.222183",
          "balance: 30158.404255 USD<br>equity: 27817.232737<br>margin: 6065.274595<br>free margin: 21751.958142<br>margin level: 4.586311",
          "balance: 30158.404255 USD<br>equity: 23615.649220<br>margin: 9600.763935<br>free margin: 14014.885286<br>margin level: 2.459768",
          "balance: 28008.892457 USD<br>equity: 24212.873809<br>margin: 8120.473835<br>free margin: 16092.399975<br>margin level: 2.981707",
          "balance: 28171.704183 USD<br>equity: 23172.074638<br>margin: 7420.473835<br>free margin: 15751.600803<br>margin level: 3.122722",
          "balance: 27384.186360 USD<br>equity: 24096.809059<br>margin: 7941.441287<br>free margin: 16155.367772<br>margin level: 3.034312",
          "balance: 25617.837982 USD<br>equity: 23510.885601<br>margin: 9030.640892<br>free margin: 14480.244709<br>margin level: 2.603457",
          "balance: 23457.017219 USD<br>equity: 22374.180802<br>margin: 2695.045592<br>free margin: 19679.135210<br>margin level: 8.301967",
          "balance: 23457.017219 USD<br>equity: 23606.087004<br>margin: 4872.760464<br>free margin: 18733.326539<br>margin level: 4.844500",
          "balance: 23595.892606 USD<br>equity: 23364.350208<br>margin: 4325.312443<br>free margin: 19039.037765<br>margin level: 5.401772",
          "balance: 23351.865790 USD<br>equity: 23746.506983<br>margin: 746.117973<br>free margin: 23000.389010<br>margin level: 31.826746",
          "balance: 23351.865790 USD<br>equity: 23765.051100<br>margin: 2923.545073<br>free margin: 20841.506027<br>margin level: 8.128847",
          "balance: 23403.172349 USD<br>equity: 23757.101100<br>margin: 1380.058300<br>free margin: 22377.042800<br>margin level: 17.214563",
          "balance: 23403.172349 USD<br>equity: 23566.130641<br>margin: 3409.504511<br>free margin: 20156.626130<br>margin level: 6.911893",
          "balance: 23202.951890 USD<br>equity: 23561.530641<br>margin: 1380.058300<br>free margin: 22181.472341<br>margin level: 17.072852",
          "balance: 23202.951890 USD<br>equity: 23594.830641<br>margin: 1380.058300<br>free margin: 22214.772341<br>margin level: 17.096981",
          "balance: 23202.951890 USD<br>equity: 23585.130641<br>margin: 1380.058300<br>free margin: 22205.072341<br>margin level: 17.089952",
          "balance: 23202.951890 USD<br>equity: 24293.148689<br>margin: 4134.644497<br>free margin: 20158.504192<br>margin level: 5.875511",
          "balance: 23945.319938 USD<br>equity: 23273.876010<br>margin: 4128.351477<br>free margin: 19145.524533<br>margin level: 5.637571",
          "balance: 24294.498689 USD<br>equity: 22189.723710<br>margin: 3345.543977<br>free margin: 18844.179732<br>margin level: 6.632621",
          "balance: 24464.699364 USD<br>equity: 21984.252536<br>margin: 5048.386377<br>free margin: 16935.866158<br>margin level: 4.354709",
          "balance: 24464.699364 USD<br>equity: 22171.225599<br>margin: 9121.112777<br>free margin: 13050.112822<br>margin level: 2.430759",
          "balance: 23199.838267 USD<br>equity: 22906.131269<br>margin: 7273.176777<br>free margin: 15632.954491<br>margin level: 3.149398",
          "balance: 23971.268656 USD<br>equity: 23450.400580<br>margin: 8641.429230<br>free margin: 14808.971350<br>margin level: 2.713718",
          "balance: 24402.477924 USD<br>equity: 25042.781129<br>margin: 7161.429230<br>free margin: 17881.351899<br>margin level: 3.496897",
          "balance: 23410.940537 USD<br>equity: 22000.155773<br>margin: 10238.000330<br>free margin: 11762.155443<br>margin level: 2.148872",
          "balance: 20806.899015 USD<br>equity: 21570.217059<br>margin: 8087.565830<br>free margin: 13482.651229<br>margin level: 2.667084",
          "balance: 20705.596421 USD<br>equity: 21267.847455<br>margin: 10234.957830<br>free margin: 11032.889625<br>margin level: 2.077961",
          "balance: 20587.639824 USD<br>equity: 20491.862344<br>margin: 7952.338530<br>free margin: 12539.523814<br>margin level: 2.576835",
          "balance: 18961.388164 USD<br>equity: 19362.018404<br>margin: 7184.105230<br>free margin: 12177.913174<br>margin level: 2.695119",
          "balance: 19362.018404 USD<br>equity: 19131.200797<br>margin: 2469.285600<br>free margin: 16661.915197<br>margin level: 7.747666"
         ],
         "legendgroup": "g1",
         "line": {
          "color": "rgba(0.12156862745098039, 0.4666666666666667, 0.7058823529411765, 1.0)"
         },
         "mode": "lines+markers",
         "name": "GBPCAD",
         "opacity": 1,
         "type": "scatter",
         "x": [
          "2021-05-05T00:00:00+00:00",
          "2021-05-06T00:00:00+00:00",
          "2021-05-07T00:00:00+00:00",
          "2021-05-10T00:00:00+00:00",
          "2021-05-11T00:00:00+00:00",
          "2021-05-12T00:00:00+00:00",
          "2021-05-13T00:00:00+00:00",
          "2021-05-14T00:00:00+00:00",
          "2021-05-17T00:00:00+00:00",
          "2021-05-18T00:00:00+00:00",
          "2021-05-19T00:00:00+00:00",
          "2021-05-20T00:00:00+00:00",
          "2021-05-21T00:00:00+00:00",
          "2021-05-24T00:00:00+00:00",
          "2021-05-25T00:00:00+00:00",
          "2021-05-26T00:00:00+00:00",
          "2021-05-27T00:00:00+00:00",
          "2021-05-28T00:00:00+00:00",
          "2021-05-31T00:00:00+00:00",
          "2021-06-01T00:00:00+00:00",
          "2021-06-02T00:00:00+00:00",
          "2021-06-03T00:00:00+00:00",
          "2021-06-04T00:00:00+00:00",
          "2021-06-07T00:00:00+00:00",
          "2021-06-08T00:00:00+00:00",
          "2021-06-09T00:00:00+00:00",
          "2021-06-10T00:00:00+00:00",
          "2021-06-11T00:00:00+00:00",
          "2021-06-14T00:00:00+00:00",
          "2021-06-15T00:00:00+00:00",
          "2021-06-16T00:00:00+00:00",
          "2021-06-17T00:00:00+00:00",
          "2021-06-18T00:00:00+00:00",
          "2021-06-21T00:00:00+00:00",
          "2021-06-22T00:00:00+00:00",
          "2021-06-23T00:00:00+00:00",
          "2021-06-24T00:00:00+00:00",
          "2021-06-25T00:00:00+00:00",
          "2021-06-28T00:00:00+00:00",
          "2021-06-29T00:00:00+00:00",
          "2021-06-30T00:00:00+00:00",
          "2021-07-01T00:00:00+00:00",
          "2021-07-02T00:00:00+00:00",
          "2021-07-05T00:00:00+00:00",
          "2021-07-06T00:00:00+00:00",
          "2021-07-07T00:00:00+00:00",
          "2021-07-08T00:00:00+00:00",
          "2021-07-09T00:00:00+00:00",
          "2021-07-12T00:00:00+00:00",
          "2021-07-13T00:00:00+00:00",
          "2021-07-14T00:00:00+00:00",
          "2021-07-15T00:00:00+00:00",
          "2021-07-16T00:00:00+00:00",
          "2021-07-19T00:00:00+00:00",
          "2021-07-20T00:00:00+00:00",
          "2021-07-21T00:00:00+00:00",
          "2021-07-22T00:00:00+00:00",
          "2021-07-23T00:00:00+00:00",
          "2021-07-26T00:00:00+00:00",
          "2021-07-27T00:00:00+00:00",
          "2021-07-28T00:00:00+00:00",
          "2021-07-29T00:00:00+00:00",
          "2021-07-30T00:00:00+00:00",
          "2021-08-02T00:00:00+00:00",
          "2021-08-03T00:00:00+00:00",
          "2021-08-04T00:00:00+00:00",
          "2021-08-05T00:00:00+00:00",
          "2021-08-06T00:00:00+00:00",
          "2021-08-09T00:00:00+00:00",
          "2021-08-10T00:00:00+00:00",
          "2021-08-11T00:00:00+00:00",
          "2021-08-12T00:00:00+00:00",
          "2021-08-13T00:00:00+00:00",
          "2021-08-16T00:00:00+00:00",
          "2021-08-17T00:00:00+00:00",
          "2021-08-18T00:00:00+00:00",
          "2021-08-19T00:00:00+00:00",
          "2021-08-20T00:00:00+00:00",
          "2021-08-23T00:00:00+00:00",
          "2021-08-24T00:00:00+00:00",
          "2021-08-25T00:00:00+00:00",
          "2021-08-26T00:00:00+00:00",
          "2021-08-27T00:00:00+00:00",
          "2021-08-30T00:00:00+00:00",
          "2021-08-31T00:00:00+00:00",
          "2021-09-01T00:00:00+00:00",
          "2021-09-02T00:00:00+00:00",
          "2021-09-03T00:00:00+00:00"
         ],
         "y": [
          1.70525,
          1.68648,
          1.69619,
          1.7070699999999999,
          1.71108,
          1.70468,
          1.7082899999999999,
          1.70635,
          1.7059199999999999,
          1.71128,
          1.71211,
          1.7107,
          1.70726,
          1.7044000000000001,
          1.7066,
          1.71089,
          1.71345,
          1.71356,
          1.7132399999999999,
          1.70755,
          1.70462,
          1.7068400000000001,
          1.70999,
          1.71255,
          1.7139199999999999,
          1.70927,
          1.71433,
          1.71691,
          1.71341,
          1.71492,
          1.71638,
          1.71949,
          1.72017,
          1.72173,
          1.7158099999999998,
          1.7177,
          1.7149299999999998,
          1.70721,
          1.71244,
          1.71535,
          1.71437,
          1.71059,
          1.70511,
          1.70716,
          1.71879,
          1.72167,
          1.72692,
          1.7307000000000001,
          1.72832,
          1.72767,
          1.73236,
          1.7407,
          1.73684,
          1.74244,
          1.7273800000000001,
          1.72183,
          1.72851,
          1.72728,
          1.73336,
          1.7481900000000001,
          1.7405300000000001,
          1.73688,
          1.73335,
          1.73577,
          1.7441499999999999,
          1.7412999999999998,
          1.7408299999999999,
          1.7419799999999999,
          1.7408000000000001,
          1.7316500000000001,
          1.73282,
          1.72889,
          1.7357200000000002,
          1.7402199999999999,
          1.7349700000000001,
          1.74061,
          1.74874,
          1.7468,
          1.73506,
          1.72784,
          1.73259,
          1.7377,
          1.7353399999999999,
          1.7338900000000002,
          1.73501,
          1.7372800000000002,
          1.73603,
          1.7362600000000001
         ],
         "yaxis": "y"
        },
        {
         "hovertext": [
          "order id: 5<br>hold probability: 0.4418<br>hold: False<br>volume: 0.035197<br>modified volume: 0.0400<br>fee: 0.000774<br>margin: 56.579722<br>error: ",
          "order id: 7<br>hold probability: 0.3145<br>hold: False<br>volume: 1.319029<br>modified volume: 1.3200<br>fee: 0.000692<br>margin: 1863.114961<br>error: ",
          "order id: 11<br>hold probability: 0.4657<br>hold: False<br>volume: -0.825496<br>modified volume: 0.8300<br>fee: 0.000694<br>margin: 1177.606955<br>error: ",
          "order id: 19<br>hold probability: 0.1608<br>hold: False<br>volume: 0.694686<br>modified volume: 0.6900<br>fee: 0.000695<br>margin: 978.308330<br>error: ",
          "order id: 21<br>hold probability: 0.2201<br>hold: False<br>volume: 1.046432<br>modified volume: 1.0500<br>fee: 0.000746<br>margin: 1486.315546<br>error: ",
          "order id: 26<br>hold probability: 0.4678<br>hold: False<br>volume: 0.538634<br>modified volume: 0.5400<br>fee: 0.000540<br>margin: 761.910620<br>error: ",
          "order id: 37<br>hold probability: 0.2070<br>hold: False<br>volume: -0.579613<br>modified volume: 0.5800<br>fee: 0.000566<br>margin: 807.189612<br>error: ",
          "order id: 39<br>hold probability: 0.4776<br>hold: False<br>volume: -0.760705<br>modified volume: 0.7600<br>fee: 0.000687<br>margin: 1054.990121<br>error: ",
          "order id: 45<br>hold probability: 0.3751<br>hold: False<br>volume: -0.948227<br>modified volume: 0.9500<br>fee: 0.000588<br>margin: 1306.791444<br>error: ",
          "order id: 48<br>hold probability: 0.4671<br>hold: False<br>volume: 0.044985<br>modified volume: 0.0400<br>fee: 0.000742<br>margin: 55.327482<br>error: ",
          "order id: <br>hold probability: 0.1513<br>hold: False<br>volume: -0.506268<br>modified volume: 0.5100<br>fee: nan<br>margin: nan<br>error: cannot add more orders",
          "order id: <br>hold probability: 0.2758<br>hold: False<br>volume: -0.801311<br>modified volume: 0.8000<br>fee: nan<br>margin: nan<br>error: cannot add more orders",
          "order id: 55<br>hold probability: 0.4832<br>hold: False<br>volume: -1.186234<br>modified volume: 1.1900<br>fee: 0.000657<br>margin: 1639.672869<br>error: ",
          "order id: <br>hold probability: 0.3671<br>hold: False<br>volume: -0.369781<br>modified volume: 0.3700<br>fee: nan<br>margin: nan<br>error: cannot add more orders",
          "order id: 62<br>hold probability: 0.2222<br>hold: False<br>volume: 1.150291<br>modified volume: 1.1500<br>fee: 0.000641<br>margin: 1583.012483<br>error: ",
          "order id: 64<br>hold probability: 0.3734<br>hold: False<br>volume: -0.480265<br>modified volume: 0.4800<br>fee: 0.000672<br>margin: 656.214164<br>error: ",
          "order id: 67<br>hold probability: 0.3549<br>hold: False<br>volume: -0.934813<br>modified volume: 0.9300<br>fee: 0.000698<br>margin: 1274.921895<br>error: ",
          "order id: 70<br>hold probability: 0.4181<br>hold: False<br>volume: -1.219539<br>modified volume: 1.2200<br>fee: 0.000668<br>margin: 1685.489340<br>error: ",
          "order id: 75<br>hold probability: 0.1934<br>hold: False<br>volume: -1.708350<br>modified volume: 1.7100<br>fee: 0.000716<br>margin: 2386.456792<br>error: ",
          "order id: 80<br>hold probability: 0.2378<br>hold: False<br>volume: -0.060062<br>modified volume: 0.0600<br>fee: 0.000719<br>margin: 83.486773<br>error: ",
          "order id: 83<br>hold probability: 0.2419<br>hold: False<br>volume: 1.686528<br>modified volume: 1.6900<br>fee: 0.000756<br>margin: 2346.728070<br>error: ",
          "order id: 89<br>hold probability: 0.4664<br>hold: False<br>volume: 0.387551<br>modified volume: 0.3900<br>fee: 0.000788<br>margin: 539.446211<br>error: ",
          "order id: 91<br>hold probability: 0.2933<br>hold: False<br>volume: 0.090640<br>modified volume: 0.0900<br>fee: 0.000687<br>margin: 124.586197<br>error: ",
          "order id: 93<br>hold probability: 0.1488<br>hold: False<br>volume: -2.002971<br>modified volume: 2.0000<br>fee: 0.000819<br>margin: 2748.293177<br>error: ",
          "order id: 100<br>hold probability: 0.4202<br>hold: False<br>volume: 2.214888<br>modified volume: 2.2100<br>fee: 0.000689<br>margin: 3033.778830<br>error: "
         ],
         "legendgroup": "g1",
         "marker": {
          "color": [
           "green",
           "green",
           "red",
           "green",
           "green",
           "green",
           "red",
           "red",
           "red",
           "green",
           "gray",
           "gray",
           "red",
           "gray",
           "green",
           "red",
           "red",
           "red",
           "red",
           "red",
           "green",
           "green",
           "green",
           "red",
           "green"
          ],
          "size": [
           8.374468085106383,
           20.357446808510637,
           15.770212765957446,
           14.459574468085108,
           17.829787234042552,
           13.05531914893617,
           13.429787234042553,
           15.114893617021277,
           16.893617021276597,
           8.374468085106383,
           12.774468085106383,
           15.48936170212766,
           19.140425531914893,
           11.463829787234044,
           18.765957446808514,
           12.493617021276595,
           16.706382978723404,
           19.42127659574468,
           24.00851063829787,
           8.561702127659574,
           23.821276595744678,
           11.651063829787233,
           8.842553191489362,
           26.72340425531915,
           28.68936170212766
          ],
          "symbol": [
           "triangle-up",
           "triangle-up",
           "triangle-down",
           "triangle-up",
           "triangle-up",
           "triangle-up",
           "triangle-down",
           "triangle-down",
           "triangle-down",
           "triangle-up",
           "triangle-down",
           "triangle-down",
           "triangle-down",
           "triangle-down",
           "triangle-up",
           "triangle-down",
           "triangle-down",
           "triangle-down",
           "triangle-down",
           "triangle-down",
           "triangle-up",
           "triangle-up",
           "triangle-up",
           "triangle-down",
           "triangle-up"
          ]
         },
         "mode": "markers",
         "name": "GBPCAD",
         "showlegend": false,
         "type": "scatter",
         "x": [
          "2021-05-25T00:00:00+00:00",
          "2021-05-26T00:00:00+00:00",
          "2021-05-28T00:00:00+00:00",
          "2021-06-07T00:00:00+00:00",
          "2021-06-08T00:00:00+00:00",
          "2021-06-14T00:00:00+00:00",
          "2021-06-24T00:00:00+00:00",
          "2021-06-25T00:00:00+00:00",
          "2021-07-01T00:00:00+00:00",
          "2021-07-02T00:00:00+00:00",
          "2021-07-05T00:00:00+00:00",
          "2021-07-06T00:00:00+00:00",
          "2021-07-08T00:00:00+00:00",
          "2021-07-09T00:00:00+00:00",
          "2021-07-16T00:00:00+00:00",
          "2021-07-19T00:00:00+00:00",
          "2021-07-21T00:00:00+00:00",
          "2021-07-26T00:00:00+00:00",
          "2021-07-29T00:00:00+00:00",
          "2021-08-03T00:00:00+00:00",
          "2021-08-04T00:00:00+00:00",
          "2021-08-10T00:00:00+00:00",
          "2021-08-16T00:00:00+00:00",
          "2021-08-17T00:00:00+00:00",
          "2021-08-24T00:00:00+00:00"
         ],
         "y": [
          1.7066,
          1.71089,
          1.71356,
          1.71255,
          1.7139199999999999,
          1.71341,
          1.7149299999999998,
          1.70721,
          1.71059,
          1.70511,
          1.70716,
          1.71879,
          1.72692,
          1.7307000000000001,
          1.73684,
          1.74244,
          1.72183,
          1.73336,
          1.73688,
          1.7441499999999999,
          1.7412999999999998,
          1.7316500000000001,
          1.7402199999999999,
          1.7349700000000001,
          1.72784
         ],
         "yaxis": "y"
        },
        {
         "hovertext": [
          "order id: 5<br>order type: Buy<br>close probability: 0.8034<br>margin: 56.579722<br>profit: 20.487945",
          "order id: 7<br>order type: Buy<br>close probability: 0.6525<br>margin: 1863.114961<br>profit: 181.423497<br>---------------------------------<br>order id: 11<br>order type: Sell<br>close probability: 0.7317<br>margin: 1177.606955<br>profit: -25.727066",
          "order id: 19<br>order type: Buy<br>close probability: 0.5454<br>margin: 978.308330<br>profit: 61.903231",
          "order id: 21<br>order type: Buy<br>close probability: 0.5215<br>margin: 1486.315546<br>profit: 193.706365",
          "order id: 26<br>order type: Buy<br>close probability: 0.7462<br>margin: 761.910620<br>profit: 242.156072",
          "order id: 37<br>order type: Sell<br>close probability: 0.8123<br>margin: 807.189612<br>profit: 90.447374<br>---------------------------------<br>order id: 39<br>order type: Sell<br>close probability: 0.5202<br>margin: 1054.990121<br>profit: -364.503195",
          "order id: 48<br>order type: Buy<br>close probability: 0.5900<br>margin: 55.327482<br>profit: 67.239612",
          "order id: 45<br>order type: Sell<br>close probability: 0.6149<br>margin: 1306.791444<br>profit: -1397.604131",
          "order id: 55<br>order type: Sell<br>close probability: 0.6363<br>margin: 1639.672869<br>profit: -1364.212929",
          "order id: 62<br>order type: Buy<br>close probability: 0.5213<br>margin: 1583.012483<br>profit: 447.443492",
          "order id: 64<br>order type: Sell<br>close probability: 0.5955<br>margin: 656.214164<br>profit: 506.653441",
          "order id: 70<br>order type: Sell<br>close probability: 0.7210<br>margin: 1685.489340<br>profit: -410.586325",
          "order id: 67<br>order type: Sell<br>close probability: 0.7232<br>margin: 1274.921895<br>profit: -911.626869",
          "order id: 75<br>order type: Sell<br>close probability: 0.5456<br>margin: 2386.456792<br>profit: -700.379751",
          "order id: 83<br>order type: Buy<br>close probability: 0.6627<br>margin: 2346.728070<br>profit: -165.824319",
          "order id: 80<br>order type: Sell<br>close probability: 0.6729<br>margin: 83.486773<br>profit: 12.549314",
          "order id: 89<br>order type: Buy<br>close probability: 0.6134<br>margin: 539.446211<br>profit: 11.919336",
          "order id: 91<br>order type: Buy<br>close probability: 0.6174<br>margin: 124.586197<br>profit: -42.320012",
          "order id: 93<br>order type: Sell<br>close probability: 0.7735<br>margin: 2748.293177<br>profit: 1002.737990",
          "order id: 100<br>order type: Buy<br>close probability: 0.7847<br>margin: 3033.778830<br>profit: 1320.689001"
         ],
         "legendgroup": "g1",
         "marker": {
          "color": "black",
          "line": {
           "width": 1.5
          },
          "size": 7,
          "symbol": "line-ns"
         },
         "mode": "markers",
         "name": "GBPCAD",
         "showlegend": false,
         "type": "scatter",
         "x": [
          "2021-05-28T00:00:00+00:00",
          "2021-05-31T00:00:00+00:00",
          "2021-06-10T00:00:00+00:00",
          "2021-06-11T00:00:00+00:00",
          "2021-06-17T00:00:00+00:00",
          "2021-06-28T00:00:00+00:00",
          "2021-07-08T00:00:00+00:00",
          "2021-07-12T00:00:00+00:00",
          "2021-07-15T00:00:00+00:00",
          "2021-07-19T00:00:00+00:00",
          "2021-07-22T00:00:00+00:00",
          "2021-07-29T00:00:00+00:00",
          "2021-07-30T00:00:00+00:00",
          "2021-08-04T00:00:00+00:00",
          "2021-08-05T00:00:00+00:00",
          "2021-08-09T00:00:00+00:00",
          "2021-08-11T00:00:00+00:00",
          "2021-08-17T00:00:00+00:00",
          "2021-08-24T00:00:00+00:00",
          "2021-09-02T00:00:00+00:00"
         ],
         "y": [
          1.71356,
          1.7132399999999999,
          1.71433,
          1.71691,
          1.71949,
          1.71244,
          1.72692,
          1.72832,
          1.7407,
          1.74244,
          1.72851,
          1.73688,
          1.73335,
          1.7412999999999998,
          1.7408299999999999,
          1.7408000000000001,
          1.73282,
          1.7349700000000001,
          1.72784,
          1.73603
         ],
         "yaxis": "y"
        },
        {
         "hovertext": [
          "balance: 10000.000000 USD<br>equity: 10000.000000<br>margin: 0.000000<br>free margin: 10000.000000<br>margin level: inf",
          "balance: 10000.000000 USD<br>equity: 10000.000000<br>margin: 0.000000<br>free margin: 10000.000000<br>margin level: inf",
          "balance: 10000.000000 USD<br>equity: 10000.000000<br>margin: 0.000000<br>free margin: 10000.000000<br>margin level: inf",
          "balance: 10000.000000 USD<br>equity: 10000.000000<br>margin: 0.000000<br>free margin: 10000.000000<br>margin level: inf",
          "balance: 10000.000000 USD<br>equity: 10000.000000<br>margin: 0.000000<br>free margin: 10000.000000<br>margin level: inf",
          "balance: 10000.000000 USD<br>equity: 10000.000000<br>margin: 0.000000<br>free margin: 10000.000000<br>margin level: inf",
          "balance: 10000.000000 USD<br>equity: 10000.000000<br>margin: 0.000000<br>free margin: 10000.000000<br>margin level: inf",
          "balance: 10000.000000 USD<br>equity: 10000.000000<br>margin: 0.000000<br>free margin: 10000.000000<br>margin level: inf",
          "balance: 10000.000000 USD<br>equity: 10000.000000<br>margin: 0.000000<br>free margin: 10000.000000<br>margin level: inf",
          "balance: 10000.000000 USD<br>equity: 10000.000000<br>margin: 0.000000<br>free margin: 10000.000000<br>margin level: inf",
          "balance: 10000.000000 USD<br>equity: 11245.591151<br>margin: 3348.800600<br>free margin: 7896.790551<br>margin level: 3.358095",
          "balance: 11245.591151 USD<br>equity: 11311.611827<br>margin: 158.267200<br>free margin: 11153.344627<br>margin level: 71.471611",
          "balance: 11245.591151 USD<br>equity: 12051.603703<br>margin: 2371.336100<br>free margin: 9680.267603<br>margin level: 5.082200",
          "balance: 11245.591151 USD<br>equity: 11473.683703<br>margin: 2371.336100<br>free margin: 9102.347603<br>margin level: 4.838489",
          "balance: 11245.591151 USD<br>equity: 10856.085272<br>margin: 5041.336100<br>free margin: 5814.749172<br>margin level: 2.153414",
          "balance: 11210.952720 USD<br>equity: 13265.317814<br>margin: 6637.915822<br>free margin: 6627.401992<br>margin level: 1.998416",
          "balance: 13232.804353 USD<br>equity: 13424.969921<br>margin: 4053.098283<br>free margin: 9371.871638<br>margin level: 3.312273",
          "balance: 13255.275029 USD<br>equity: 13528.901324<br>margin: 5701.907083<br>free margin: 7826.994241<br>margin level: 2.372698",
          "balance: 13279.470694 USD<br>equity: 12399.351465<br>margin: 6722.934316<br>free margin: 5676.417149<br>margin level: 1.844336",
          "balance: 12868.462565 USD<br>equity: 12577.231868<br>margin: 1755.976000<br>free margin: 10821.255868<br>margin level: 7.162531",
          "balance: 12572.951465 USD<br>equity: 12580.043060<br>margin: 669.530000<br>free margin: 11910.513060<br>margin level: 18.789364",
          "balance: 12577.346890 USD<br>equity: 14854.335168<br>margin: 3426.220000<br>free margin: 11428.115168<br>margin level: 4.335488",
          "balance: 12982.413974 USD<br>equity: 13945.205168<br>margin: 2796.220000<br>free margin: 11148.985168<br>margin level: 4.987163",
          "balance: 13723.508997 USD<br>equity: 13882.405785<br>margin: 891.787800<br>free margin: 12990.617985<br>margin level: 15.566938",
          "balance: 13735.951275 USD<br>equity: 14180.336044<br>margin: 2790.096130<br>free margin: 11390.239914<br>margin level: 5.082383",
          "balance: 13952.178753 USD<br>equity: 13118.799542<br>margin: 7688.669276<br>free margin: 5430.130266<br>margin level: 1.706251",
          "balance: 13952.178753 USD<br>equity: 13631.279569<br>margin: 8948.669276<br>free margin: 4682.610292<br>margin level: 1.523274",
          "balance: 13644.936756 USD<br>equity: 17176.152620<br>margin: 7900.360946<br>free margin: 9275.791674<br>margin level: 2.174097",
          "balance: 13838.643122 USD<br>equity: 17439.220819<br>margin: 7714.045400<br>free margin: 9725.175419<br>margin level: 2.260710",
          "balance: 15512.640682 USD<br>equity: 17155.663844<br>margin: 7060.966020<br>free margin: 10094.697824<br>margin level: 2.429648",
          "balance: 15428.658216 USD<br>equity: 22979.293014<br>margin: 6078.657220<br>free margin: 16900.635793<br>margin level: 3.780324",
          "balance: 22119.268354 USD<br>equity: 24146.360436<br>margin: 3834.586320<br>free margin: 20311.774116<br>margin level: 6.296992",
          "balance: 23167.800638 USD<br>equity: 25842.486111<br>margin: 4403.697100<br>free margin: 21438.789011<br>margin level: 5.868361",
          "balance: 23167.800638 USD<br>equity: 23680.422197<br>margin: 4503.697100<br>free margin: 19176.725097<br>margin level: 5.257996",
          "balance: 23175.456725 USD<br>equity: 22839.102197<br>margin: 4403.697100<br>free margin: 18435.405097<br>margin level: 5.186347",
          "balance: 22256.142399 USD<br>equity: 23532.155857<br>margin: 6072.275400<br>free margin: 17459.880457<br>margin level: 3.875344",
          "balance: 23017.352197 USD<br>equity: 23201.565778<br>margin: 6669.591900<br>free margin: 16531.973878<br>margin level: 3.478708",
          "balance: 22893.024306 USD<br>equity: 23307.176957<br>margin: 6416.781512<br>free margin: 16890.395445<br>margin level: 3.632222",
          "balance: 22935.522118 USD<br>equity: 22861.770243<br>margin: 10974.983633<br>free margin: 11886.786610<br>margin level: 2.083080",
          "balance: 22144.325485 USD<br>equity: 24333.810243<br>margin: 6232.803900<br>free margin: 18101.006343<br>margin level: 3.904151",
          "balance: 22144.325485 USD<br>equity: 26873.901334<br>margin: 7162.803900<br>free margin: 19711.097434<br>margin level: 3.751869",
          "balance: 25854.360236 USD<br>equity: 27608.199393<br>margin: 4881.569000<br>free margin: 22726.630393<br>margin level: 5.655600",
          "balance: 26507.388295 USD<br>equity: 27657.570246<br>margin: 3457.357844<br>free margin: 24200.212402<br>margin level: 7.999626",
          "balance: 27280.540929 USD<br>equity: 27414.817697<br>margin: 4593.340726<br>free margin: 22821.476972<br>margin level: 5.968383",
          "balance: 27211.737832 USD<br>equity: 27835.567337<br>margin: 6369.250126<br>free margin: 21466.317211<br>margin level: 4.370305",
          "balance: 27019.586498 USD<br>equity: 28830.414772<br>margin: 7259.250126<br>free margin: 21571.164647<br>margin level: 3.971542",
          "balance: 27019.586498 USD<br>equity: 27546.577919<br>margin: 7269.250126<br>free margin: 20277.327794<br>margin level: 3.789466",
          "balance: 28836.888852 USD<br>equity: 27118.624439<br>margin: 5807.746113<br>free margin: 21310.878326<br>margin level: 4.669389",
          "balance: 29405.689393 USD<br>equity: 27691.839061<br>margin: 9071.579113<br>free margin: 18620.259949<br>margin level: 3.052593",
          "balance: 27458.823783 USD<br>equity: 31262.982691<br>margin: 6626.080869<br>free margin: 24636.901823<br>margin level: 4.718171",
          "balance: 27458.823783 USD<br>equity: 28042.820833<br>margin: 7076.080869<br>free margin: 20966.739965<br>margin level: 3.963044",
          "balance: 27175.501430 USD<br>equity: 28266.645533<br>margin: 6626.080869<br>free margin: 21640.564665<br>margin level: 4.265967",
          "balance: 25811.288501 USD<br>equity: 28531.245533<br>margin: 4986.408000<br>free margin: 23544.837533<br>margin level: 5.721803",
          "balance: 25811.288501 USD<br>equity: 28035.776689<br>margin: 8609.420483<br>free margin: 19426.356206<br>margin level: 3.256407",
          "balance: 26258.731993 USD<br>equity: 30084.723444<br>margin: 7682.622164<br>free margin: 22402.101281<br>margin level: 3.915945",
          "balance: 26747.501594 USD<br>equity: 29742.062981<br>margin: 4693.193664<br>free margin: 25048.869317<br>margin level: 6.337276",
          "balance: 26587.148499 USD<br>equity: 29614.481336<br>margin: 5588.115558<br>free margin: 24026.365778<br>margin level: 5.299547",
          "balance: 30175.455687 USD<br>equity: 29696.086523<br>margin: 4111.787995<br>free margin: 25584.298528<br>margin level: 7.222183",
          "balance: 30158.404255 USD<br>equity: 27817.232737<br>margin: 6065.274595<br>free margin: 21751.958142<br>margin level: 4.586311",
          "balance: 30158.404255 USD<br>equity: 23615.649220<br>margin: 9600.763935<br>free margin: 14014.885286<br>margin level: 2.459768",
          "balance: 28008.892457 USD<br>equity: 24212.873809<br>margin: 8120.473835<br>free margin: 16092.399975<br>margin level: 2.981707",
          "balance: 28171.704183 USD<br>equity: 23172.074638<br>margin: 7420.473835<br>free margin: 15751.600803<br>margin level: 3.122722",
          "balance: 27384.186360 USD<br>equity: 24096.809059<br>margin: 7941.441287<br>free margin: 16155.367772<br>margin level: 3.034312",
          "balance: 25617.837982 USD<br>equity: 23510.885601<br>margin: 9030.640892<br>free margin: 14480.244709<br>margin level: 2.603457",
          "balance: 23457.017219 USD<br>equity: 22374.180802<br>margin: 2695.045592<br>free margin: 19679.135210<br>margin level: 8.301967",
          "balance: 23457.017219 USD<br>equity: 23606.087004<br>margin: 4872.760464<br>free margin: 18733.326539<br>margin level: 4.844500",
          "balance: 23595.892606 USD<br>equity: 23364.350208<br>margin: 4325.312443<br>free margin: 19039.037765<br>margin level: 5.401772",
          "balance: 23351.865790 USD<br>equity: 23746.506983<br>margin: 746.117973<br>free margin: 23000.389010<br>margin level: 31.826746",
          "balance: 23351.865790 USD<br>equity: 23765.051100<br>margin: 2923.545073<br>free margin: 20841.506027<br>margin level: 8.128847",
          "balance: 23403.172349 USD<br>equity: 23757.101100<br>margin: 1380.058300<br>free margin: 22377.042800<br>margin level: 17.214563",
          "balance: 23403.172349 USD<br>equity: 23566.130641<br>margin: 3409.504511<br>free margin: 20156.626130<br>margin level: 6.911893",
          "balance: 23202.951890 USD<br>equity: 23561.530641<br>margin: 1380.058300<br>free margin: 22181.472341<br>margin level: 17.072852",
          "balance: 23202.951890 USD<br>equity: 23594.830641<br>margin: 1380.058300<br>free margin: 22214.772341<br>margin level: 17.096981",
          "balance: 23202.951890 USD<br>equity: 23585.130641<br>margin: 1380.058300<br>free margin: 22205.072341<br>margin level: 17.089952",
          "balance: 23202.951890 USD<br>equity: 24293.148689<br>margin: 4134.644497<br>free margin: 20158.504192<br>margin level: 5.875511",
          "balance: 23945.319938 USD<br>equity: 23273.876010<br>margin: 4128.351477<br>free margin: 19145.524533<br>margin level: 5.637571",
          "balance: 24294.498689 USD<br>equity: 22189.723710<br>margin: 3345.543977<br>free margin: 18844.179732<br>margin level: 6.632621",
          "balance: 24464.699364 USD<br>equity: 21984.252536<br>margin: 5048.386377<br>free margin: 16935.866158<br>margin level: 4.354709",
          "balance: 24464.699364 USD<br>equity: 22171.225599<br>margin: 9121.112777<br>free margin: 13050.112822<br>margin level: 2.430759",
          "balance: 23199.838267 USD<br>equity: 22906.131269<br>margin: 7273.176777<br>free margin: 15632.954491<br>margin level: 3.149398",
          "balance: 23971.268656 USD<br>equity: 23450.400580<br>margin: 8641.429230<br>free margin: 14808.971350<br>margin level: 2.713718",
          "balance: 24402.477924 USD<br>equity: 25042.781129<br>margin: 7161.429230<br>free margin: 17881.351899<br>margin level: 3.496897",
          "balance: 23410.940537 USD<br>equity: 22000.155773<br>margin: 10238.000330<br>free margin: 11762.155443<br>margin level: 2.148872",
          "balance: 20806.899015 USD<br>equity: 21570.217059<br>margin: 8087.565830<br>free margin: 13482.651229<br>margin level: 2.667084",
          "balance: 20705.596421 USD<br>equity: 21267.847455<br>margin: 10234.957830<br>free margin: 11032.889625<br>margin level: 2.077961",
          "balance: 20587.639824 USD<br>equity: 20491.862344<br>margin: 7952.338530<br>free margin: 12539.523814<br>margin level: 2.576835",
          "balance: 18961.388164 USD<br>equity: 19362.018404<br>margin: 7184.105230<br>free margin: 12177.913174<br>margin level: 2.695119",
          "balance: 19362.018404 USD<br>equity: 19131.200797<br>margin: 2469.285600<br>free margin: 16661.915197<br>margin level: 7.747666"
         ],
         "legendgroup": "g2",
         "line": {
          "color": "rgba(0.5643983083429451, 0.36993464052287583, 0.5132641291810843, 1.0)"
         },
         "mode": "lines+markers",
         "name": "EURUSD",
         "opacity": 1,
         "type": "scatter",
         "x": [
          "2021-05-05T00:00:00+00:00",
          "2021-05-06T00:00:00+00:00",
          "2021-05-07T00:00:00+00:00",
          "2021-05-10T00:00:00+00:00",
          "2021-05-11T00:00:00+00:00",
          "2021-05-12T00:00:00+00:00",
          "2021-05-13T00:00:00+00:00",
          "2021-05-14T00:00:00+00:00",
          "2021-05-17T00:00:00+00:00",
          "2021-05-18T00:00:00+00:00",
          "2021-05-19T00:00:00+00:00",
          "2021-05-20T00:00:00+00:00",
          "2021-05-21T00:00:00+00:00",
          "2021-05-24T00:00:00+00:00",
          "2021-05-25T00:00:00+00:00",
          "2021-05-26T00:00:00+00:00",
          "2021-05-27T00:00:00+00:00",
          "2021-05-28T00:00:00+00:00",
          "2021-05-31T00:00:00+00:00",
          "2021-06-01T00:00:00+00:00",
          "2021-06-02T00:00:00+00:00",
          "2021-06-03T00:00:00+00:00",
          "2021-06-04T00:00:00+00:00",
          "2021-06-07T00:00:00+00:00",
          "2021-06-08T00:00:00+00:00",
          "2021-06-09T00:00:00+00:00",
          "2021-06-10T00:00:00+00:00",
          "2021-06-11T00:00:00+00:00",
          "2021-06-14T00:00:00+00:00",
          "2021-06-15T00:00:00+00:00",
          "2021-06-16T00:00:00+00:00",
          "2021-06-17T00:00:00+00:00",
          "2021-06-18T00:00:00+00:00",
          "2021-06-21T00:00:00+00:00",
          "2021-06-22T00:00:00+00:00",
          "2021-06-23T00:00:00+00:00",
          "2021-06-24T00:00:00+00:00",
          "2021-06-25T00:00:00+00:00",
          "2021-06-28T00:00:00+00:00",
          "2021-06-29T00:00:00+00:00",
          "2021-06-30T00:00:00+00:00",
          "2021-07-01T00:00:00+00:00",
          "2021-07-02T00:00:00+00:00",
          "2021-07-05T00:00:00+00:00",
          "2021-07-06T00:00:00+00:00",
          "2021-07-07T00:00:00+00:00",
          "2021-07-08T00:00:00+00:00",
          "2021-07-09T00:00:00+00:00",
          "2021-07-12T00:00:00+00:00",
          "2021-07-13T00:00:00+00:00",
          "2021-07-14T00:00:00+00:00",
          "2021-07-15T00:00:00+00:00",
          "2021-07-16T00:00:00+00:00",
          "2021-07-19T00:00:00+00:00",
          "2021-07-20T00:00:00+00:00",
          "2021-07-21T00:00:00+00:00",
          "2021-07-22T00:00:00+00:00",
          "2021-07-23T00:00:00+00:00",
          "2021-07-26T00:00:00+00:00",
          "2021-07-27T00:00:00+00:00",
          "2021-07-28T00:00:00+00:00",
          "2021-07-29T00:00:00+00:00",
          "2021-07-30T00:00:00+00:00",
          "2021-08-02T00:00:00+00:00",
          "2021-08-03T00:00:00+00:00",
          "2021-08-04T00:00:00+00:00",
          "2021-08-05T00:00:00+00:00",
          "2021-08-06T00:00:00+00:00",
          "2021-08-09T00:00:00+00:00",
          "2021-08-10T00:00:00+00:00",
          "2021-08-11T00:00:00+00:00",
          "2021-08-12T00:00:00+00:00",
          "2021-08-13T00:00:00+00:00",
          "2021-08-16T00:00:00+00:00",
          "2021-08-17T00:00:00+00:00",
          "2021-08-18T00:00:00+00:00",
          "2021-08-19T00:00:00+00:00",
          "2021-08-20T00:00:00+00:00",
          "2021-08-23T00:00:00+00:00",
          "2021-08-24T00:00:00+00:00",
          "2021-08-25T00:00:00+00:00",
          "2021-08-26T00:00:00+00:00",
          "2021-08-27T00:00:00+00:00",
          "2021-08-30T00:00:00+00:00",
          "2021-08-31T00:00:00+00:00",
          "2021-09-01T00:00:00+00:00",
          "2021-09-02T00:00:00+00:00",
          "2021-09-03T00:00:00+00:00"
         ],
         "y": [
          1.20036,
          1.20646,
          1.21618,
          1.21282,
          1.2147000000000001,
          1.20705,
          1.20791,
          1.21441,
          1.21511,
          1.2221899999999999,
          1.21744,
          1.22269,
          1.21806,
          1.2215,
          1.22497,
          1.21922,
          1.21934,
          1.21896,
          1.2225,
          1.22126,
          1.221,
          1.21265,
          1.21662,
          1.21893,
          1.21726,
          1.21787,
          1.21751,
          1.21063,
          1.212,
          1.21264,
          1.19943,
          1.19069,
          1.18597,
          1.19185,
          1.19413,
          1.19258,
          1.19315,
          1.1937,
          1.19242,
          1.1896,
          1.1856,
          1.18497,
          1.18646,
          1.18634,
          1.18231,
          1.17903,
          1.18449,
          1.18774,
          1.18606,
          1.17765,
          1.18358,
          1.18118,
          1.18055,
          1.17987,
          1.17805,
          1.17946,
          1.17707,
          1.17689,
          1.18029,
          1.18165,
          1.18441,
          1.18865,
          1.1873,
          1.18688,
          1.18637,
          1.18367,
          1.18327,
          1.17611,
          1.17362,
          1.17203,
          1.17388,
          1.17296,
          1.17962,
          1.17768,
          1.17081,
          1.17108,
          1.16756,
          1.16996,
          1.1745700000000001,
          1.17555,
          1.17716,
          1.17515,
          1.1795499999999999,
          1.17962,
          1.18083,
          1.18384,
          1.18744,
          1.18772
         ],
         "yaxis": "y2"
        },
        {
         "hovertext": [
          "order id: 1<br>hold probability: 0.1659<br>hold: False<br>volume: -2.740885<br>modified volume: 2.7400<br>fee: 0.000204<br>margin: 3348.800600<br>error: ",
          "order id: 2<br>hold probability: 0.2311<br>hold: False<br>volume: 0.127048<br>modified volume: 0.1300<br>fee: 0.000171<br>margin: 158.267200<br>error: ",
          "order id: 3<br>hold probability: 0.2850<br>hold: False<br>volume: -1.805250<br>modified volume: 1.8100<br>fee: 0.000209<br>margin: 2213.068900<br>error: ",
          "order id: <br>hold probability: 0.1759<br>hold: False<br>volume: -1.515750<br>modified volume: 1.5200<br>fee: nan<br>margin: nan<br>error: cannot add more orders",
          "order id: <br>hold probability: 0.0529<br>hold: False<br>volume: -2.760985<br>modified volume: 2.7600<br>fee: nan<br>margin: nan<br>error: cannot add more orders",
          "order id: <br>hold probability: 0.2674<br>hold: False<br>volume: -1.182771<br>modified volume: 1.1800<br>fee: nan<br>margin: nan<br>error: cannot add more orders",
          "order id: 8<br>hold probability: 0.0494<br>hold: False<br>volume: -1.623420<br>modified volume: 1.6200<br>fee: 0.000218<br>margin: 1975.136400<br>error: ",
          "order id: 9<br>hold probability: 0.0727<br>hold: False<br>volume: -1.395476<br>modified volume: 1.4000<br>fee: 0.000191<br>margin: 1707.076000<br>error: ",
          "order id: <br>hold probability: 0.1186<br>hold: False<br>volume: -1.248707<br>modified volume: 1.2500<br>fee: nan<br>margin: nan<br>error: cannot add more orders",
          "order id: 12<br>hold probability: 0.4362<br>hold: False<br>volume: -0.038366<br>modified volume: 0.0400<br>fee: 0.000170<br>margin: 48.900000<br>error: ",
          "order id: 13<br>hold probability: 0.1353<br>hold: False<br>volume: -0.496495<br>modified volume: 0.5000<br>fee: 0.000206<br>margin: 610.630000<br>error: ",
          "order id: 15<br>hold probability: 0.2240<br>hold: False<br>volume: -1.788956<br>modified volume: 1.7900<br>fee: 0.000240<br>margin: 2185.590000<br>error: ",
          "order id: <br>hold probability: 0.4609<br>hold: False<br>volume: -0.648218<br>modified volume: 0.6500<br>fee: nan<br>margin: nan<br>error: cannot add more orders",
          "order id: 17<br>hold probability: 0.0453<br>hold: False<br>volume: 0.192541<br>modified volume: 0.1900<br>fee: 0.000191<br>margin: 231.157800<br>error: ",
          "order id: <br>hold probability: 0.2477<br>hold: False<br>volume: -1.552084<br>modified volume: 1.5500<br>fee: nan<br>margin: nan<br>error: cannot add more orders",
          "order id: 22<br>hold probability: 0.4683<br>hold: False<br>volume: -3.791366<br>modified volume: 3.7900<br>fee: 0.000177<br>margin: 4613.415400<br>error: ",
          "order id: <br>hold probability: 0.3372<br>hold: False<br>volume: -2.694571<br>modified volume: 2.6900<br>fee: nan<br>margin: nan<br>error: cannot add more orders",
          "order id: <br>hold probability: 0.4034<br>hold: False<br>volume: -0.503378<br>modified volume: 0.5000<br>fee: nan<br>margin: nan<br>error: cannot add more orders",
          "order id: <br>hold probability: 0.2401<br>hold: False<br>volume: -0.306018<br>modified volume: 0.3100<br>fee: nan<br>margin: nan<br>error: cannot add more orders",
          "order id: 27<br>hold probability: 0.1482<br>hold: False<br>volume: -0.965956<br>modified volume: 0.9700<br>fee: 0.000208<br>margin: 1175.640000<br>error: ",
          "order id: 29<br>hold probability: 0.1352<br>hold: False<br>volume: -0.575859<br>modified volume: 0.5800<br>fee: 0.000225<br>margin: 703.331200<br>error: ",
          "order id: 30<br>hold probability: 0.3532<br>hold: False<br>volume: -1.149733<br>modified volume: 1.1500<br>fee: 0.000231<br>margin: 1379.344500<br>error: ",
          "order id: 32<br>hold probability: 0.2403<br>hold: False<br>volume: -2.539388<br>modified volume: 2.5400<br>fee: 0.000179<br>margin: 3024.352600<br>error: ",
          "order id: <br>hold probability: 0.0422<br>hold: False<br>volume: -2.307607<br>modified volume: 2.3100<br>fee: nan<br>margin: nan<br>error: cannot add more orders",
          "order id: <br>hold probability: 0.0866<br>hold: False<br>volume: -1.463106<br>modified volume: 1.4600<br>fee: nan<br>margin: nan<br>error: cannot add more orders",
          "order id: 34<br>hold probability: 0.2341<br>hold: False<br>volume: -3.929988<br>modified volume: 3.9300<br>fee: 0.000240<br>margin: 4692.930900<br>error: ",
          "order id: 35<br>hold probability: 0.1740<br>hold: False<br>volume: 0.445636<br>modified volume: 0.4500<br>fee: 0.000176<br>margin: 536.661000<br>error: ",
          "order id: <br>hold probability: 0.0238<br>hold: False<br>volume: -0.544144<br>modified volume: 0.5400<br>fee: nan<br>margin: nan<br>error: cannot add more orders",
          "order id: 40<br>hold probability: 0.3727<br>hold: False<br>volume: -1.292814<br>modified volume: 1.2900<br>fee: 0.000197<br>margin: 1539.873000<br>error: ",
          "order id: <br>hold probability: 0.2992<br>hold: False<br>volume: -1.118954<br>modified volume: 1.1200<br>fee: nan<br>margin: nan<br>error: cannot add more orders",
          "order id: <br>hold probability: 0.1554<br>hold: False<br>volume: -0.980622<br>modified volume: 0.9800<br>fee: nan<br>margin: nan<br>error: cannot add more orders",
          "order id: 43<br>hold probability: 0.0529<br>hold: False<br>volume: -1.409685<br>modified volume: 1.4100<br>fee: 0.000179<br>margin: 1671.696000<br>error: ",
          "order id: 46<br>hold probability: 0.3646<br>hold: False<br>volume: 0.219886<br>modified volume: 0.2200<br>fee: 0.000215<br>margin: 260.693400<br>error: ",
          "order id: 49<br>hold probability: 0.1635<br>hold: False<br>volume: -1.833406<br>modified volume: 1.8300<br>fee: 0.000229<br>margin: 2171.221800<br>error: ",
          "order id: 51<br>hold probability: 0.1212<br>hold: False<br>volume: -1.912617<br>modified volume: 1.9100<br>fee: 0.000225<br>margin: 2265.909400<br>error: ",
          "order id: <br>hold probability: 0.1201<br>hold: False<br>volume: -4.972576<br>modified volume: 4.9700<br>fee: nan<br>margin: nan<br>error: cannot add more orders",
          "order id: <br>hold probability: 0.1338<br>hold: False<br>volume: -2.067060<br>modified volume: 2.0700<br>fee: nan<br>margin: nan<br>error: cannot add more orders",
          "order id: 56<br>hold probability: 0.4535<br>hold: False<br>volume: -0.823775<br>modified volume: 0.8200<br>fee: 0.000212<br>margin: 971.281800<br>error: ",
          "order id: 58<br>hold probability: 0.1993<br>hold: False<br>volume: -2.945302<br>modified volume: 2.9500<br>fee: 0.000224<br>margin: 3503.833000<br>error: ",
          "order id: 60<br>hold probability: 0.0773<br>hold: False<br>volume: -1.245797<br>modified volume: 1.2500<br>fee: 0.000191<br>margin: 1482.575000<br>error: ",
          "order id: <br>hold probability: 0.1024<br>hold: False<br>volume: -1.428340<br>modified volume: 1.4300<br>fee: nan<br>margin: nan<br>error: cannot add more orders",
          "order id: <br>hold probability: 0.2828<br>hold: False<br>volume: -0.904712<br>modified volume: 0.9000<br>fee: nan<br>margin: nan<br>error: cannot add more orders",
          "order id: <br>hold probability: 0.2670<br>hold: False<br>volume: -3.550945<br>modified volume: 3.5500<br>fee: nan<br>margin: nan<br>error: cannot add more orders",
          "order id: <br>hold probability: 0.3492<br>hold: False<br>volume: 0.551512<br>modified volume: 0.5500<br>fee: nan<br>margin: nan<br>error: cannot add more orders",
          "order id: <br>hold probability: 0.0965<br>hold: False<br>volume: -0.204644<br>modified volume: 0.2000<br>fee: nan<br>margin: nan<br>error: cannot add more orders",
          "order id: 65<br>hold probability: 0.0444<br>hold: False<br>volume: 0.134935<br>modified volume: 0.1300<br>fee: 0.000152<br>margin: 153.146500<br>error: ",
          "order id: <br>hold probability: 0.4366<br>hold: False<br>volume: -1.101678<br>modified volume: 1.1000<br>fee: nan<br>margin: nan<br>error: cannot add more orders",
          "order id: 68<br>hold probability: 0.3967<br>hold: False<br>volume: -2.278275<br>modified volume: 2.2800<br>fee: 0.000212<br>margin: 2683.719600<br>error: ",
          "order id: 69<br>hold probability: 0.0347<br>hold: False<br>volume: -1.794896<br>modified volume: 1.7900<br>fee: 0.000244<br>margin: 2106.633100<br>error: ",
          "order id: <br>hold probability: 0.3219<br>hold: False<br>volume: -2.193048<br>modified volume: 2.1900<br>fee: nan<br>margin: nan<br>error: cannot add more orders",
          "order id: 72<br>hold probability: 0.1346<br>hold: False<br>volume: -1.225473<br>modified volume: 1.2300<br>fee: 0.000208<br>margin: 1453.429500<br>error: ",
          "order id: <br>hold probability: 0.1952<br>hold: False<br>volume: 1.083463<br>modified volume: 1.0800<br>fee: nan<br>margin: nan<br>error: cannot add more orders",
          "order id: <br>hold probability: 0.1545<br>hold: False<br>volume: -2.221843<br>modified volume: 2.2200<br>fee: nan<br>margin: nan<br>error: cannot add more orders",
          "order id: 77<br>hold probability: 0.1781<br>hold: False<br>volume: -2.874055<br>modified volume: 2.8700<br>fee: 0.000220<br>margin: 3407.551000<br>error: ",
          "order id: 79<br>hold probability: 0.0902<br>hold: False<br>volume: -0.264555<br>modified volume: 0.2600<br>fee: 0.000255<br>margin: 308.588800<br>error: ",
          "order id: 81<br>hold probability: 0.3516<br>hold: False<br>volume: -0.129633<br>modified volume: 0.1300<br>fee: 0.000206<br>margin: 154.228100<br>error: ",
          "order id: 84<br>hold probability: 0.4232<br>hold: False<br>volume: -1.281069<br>modified volume: 1.2800<br>fee: 0.000186<br>margin: 1515.097600<br>error: ",
          "order id: 86<br>hold probability: 0.1840<br>hold: False<br>volume: -0.563266<br>modified volume: 0.5600<br>fee: 0.000237<br>margin: 662.631200<br>error: ",
          "order id: 87<br>hold probability: 0.0510<br>hold: False<br>volume: 0.609259<br>modified volume: 0.6100<br>fee: 0.000219<br>margin: 717.427100<br>error: ",
          "order id: <br>hold probability: 0.1757<br>hold: False<br>volume: -2.218621<br>modified volume: 2.2200<br>fee: nan<br>margin: nan<br>error: cannot add more orders",
          "order id: <br>hold probability: 0.3047<br>hold: False<br>volume: -2.370133<br>modified volume: 2.3700<br>fee: nan<br>margin: nan<br>error: cannot add more orders",
          "order id: <br>hold probability: 0.1631<br>hold: False<br>volume: -1.647830<br>modified volume: 1.6500<br>fee: nan<br>margin: nan<br>error: cannot add more orders",
          "order id: <br>hold probability: 0.0713<br>hold: False<br>volume: 0.205764<br>modified volume: 0.2100<br>fee: nan<br>margin: nan<br>error: cannot add more orders",
          "order id: <br>hold probability: 0.2536<br>hold: False<br>volume: -0.261838<br>modified volume: 0.2600<br>fee: nan<br>margin: nan<br>error: cannot add more orders",
          "order id: <br>hold probability: 0.3164<br>hold: False<br>volume: -1.715106<br>modified volume: 1.7200<br>fee: nan<br>margin: nan<br>error: cannot add more orders",
          "order id: <br>hold probability: 0.1041<br>hold: False<br>volume: -2.155206<br>modified volume: 2.1600<br>fee: nan<br>margin: nan<br>error: cannot add more orders",
          "order id: 94<br>hold probability: 0.0866<br>hold: False<br>volume: -0.513885<br>modified volume: 0.5100<br>fee: 0.000183<br>margin: 597.250800<br>error: ",
          "order id: 95<br>hold probability: 0.0833<br>hold: False<br>volume: -1.965150<br>modified volume: 1.9700<br>fee: 0.000177<br>margin: 2300.093200<br>error: ",
          "order id: 96<br>hold probability: 0.4746<br>hold: False<br>volume: -1.840852<br>modified volume: 1.8400<br>fee: 0.000199<br>margin: 2152.726400<br>error: ",
          "order id: 98<br>hold probability: 0.0771<br>hold: False<br>volume: -1.964443<br>modified volume: 1.9600<br>fee: 0.000200<br>margin: 2302.157200<br>error: ",
          "order id: 101<br>hold probability: 0.1378<br>hold: False<br>volume: -1.684100<br>modified volume: 1.6800<br>fee: 0.000197<br>margin: 1974.924000<br>error: ",
          "order id: <br>hold probability: 0.2725<br>hold: False<br>volume: -0.067275<br>modified volume: 0.0700<br>fee: nan<br>margin: nan<br>error: cannot add more orders",
          "order id: 103<br>hold probability: 0.1275<br>hold: False<br>volume: -3.652791<br>modified volume: 3.6500<br>fee: 0.000210<br>margin: 4289.297500<br>error: ",
          "order id: 105<br>hold probability: 0.4593<br>hold: False<br>volume: -3.137471<br>modified volume: 3.1400<br>fee: 0.000170<br>margin: 3703.787000<br>error: ",
          "order id: 107<br>hold probability: 0.1279<br>hold: False<br>volume: -1.599710<br>modified volume: 1.6000<br>fee: 0.000214<br>margin: 1887.392000<br>error: ",
          "order id: 109<br>hold probability: 0.1471<br>hold: False<br>volume: -0.694151<br>modified volume: 0.6900<br>fee: 0.000265<br>margin: 814.772700<br>error: ",
          "order id: 111<br>hold probability: 0.4666<br>hold: False<br>volume: -1.959541<br>modified volume: 1.9600<br>fee: 0.000213<br>margin: 2320.326400<br>error: ",
          "order id: 113<br>hold probability: 0.2712<br>hold: False<br>volume: -1.487842<br>modified volume: 1.4900<br>fee: 0.000221<br>margin: 1769.285600<br>error: "
         ],
         "legendgroup": "g2",
         "marker": {
          "color": [
           "red",
           "green",
           "red",
           "gray",
           "gray",
           "gray",
           "red",
           "red",
           "gray",
           "red",
           "red",
           "red",
           "gray",
           "green",
           "gray",
           "red",
           "gray",
           "gray",
           "gray",
           "red",
           "red",
           "red",
           "red",
           "gray",
           "gray",
           "red",
           "green",
           "gray",
           "red",
           "gray",
           "gray",
           "red",
           "green",
           "red",
           "red",
           "gray",
           "gray",
           "red",
           "red",
           "red",
           "gray",
           "gray",
           "gray",
           "gray",
           "gray",
           "green",
           "gray",
           "red",
           "red",
           "gray",
           "red",
           "gray",
           "gray",
           "red",
           "red",
           "red",
           "red",
           "red",
           "green",
           "gray",
           "gray",
           "gray",
           "gray",
           "gray",
           "gray",
           "gray",
           "red",
           "red",
           "red",
           "red",
           "red",
           "gray",
           "red",
           "red",
           "red",
           "red",
           "red",
           "red"
          ],
          "size": [
           20.12877263581489,
           8.575452716297786,
           16.012072434607646,
           14.728370221327967,
           20.217303822937627,
           13.22334004024145,
           15.17102615694165,
           14.19718309859155,
           13.533199195171026,
           8.177062374245473,
           10.21327967806841,
           15.92354124748491,
           10.877263581488934,
           8.841046277665995,
           14.861167002012074,
           24.77665995975855,
           19.907444668008047,
           10.21327967806841,
           9.372233400402415,
           12.293762575452718,
           10.567404426559357,
           13.090543259557345,
           19.243460764587525,
           18.225352112676056,
           14.462776659959758,
           25.396378269617706,
           9.991951710261569,
           10.390342052313883,
           13.710261569416499,
           12.95774647887324,
           12.338028169014084,
           14.241448692152916,
           8.9738430583501,
           16.100603621730382,
           16.454728370221332,
           30,
           17.162977867203217,
           11.629778672032193,
           21.058350100603626,
           13.533199195171026,
           14.329979879275655,
           11.98390342052314,
           23.714285714285715,
           10.434607645875252,
           8.885311871227364,
           8.575452716297786,
           12.869215291750503,
           18.092555331991953,
           15.92354124748491,
           17.694164989939637,
           13.44466800804829,
           12.780684104627767,
           17.826961770623743,
           20.704225352112676,
           9.150905432595573,
           8.575452716297786,
           13.665995975855132,
           10.47887323943662,
           10.700201207243461,
           17.826961770623743,
           18.49094567404427,
           15.303822937625757,
           8.929577464788732,
           9.150905432595573,
           15.613682092555333,
           17.561368209255534,
           10.257545271629779,
           16.720321931589538,
           16.14486921529175,
           16.676056338028168,
           15.43661971830986,
           8.309859154929578,
           24.156941649899398,
           21.899396378269618,
           15.082494969818914,
           11.054325955734406,
           16.676056338028168,
           14.595573440643864
          ],
          "symbol": [
           "triangle-down",
           "triangle-up",
           "triangle-down",
           "triangle-down",
           "triangle-down",
           "triangle-down",
           "triangle-down",
           "triangle-down",
           "triangle-down",
           "triangle-down",
           "triangle-down",
           "triangle-down",
           "triangle-down",
           "triangle-up",
           "triangle-down",
           "triangle-down",
           "triangle-down",
           "triangle-down",
           "triangle-down",
           "triangle-down",
           "triangle-down",
           "triangle-down",
           "triangle-down",
           "triangle-down",
           "triangle-down",
           "triangle-down",
           "triangle-up",
           "triangle-down",
           "triangle-down",
           "triangle-down",
           "triangle-down",
           "triangle-down",
           "triangle-up",
           "triangle-down",
           "triangle-down",
           "triangle-down",
           "triangle-down",
           "triangle-down",
           "triangle-down",
           "triangle-down",
           "triangle-down",
           "triangle-down",
           "triangle-down",
           "triangle-down",
           "triangle-down",
           "triangle-up",
           "triangle-down",
           "triangle-down",
           "triangle-down",
           "triangle-down",
           "triangle-down",
           "triangle-down",
           "triangle-down",
           "triangle-down",
           "triangle-down",
           "triangle-down",
           "triangle-down",
           "triangle-down",
           "triangle-up",
           "triangle-down",
           "triangle-down",
           "triangle-down",
           "triangle-down",
           "triangle-down",
           "triangle-down",
           "triangle-down",
           "triangle-down",
           "triangle-down",
           "triangle-down",
           "triangle-down",
           "triangle-down",
           "triangle-down",
           "triangle-down",
           "triangle-down",
           "triangle-down",
           "triangle-down",
           "triangle-down",
           "triangle-down"
          ]
         },
         "mode": "markers",
         "name": "EURUSD",
         "showlegend": false,
         "type": "scatter",
         "x": [
          "2021-05-18T00:00:00+00:00",
          "2021-05-19T00:00:00+00:00",
          "2021-05-20T00:00:00+00:00",
          "2021-05-21T00:00:00+00:00",
          "2021-05-24T00:00:00+00:00",
          "2021-05-25T00:00:00+00:00",
          "2021-05-26T00:00:00+00:00",
          "2021-05-27T00:00:00+00:00",
          "2021-05-28T00:00:00+00:00",
          "2021-05-31T00:00:00+00:00",
          "2021-06-01T00:00:00+00:00",
          "2021-06-02T00:00:00+00:00",
          "2021-06-03T00:00:00+00:00",
          "2021-06-04T00:00:00+00:00",
          "2021-06-07T00:00:00+00:00",
          "2021-06-08T00:00:00+00:00",
          "2021-06-09T00:00:00+00:00",
          "2021-06-10T00:00:00+00:00",
          "2021-06-11T00:00:00+00:00",
          "2021-06-14T00:00:00+00:00",
          "2021-06-15T00:00:00+00:00",
          "2021-06-16T00:00:00+00:00",
          "2021-06-17T00:00:00+00:00",
          "2021-06-18T00:00:00+00:00",
          "2021-06-21T00:00:00+00:00",
          "2021-06-22T00:00:00+00:00",
          "2021-06-23T00:00:00+00:00",
          "2021-06-24T00:00:00+00:00",
          "2021-06-25T00:00:00+00:00",
          "2021-06-28T00:00:00+00:00",
          "2021-06-29T00:00:00+00:00",
          "2021-06-30T00:00:00+00:00",
          "2021-07-01T00:00:00+00:00",
          "2021-07-02T00:00:00+00:00",
          "2021-07-05T00:00:00+00:00",
          "2021-07-06T00:00:00+00:00",
          "2021-07-07T00:00:00+00:00",
          "2021-07-08T00:00:00+00:00",
          "2021-07-09T00:00:00+00:00",
          "2021-07-12T00:00:00+00:00",
          "2021-07-13T00:00:00+00:00",
          "2021-07-14T00:00:00+00:00",
          "2021-07-15T00:00:00+00:00",
          "2021-07-16T00:00:00+00:00",
          "2021-07-19T00:00:00+00:00",
          "2021-07-20T00:00:00+00:00",
          "2021-07-21T00:00:00+00:00",
          "2021-07-22T00:00:00+00:00",
          "2021-07-23T00:00:00+00:00",
          "2021-07-26T00:00:00+00:00",
          "2021-07-27T00:00:00+00:00",
          "2021-07-28T00:00:00+00:00",
          "2021-07-29T00:00:00+00:00",
          "2021-07-30T00:00:00+00:00",
          "2021-08-02T00:00:00+00:00",
          "2021-08-03T00:00:00+00:00",
          "2021-08-04T00:00:00+00:00",
          "2021-08-05T00:00:00+00:00",
          "2021-08-06T00:00:00+00:00",
          "2021-08-09T00:00:00+00:00",
          "2021-08-10T00:00:00+00:00",
          "2021-08-11T00:00:00+00:00",
          "2021-08-12T00:00:00+00:00",
          "2021-08-13T00:00:00+00:00",
          "2021-08-16T00:00:00+00:00",
          "2021-08-17T00:00:00+00:00",
          "2021-08-18T00:00:00+00:00",
          "2021-08-19T00:00:00+00:00",
          "2021-08-20T00:00:00+00:00",
          "2021-08-23T00:00:00+00:00",
          "2021-08-24T00:00:00+00:00",
          "2021-08-25T00:00:00+00:00",
          "2021-08-26T00:00:00+00:00",
          "2021-08-27T00:00:00+00:00",
          "2021-08-30T00:00:00+00:00",
          "2021-08-31T00:00:00+00:00",
          "2021-09-01T00:00:00+00:00",
          "2021-09-02T00:00:00+00:00"
         ],
         "y": [
          1.2221899999999999,
          1.21744,
          1.22269,
          1.21806,
          1.2215,
          1.22497,
          1.21922,
          1.21934,
          1.21896,
          1.2225,
          1.22126,
          1.221,
          1.21265,
          1.21662,
          1.21893,
          1.21726,
          1.21787,
          1.21751,
          1.21063,
          1.212,
          1.21264,
          1.19943,
          1.19069,
          1.18597,
          1.19185,
          1.19413,
          1.19258,
          1.19315,
          1.1937,
          1.19242,
          1.1896,
          1.1856,
          1.18497,
          1.18646,
          1.18634,
          1.18231,
          1.17903,
          1.18449,
          1.18774,
          1.18606,
          1.17765,
          1.18358,
          1.18118,
          1.18055,
          1.17987,
          1.17805,
          1.17946,
          1.17707,
          1.17689,
          1.18029,
          1.18165,
          1.18441,
          1.18865,
          1.1873,
          1.18688,
          1.18637,
          1.18367,
          1.18327,
          1.17611,
          1.17362,
          1.17203,
          1.17388,
          1.17296,
          1.17962,
          1.17768,
          1.17081,
          1.17108,
          1.16756,
          1.16996,
          1.1745700000000001,
          1.17555,
          1.17716,
          1.17515,
          1.1795499999999999,
          1.17962,
          1.18083,
          1.18384,
          1.18744
         ],
         "yaxis": "y2"
        },
        {
         "hovertext": [
          "order id: 1<br>order type: Sell<br>close probability: 0.8227<br>margin: 3348.800600<br>profit: 1245.591151",
          "order id: 3<br>order type: Sell<br>close probability: 0.8459<br>margin: 2213.068900<br>profit: 590.221876",
          "order id: 2<br>order type: Buy<br>close probability: 0.7979<br>margin: 158.267200<br>profit: 22.470676",
          "order id: 8<br>order type: Sell<br>close probability: 0.7257<br>margin: 1975.136400<br>profit: -566.704560",
          "order id: 9<br>order type: Sell<br>close probability: 0.6041<br>margin: 1707.076000<br>profit: -295.511100",
          "order id: 12<br>order type: Sell<br>close probability: 0.6922<br>margin: 48.900000<br>profit: 5.320402",
          "order id: 15<br>order type: Sell<br>close probability: 0.6287<br>margin: 2185.590000<br>profit: 741.095023",
          "order id: 17<br>order type: Buy<br>close probability: 0.5324<br>margin: 231.157800<br>profit: 8.528338",
          "order id: 13<br>order type: Sell<br>close probability: 0.5346<br>margin: 610.630000<br>profit: 452.696171",
          "order id: 27<br>order type: Sell<br>close probability: 0.6926<br>margin: 1175.640000<br>profit: -82.265328",
          "order id: 22<br>order type: Sell<br>close probability: 0.5155<br>margin: 4613.415400<br>profit: 6690.610138",
          "order id: 29<br>order type: Sell<br>close probability: 0.6047<br>margin: 703.331200<br>profit: 1260.059861",
          "order id: 32<br>order type: Sell<br>close probability: 0.8331<br>margin: 3024.352600<br>profit: -919.314325",
          "order id: 30<br>order type: Sell<br>close probability: 0.6339<br>margin: 1379.344500<br>profit: 761.209798",
          "order id: 35<br>order type: Buy<br>close probability: 0.7166<br>margin: 536.661000<br>profit: 42.497812",
          "order id: 34<br>order type: Sell<br>close probability: 0.6311<br>margin: 4692.930900<br>profit: 3257.943660",
          "order id: 43<br>order type: Sell<br>close probability: 0.6926<br>margin: 1671.696000<br>profit: 63.582691",
          "order id: 40<br>order type: Sell<br>close probability: 0.5393<br>margin: 1539.873000<br>profit: 908.601098<br>---------------------------------<br>order id: 46<br>order type: Buy<br>close probability: 0.6810<br>margin: 260.693400<br>profit: 28.043178",
          "order id: 49<br>order type: Sell<br>close probability: 0.5951<br>margin: 2171.221800<br>profit: 318.588638<br>---------------------------------<br>order id: 51<br>order type: Sell<br>close probability: 0.5568<br>margin: 2265.909400<br>profit: 310.416765",
          "order id: 56<br>order type: Sell<br>close probability: 0.7987<br>margin: 971.281800<br>profit: -146.088304",
          "order id: 60<br>order type: Sell<br>close probability: 0.8842<br>margin: 1482.575000<br>profit: 977.403285",
          "order id: 58<br>order type: Sell<br>close probability: 0.6387<br>margin: 3503.833000<br>profit: 3081.653747",
          "order id: 65<br>order type: Buy<br>close probability: 0.6228<br>margin: 153.146500<br>profit: -17.051432",
          "order id: 68<br>order type: Sell<br>close probability: 0.8520<br>margin: 2683.719600<br>profit: -1092.592230",
          "order id: 72<br>order type: Sell<br>close probability: 0.5041<br>margin: 1453.429500<br>profit: -720.572091",
          "order id: 69<br>order type: Sell<br>close probability: 0.5476<br>margin: 2106.633100<br>profit: -1831.902881<br>---------------------------------<br>order id: 77<br>order type: Sell<br>close probability: 0.6196<br>margin: 3407.551000<br>profit: 57.261277",
          "order id: 79<br>order type: Sell<br>close probability: 0.5826<br>margin: 308.588800<br>profit: 76.831471<br>---------------------------------<br>order id: 81<br>order type: Sell<br>close probability: 0.5819<br>margin: 154.228100<br>profit: 32.421486",
          "order id: 84<br>order type: Sell<br>close probability: 0.8834<br>margin: 1515.097600<br>profit: 27.413333",
          "order id: 86<br>order type: Sell<br>close probability: 0.5581<br>margin: 662.631200<br>profit: 669.388511<br>---------------------------------<br>order id: 87<br>order type: Buy<br>close probability: 0.7879<br>margin: 717.427100<br>profit: -320.209760",
          "order id: 94<br>order type: Sell<br>close probability: 0.5392<br>margin: 597.250800<br>profit: 170.200675",
          "order id: 95<br>order type: Sell<br>close probability: 0.5711<br>margin: 2300.093200<br>profit: -1415.797927",
          "order id: 98<br>order type: Sell<br>close probability: 0.7251<br>margin: 2302.157200<br>profit: -231.182816",
          "order id: 96<br>order type: Sell<br>close probability: 0.7194<br>margin: 2152.726400<br>profit: -991.537387",
          "order id: 101<br>order type: Sell<br>close probability: 0.5847<br>margin: 1974.924000<br>profit: -705.059132<br>---------------------------------<br>order id: 103<br>order type: Sell<br>close probability: 0.7256<br>margin: 4289.297500<br>profit: -1682.644418",
          "order id: 107<br>order type: Sell<br>close probability: 0.6947<br>margin: 1887.392000<br>profit: -227.823522",
          "order id: 105<br>order type: Sell<br>close probability: 0.5226<br>margin: 3703.787000<br>profit: -1400.300867<br>---------------------------------<br>order id: 109<br>order type: Sell<br>close probability: 0.6940<br>margin: 814.772700<br>profit: -225.950793",
          "order id: 111<br>order type: Sell<br>close probability: 0.6618<br>margin: 2320.326400<br>profit: -747.329357"
         ],
         "legendgroup": "g2",
         "marker": {
          "color": "black",
          "line": {
           "width": 1.5
          },
          "size": 7,
          "symbol": "line-ns"
         },
         "mode": "markers",
         "name": "EURUSD",
         "showlegend": false,
         "type": "scatter",
         "x": [
          "2021-05-19T00:00:00+00:00",
          "2021-05-26T00:00:00+00:00",
          "2021-05-27T00:00:00+00:00",
          "2021-05-31T00:00:00+00:00",
          "2021-06-01T00:00:00+00:00",
          "2021-06-02T00:00:00+00:00",
          "2021-06-04T00:00:00+00:00",
          "2021-06-08T00:00:00+00:00",
          "2021-06-14T00:00:00+00:00",
          "2021-06-15T00:00:00+00:00",
          "2021-06-16T00:00:00+00:00",
          "2021-06-17T00:00:00+00:00",
          "2021-06-22T00:00:00+00:00",
          "2021-06-23T00:00:00+00:00",
          "2021-06-25T00:00:00+00:00",
          "2021-06-30T00:00:00+00:00",
          "2021-07-01T00:00:00+00:00",
          "2021-07-02T00:00:00+00:00",
          "2021-07-08T00:00:00+00:00",
          "2021-07-12T00:00:00+00:00",
          "2021-07-20T00:00:00+00:00",
          "2021-07-22T00:00:00+00:00",
          "2021-07-23T00:00:00+00:00",
          "2021-07-27T00:00:00+00:00",
          "2021-07-30T00:00:00+00:00",
          "2021-08-02T00:00:00+00:00",
          "2021-08-04T00:00:00+00:00",
          "2021-08-05T00:00:00+00:00",
          "2021-08-18T00:00:00+00:00",
          "2021-08-19T00:00:00+00:00",
          "2021-08-23T00:00:00+00:00",
          "2021-08-24T00:00:00+00:00",
          "2021-08-26T00:00:00+00:00",
          "2021-08-27T00:00:00+00:00",
          "2021-08-31T00:00:00+00:00",
          "2021-09-01T00:00:00+00:00",
          "2021-09-02T00:00:00+00:00"
         ],
         "y": [
          1.21744,
          1.21922,
          1.21934,
          1.2225,
          1.22126,
          1.221,
          1.21662,
          1.21726,
          1.212,
          1.21264,
          1.19943,
          1.19069,
          1.19413,
          1.19258,
          1.1937,
          1.1856,
          1.18497,
          1.18646,
          1.18449,
          1.18606,
          1.17805,
          1.17707,
          1.17689,
          1.18165,
          1.1873,
          1.18688,
          1.18367,
          1.18327,
          1.17108,
          1.16756,
          1.1745700000000001,
          1.17555,
          1.17515,
          1.1795499999999999,
          1.18083,
          1.18384,
          1.18744
         ],
         "yaxis": "y2"
        },
        {
         "hovertext": [
          "balance: 10000.000000 USD<br>equity: 10000.000000<br>margin: 0.000000<br>free margin: 10000.000000<br>margin level: inf",
          "balance: 10000.000000 USD<br>equity: 10000.000000<br>margin: 0.000000<br>free margin: 10000.000000<br>margin level: inf",
          "balance: 10000.000000 USD<br>equity: 10000.000000<br>margin: 0.000000<br>free margin: 10000.000000<br>margin level: inf",
          "balance: 10000.000000 USD<br>equity: 10000.000000<br>margin: 0.000000<br>free margin: 10000.000000<br>margin level: inf",
          "balance: 10000.000000 USD<br>equity: 10000.000000<br>margin: 0.000000<br>free margin: 10000.000000<br>margin level: inf",
          "balance: 10000.000000 USD<br>equity: 10000.000000<br>margin: 0.000000<br>free margin: 10000.000000<br>margin level: inf",
          "balance: 10000.000000 USD<br>equity: 10000.000000<br>margin: 0.000000<br>free margin: 10000.000000<br>margin level: inf",
          "balance: 10000.000000 USD<br>equity: 10000.000000<br>margin: 0.000000<br>free margin: 10000.000000<br>margin level: inf",
          "balance: 10000.000000 USD<br>equity: 10000.000000<br>margin: 0.000000<br>free margin: 10000.000000<br>margin level: inf",
          "balance: 10000.000000 USD<br>equity: 10000.000000<br>margin: 0.000000<br>free margin: 10000.000000<br>margin level: inf",
          "balance: 10000.000000 USD<br>equity: 11245.591151<br>margin: 3348.800600<br>free margin: 7896.790551<br>margin level: 3.358095",
          "balance: 11245.591151 USD<br>equity: 11311.611827<br>margin: 158.267200<br>free margin: 11153.344627<br>margin level: 71.471611",
          "balance: 11245.591151 USD<br>equity: 12051.603703<br>margin: 2371.336100<br>free margin: 9680.267603<br>margin level: 5.082200",
          "balance: 11245.591151 USD<br>equity: 11473.683703<br>margin: 2371.336100<br>free margin: 9102.347603<br>margin level: 4.838489",
          "balance: 11245.591151 USD<br>equity: 10856.085272<br>margin: 5041.336100<br>free margin: 5814.749172<br>margin level: 2.153414",
          "balance: 11210.952720 USD<br>equity: 13265.317814<br>margin: 6637.915822<br>free margin: 6627.401992<br>margin level: 1.998416",
          "balance: 13232.804353 USD<br>equity: 13424.969921<br>margin: 4053.098283<br>free margin: 9371.871638<br>margin level: 3.312273",
          "balance: 13255.275029 USD<br>equity: 13528.901324<br>margin: 5701.907083<br>free margin: 7826.994241<br>margin level: 2.372698",
          "balance: 13279.470694 USD<br>equity: 12399.351465<br>margin: 6722.934316<br>free margin: 5676.417149<br>margin level: 1.844336",
          "balance: 12868.462565 USD<br>equity: 12577.231868<br>margin: 1755.976000<br>free margin: 10821.255868<br>margin level: 7.162531",
          "balance: 12572.951465 USD<br>equity: 12580.043060<br>margin: 669.530000<br>free margin: 11910.513060<br>margin level: 18.789364",
          "balance: 12577.346890 USD<br>equity: 14854.335168<br>margin: 3426.220000<br>free margin: 11428.115168<br>margin level: 4.335488",
          "balance: 12982.413974 USD<br>equity: 13945.205168<br>margin: 2796.220000<br>free margin: 11148.985168<br>margin level: 4.987163",
          "balance: 13723.508997 USD<br>equity: 13882.405785<br>margin: 891.787800<br>free margin: 12990.617985<br>margin level: 15.566938",
          "balance: 13735.951275 USD<br>equity: 14180.336044<br>margin: 2790.096130<br>free margin: 11390.239914<br>margin level: 5.082383",
          "balance: 13952.178753 USD<br>equity: 13118.799542<br>margin: 7688.669276<br>free margin: 5430.130266<br>margin level: 1.706251",
          "balance: 13952.178753 USD<br>equity: 13631.279569<br>margin: 8948.669276<br>free margin: 4682.610292<br>margin level: 1.523274",
          "balance: 13644.936756 USD<br>equity: 17176.152620<br>margin: 7900.360946<br>free margin: 9275.791674<br>margin level: 2.174097",
          "balance: 13838.643122 USD<br>equity: 17439.220819<br>margin: 7714.045400<br>free margin: 9725.175419<br>margin level: 2.260710",
          "balance: 15512.640682 USD<br>equity: 17155.663844<br>margin: 7060.966020<br>free margin: 10094.697824<br>margin level: 2.429648",
          "balance: 15428.658216 USD<br>equity: 22979.293014<br>margin: 6078.657220<br>free margin: 16900.635793<br>margin level: 3.780324",
          "balance: 22119.268354 USD<br>equity: 24146.360436<br>margin: 3834.586320<br>free margin: 20311.774116<br>margin level: 6.296992",
          "balance: 23167.800638 USD<br>equity: 25842.486111<br>margin: 4403.697100<br>free margin: 21438.789011<br>margin level: 5.868361",
          "balance: 23167.800638 USD<br>equity: 23680.422197<br>margin: 4503.697100<br>free margin: 19176.725097<br>margin level: 5.257996",
          "balance: 23175.456725 USD<br>equity: 22839.102197<br>margin: 4403.697100<br>free margin: 18435.405097<br>margin level: 5.186347",
          "balance: 22256.142399 USD<br>equity: 23532.155857<br>margin: 6072.275400<br>free margin: 17459.880457<br>margin level: 3.875344",
          "balance: 23017.352197 USD<br>equity: 23201.565778<br>margin: 6669.591900<br>free margin: 16531.973878<br>margin level: 3.478708",
          "balance: 22893.024306 USD<br>equity: 23307.176957<br>margin: 6416.781512<br>free margin: 16890.395445<br>margin level: 3.632222",
          "balance: 22935.522118 USD<br>equity: 22861.770243<br>margin: 10974.983633<br>free margin: 11886.786610<br>margin level: 2.083080",
          "balance: 22144.325485 USD<br>equity: 24333.810243<br>margin: 6232.803900<br>free margin: 18101.006343<br>margin level: 3.904151",
          "balance: 22144.325485 USD<br>equity: 26873.901334<br>margin: 7162.803900<br>free margin: 19711.097434<br>margin level: 3.751869",
          "balance: 25854.360236 USD<br>equity: 27608.199393<br>margin: 4881.569000<br>free margin: 22726.630393<br>margin level: 5.655600",
          "balance: 26507.388295 USD<br>equity: 27657.570246<br>margin: 3457.357844<br>free margin: 24200.212402<br>margin level: 7.999626",
          "balance: 27280.540929 USD<br>equity: 27414.817697<br>margin: 4593.340726<br>free margin: 22821.476972<br>margin level: 5.968383",
          "balance: 27211.737832 USD<br>equity: 27835.567337<br>margin: 6369.250126<br>free margin: 21466.317211<br>margin level: 4.370305",
          "balance: 27019.586498 USD<br>equity: 28830.414772<br>margin: 7259.250126<br>free margin: 21571.164647<br>margin level: 3.971542",
          "balance: 27019.586498 USD<br>equity: 27546.577919<br>margin: 7269.250126<br>free margin: 20277.327794<br>margin level: 3.789466",
          "balance: 28836.888852 USD<br>equity: 27118.624439<br>margin: 5807.746113<br>free margin: 21310.878326<br>margin level: 4.669389",
          "balance: 29405.689393 USD<br>equity: 27691.839061<br>margin: 9071.579113<br>free margin: 18620.259949<br>margin level: 3.052593",
          "balance: 27458.823783 USD<br>equity: 31262.982691<br>margin: 6626.080869<br>free margin: 24636.901823<br>margin level: 4.718171",
          "balance: 27458.823783 USD<br>equity: 28042.820833<br>margin: 7076.080869<br>free margin: 20966.739965<br>margin level: 3.963044",
          "balance: 27175.501430 USD<br>equity: 28266.645533<br>margin: 6626.080869<br>free margin: 21640.564665<br>margin level: 4.265967",
          "balance: 25811.288501 USD<br>equity: 28531.245533<br>margin: 4986.408000<br>free margin: 23544.837533<br>margin level: 5.721803",
          "balance: 25811.288501 USD<br>equity: 28035.776689<br>margin: 8609.420483<br>free margin: 19426.356206<br>margin level: 3.256407",
          "balance: 26258.731993 USD<br>equity: 30084.723444<br>margin: 7682.622164<br>free margin: 22402.101281<br>margin level: 3.915945",
          "balance: 26747.501594 USD<br>equity: 29742.062981<br>margin: 4693.193664<br>free margin: 25048.869317<br>margin level: 6.337276",
          "balance: 26587.148499 USD<br>equity: 29614.481336<br>margin: 5588.115558<br>free margin: 24026.365778<br>margin level: 5.299547",
          "balance: 30175.455687 USD<br>equity: 29696.086523<br>margin: 4111.787995<br>free margin: 25584.298528<br>margin level: 7.222183",
          "balance: 30158.404255 USD<br>equity: 27817.232737<br>margin: 6065.274595<br>free margin: 21751.958142<br>margin level: 4.586311",
          "balance: 30158.404255 USD<br>equity: 23615.649220<br>margin: 9600.763935<br>free margin: 14014.885286<br>margin level: 2.459768",
          "balance: 28008.892457 USD<br>equity: 24212.873809<br>margin: 8120.473835<br>free margin: 16092.399975<br>margin level: 2.981707",
          "balance: 28171.704183 USD<br>equity: 23172.074638<br>margin: 7420.473835<br>free margin: 15751.600803<br>margin level: 3.122722",
          "balance: 27384.186360 USD<br>equity: 24096.809059<br>margin: 7941.441287<br>free margin: 16155.367772<br>margin level: 3.034312",
          "balance: 25617.837982 USD<br>equity: 23510.885601<br>margin: 9030.640892<br>free margin: 14480.244709<br>margin level: 2.603457",
          "balance: 23457.017219 USD<br>equity: 22374.180802<br>margin: 2695.045592<br>free margin: 19679.135210<br>margin level: 8.301967",
          "balance: 23457.017219 USD<br>equity: 23606.087004<br>margin: 4872.760464<br>free margin: 18733.326539<br>margin level: 4.844500",
          "balance: 23595.892606 USD<br>equity: 23364.350208<br>margin: 4325.312443<br>free margin: 19039.037765<br>margin level: 5.401772",
          "balance: 23351.865790 USD<br>equity: 23746.506983<br>margin: 746.117973<br>free margin: 23000.389010<br>margin level: 31.826746",
          "balance: 23351.865790 USD<br>equity: 23765.051100<br>margin: 2923.545073<br>free margin: 20841.506027<br>margin level: 8.128847",
          "balance: 23403.172349 USD<br>equity: 23757.101100<br>margin: 1380.058300<br>free margin: 22377.042800<br>margin level: 17.214563",
          "balance: 23403.172349 USD<br>equity: 23566.130641<br>margin: 3409.504511<br>free margin: 20156.626130<br>margin level: 6.911893",
          "balance: 23202.951890 USD<br>equity: 23561.530641<br>margin: 1380.058300<br>free margin: 22181.472341<br>margin level: 17.072852",
          "balance: 23202.951890 USD<br>equity: 23594.830641<br>margin: 1380.058300<br>free margin: 22214.772341<br>margin level: 17.096981",
          "balance: 23202.951890 USD<br>equity: 23585.130641<br>margin: 1380.058300<br>free margin: 22205.072341<br>margin level: 17.089952",
          "balance: 23202.951890 USD<br>equity: 24293.148689<br>margin: 4134.644497<br>free margin: 20158.504192<br>margin level: 5.875511",
          "balance: 23945.319938 USD<br>equity: 23273.876010<br>margin: 4128.351477<br>free margin: 19145.524533<br>margin level: 5.637571",
          "balance: 24294.498689 USD<br>equity: 22189.723710<br>margin: 3345.543977<br>free margin: 18844.179732<br>margin level: 6.632621",
          "balance: 24464.699364 USD<br>equity: 21984.252536<br>margin: 5048.386377<br>free margin: 16935.866158<br>margin level: 4.354709",
          "balance: 24464.699364 USD<br>equity: 22171.225599<br>margin: 9121.112777<br>free margin: 13050.112822<br>margin level: 2.430759",
          "balance: 23199.838267 USD<br>equity: 22906.131269<br>margin: 7273.176777<br>free margin: 15632.954491<br>margin level: 3.149398",
          "balance: 23971.268656 USD<br>equity: 23450.400580<br>margin: 8641.429230<br>free margin: 14808.971350<br>margin level: 2.713718",
          "balance: 24402.477924 USD<br>equity: 25042.781129<br>margin: 7161.429230<br>free margin: 17881.351899<br>margin level: 3.496897",
          "balance: 23410.940537 USD<br>equity: 22000.155773<br>margin: 10238.000330<br>free margin: 11762.155443<br>margin level: 2.148872",
          "balance: 20806.899015 USD<br>equity: 21570.217059<br>margin: 8087.565830<br>free margin: 13482.651229<br>margin level: 2.667084",
          "balance: 20705.596421 USD<br>equity: 21267.847455<br>margin: 10234.957830<br>free margin: 11032.889625<br>margin level: 2.077961",
          "balance: 20587.639824 USD<br>equity: 20491.862344<br>margin: 7952.338530<br>free margin: 12539.523814<br>margin level: 2.576835",
          "balance: 18961.388164 USD<br>equity: 19362.018404<br>margin: 7184.105230<br>free margin: 12177.913174<br>margin level: 2.695119",
          "balance: 19362.018404 USD<br>equity: 19131.200797<br>margin: 2469.285600<br>free margin: 16661.915197<br>margin level: 7.747666"
         ],
         "legendgroup": "g3",
         "line": {
          "color": "rgba(0.7372549019607844, 0.7411764705882353, 0.13333333333333333, 1.0)"
         },
         "mode": "lines+markers",
         "name": "USDJPY",
         "opacity": 1,
         "type": "scatter",
         "x": [
          "2021-05-05T00:00:00+00:00",
          "2021-05-06T00:00:00+00:00",
          "2021-05-07T00:00:00+00:00",
          "2021-05-10T00:00:00+00:00",
          "2021-05-11T00:00:00+00:00",
          "2021-05-12T00:00:00+00:00",
          "2021-05-13T00:00:00+00:00",
          "2021-05-14T00:00:00+00:00",
          "2021-05-17T00:00:00+00:00",
          "2021-05-18T00:00:00+00:00",
          "2021-05-19T00:00:00+00:00",
          "2021-05-20T00:00:00+00:00",
          "2021-05-21T00:00:00+00:00",
          "2021-05-24T00:00:00+00:00",
          "2021-05-25T00:00:00+00:00",
          "2021-05-26T00:00:00+00:00",
          "2021-05-27T00:00:00+00:00",
          "2021-05-28T00:00:00+00:00",
          "2021-05-31T00:00:00+00:00",
          "2021-06-01T00:00:00+00:00",
          "2021-06-02T00:00:00+00:00",
          "2021-06-03T00:00:00+00:00",
          "2021-06-04T00:00:00+00:00",
          "2021-06-07T00:00:00+00:00",
          "2021-06-08T00:00:00+00:00",
          "2021-06-09T00:00:00+00:00",
          "2021-06-10T00:00:00+00:00",
          "2021-06-11T00:00:00+00:00",
          "2021-06-14T00:00:00+00:00",
          "2021-06-15T00:00:00+00:00",
          "2021-06-16T00:00:00+00:00",
          "2021-06-17T00:00:00+00:00",
          "2021-06-18T00:00:00+00:00",
          "2021-06-21T00:00:00+00:00",
          "2021-06-22T00:00:00+00:00",
          "2021-06-23T00:00:00+00:00",
          "2021-06-24T00:00:00+00:00",
          "2021-06-25T00:00:00+00:00",
          "2021-06-28T00:00:00+00:00",
          "2021-06-29T00:00:00+00:00",
          "2021-06-30T00:00:00+00:00",
          "2021-07-01T00:00:00+00:00",
          "2021-07-02T00:00:00+00:00",
          "2021-07-05T00:00:00+00:00",
          "2021-07-06T00:00:00+00:00",
          "2021-07-07T00:00:00+00:00",
          "2021-07-08T00:00:00+00:00",
          "2021-07-09T00:00:00+00:00",
          "2021-07-12T00:00:00+00:00",
          "2021-07-13T00:00:00+00:00",
          "2021-07-14T00:00:00+00:00",
          "2021-07-15T00:00:00+00:00",
          "2021-07-16T00:00:00+00:00",
          "2021-07-19T00:00:00+00:00",
          "2021-07-20T00:00:00+00:00",
          "2021-07-21T00:00:00+00:00",
          "2021-07-22T00:00:00+00:00",
          "2021-07-23T00:00:00+00:00",
          "2021-07-26T00:00:00+00:00",
          "2021-07-27T00:00:00+00:00",
          "2021-07-28T00:00:00+00:00",
          "2021-07-29T00:00:00+00:00",
          "2021-07-30T00:00:00+00:00",
          "2021-08-02T00:00:00+00:00",
          "2021-08-03T00:00:00+00:00",
          "2021-08-04T00:00:00+00:00",
          "2021-08-05T00:00:00+00:00",
          "2021-08-06T00:00:00+00:00",
          "2021-08-09T00:00:00+00:00",
          "2021-08-10T00:00:00+00:00",
          "2021-08-11T00:00:00+00:00",
          "2021-08-12T00:00:00+00:00",
          "2021-08-13T00:00:00+00:00",
          "2021-08-16T00:00:00+00:00",
          "2021-08-17T00:00:00+00:00",
          "2021-08-18T00:00:00+00:00",
          "2021-08-19T00:00:00+00:00",
          "2021-08-20T00:00:00+00:00",
          "2021-08-23T00:00:00+00:00",
          "2021-08-24T00:00:00+00:00",
          "2021-08-25T00:00:00+00:00",
          "2021-08-26T00:00:00+00:00",
          "2021-08-27T00:00:00+00:00",
          "2021-08-30T00:00:00+00:00",
          "2021-08-31T00:00:00+00:00",
          "2021-09-01T00:00:00+00:00",
          "2021-09-02T00:00:00+00:00",
          "2021-09-03T00:00:00+00:00"
         ],
         "y": [
          109.188,
          109.09,
          108.604,
          108.81,
          108.615,
          109.699,
          109.453,
          109.362,
          109.209,
          108.888,
          109.227,
          108.767,
          108.945,
          108.74,
          108.747,
          109.139,
          109.808,
          109.872,
          109.556,
          109.467,
          109.547,
          110.276,
          109.524,
          109.238,
          109.492,
          109.618,
          109.319,
          109.682,
          110.071,
          110.056,
          110.708,
          110.221,
          110.211,
          110.314,
          110.658,
          110.949,
          110.874,
          110.778,
          110.614,
          110.538,
          111.101,
          111.521,
          111.02,
          110.962,
          110.61,
          110.608,
          109.748,
          110.102,
          110.349,
          110.627,
          109.95,
          109.831,
          110.081,
          109.447,
          109.843,
          110.286,
          110.149,
          110.547,
          110.381,
          109.774,
          109.909,
          109.47,
          109.656,
          109.305,
          109.042,
          109.473,
          109.761,
          110.217,
          110.267,
          110.56,
          110.428,
          110.386,
          109.592,
          109.243,
          109.595,
          109.763,
          109.763,
          109.799,
          109.694,
          109.679,
          110.023,
          110.081,
          109.85,
          109.913,
          110.007,
          110.025,
          109.937,
          109.712
         ],
         "yaxis": "y3"
        },
        {
         "hovertext": [
          "order id: 4<br>hold probability: 0.2725<br>hold: False<br>volume: 2.670997<br>modified volume: 2.6700<br>fee: 0.021108<br>margin: 2670.000000<br>error: ",
          "order id: 6<br>hold probability: 0.1474<br>hold: False<br>volume: 4.209340<br>modified volume: 4.2100<br>fee: 0.020868<br>margin: 4210.000000<br>error: ",
          "order id: 10<br>hold probability: 0.3422<br>hold: False<br>volume: 0.096523<br>modified volume: 0.1000<br>fee: 0.023263<br>margin: 100.000000<br>error: ",
          "order id: 14<br>hold probability: 0.1462<br>hold: False<br>volume: -0.003216<br>modified volume: 0.0100<br>fee: 0.021329<br>margin: 10.000000<br>error: ",
          "order id: 16<br>hold probability: 0.2156<br>hold: False<br>volume: 0.633163<br>modified volume: 0.6300<br>fee: 0.019965<br>margin: 630.000000<br>error: ",
          "order id: 18<br>hold probability: 0.3929<br>hold: False<br>volume: -0.051321<br>modified volume: 0.0500<br>fee: 0.014166<br>margin: 50.000000<br>error: ",
          "order id: 20<br>hold probability: 0.3681<br>hold: False<br>volume: 0.965444<br>modified volume: 0.9700<br>fee: 0.019553<br>margin: 970.000000<br>error: ",
          "order id: 23<br>hold probability: 0.4335<br>hold: False<br>volume: 1.257924<br>modified volume: 1.2600<br>fee: 0.021275<br>margin: 1260.000000<br>error: ",
          "order id: 24<br>hold probability: 0.1871<br>hold: False<br>volume: 1.194428<br>modified volume: 1.1900<br>fee: 0.021508<br>margin: 1190.000000<br>error: ",
          "order id: 25<br>hold probability: 0.4841<br>hold: False<br>volume: 1.300762<br>modified volume: 1.3000<br>fee: 0.023605<br>margin: 1300.000000<br>error: ",
          "order id: 28<br>hold probability: 0.4669<br>hold: False<br>volume: -0.513522<br>modified volume: 0.5100<br>fee: 0.018706<br>margin: 510.000000<br>error: ",
          "order id: 31<br>hold probability: 0.4015<br>hold: False<br>volume: 0.994562<br>modified volume: 0.9900<br>fee: 0.018106<br>margin: 990.000000<br>error: ",
          "order id: 33<br>hold probability: 0.1612<br>hold: False<br>volume: 0.100205<br>modified volume: 0.1000<br>fee: 0.018543<br>margin: 100.000000<br>error: ",
          "order id: 36<br>hold probability: 0.1069<br>hold: False<br>volume: 1.441406<br>modified volume: 1.4400<br>fee: 0.020727<br>margin: 1440.000000<br>error: ",
          "order id: 38<br>hold probability: 0.2497<br>hold: False<br>volume: 0.380988<br>modified volume: 0.3800<br>fee: 0.021681<br>margin: 380.000000<br>error: ",
          "order id: 41<br>hold probability: 0.3491<br>hold: False<br>volume: 2.503249<br>modified volume: 2.5000<br>fee: 0.021996<br>margin: 2500.000000<br>error: ",
          "order id: 42<br>hold probability: 0.3662<br>hold: False<br>volume: 0.926139<br>modified volume: 0.9300<br>fee: 0.022916<br>margin: 930.000000<br>error: ",
          "order id: 44<br>hold probability: 0.4650<br>hold: False<br>volume: 1.668710<br>modified volume: 1.6700<br>fee: 0.026374<br>margin: 1670.000000<br>error: ",
          "order id: 47<br>hold probability: 0.3987<br>hold: False<br>volume: 0.348604<br>modified volume: 0.3500<br>fee: 0.017595<br>margin: 350.000000<br>error: ",
          "order id: 50<br>hold probability: 0.1175<br>hold: False<br>volume: 1.057433<br>modified volume: 1.0600<br>fee: 0.014024<br>margin: 1060.000000<br>error: ",
          "order id: 52<br>hold probability: 0.2453<br>hold: False<br>volume: 0.573074<br>modified volume: 0.5700<br>fee: 0.020875<br>margin: 570.000000<br>error: ",
          "order id: 53<br>hold probability: 0.3636<br>hold: False<br>volume: -1.455777<br>modified volume: 1.4600<br>fee: 0.019303<br>margin: 1460.000000<br>error: ",
          "order id: 54<br>hold probability: 0.4772<br>hold: False<br>volume: 0.005624<br>modified volume: 0.0100<br>fee: 0.015800<br>margin: 10.000000<br>error: ",
          "order id: 57<br>hold probability: 0.4804<br>hold: False<br>volume: 1.883719<br>modified volume: 1.8800<br>fee: 0.018107<br>margin: 1880.000000<br>error: ",
          "order id: 59<br>hold probability: 0.4732<br>hold: False<br>volume: -1.645087<br>modified volume: 1.6500<br>fee: 0.022635<br>margin: 1650.000000<br>error: ",
          "order id: 61<br>hold probability: 0.3145<br>hold: False<br>volume: 0.454764<br>modified volume: 0.4500<br>fee: 0.015251<br>margin: 450.000000<br>error: ",
          "order id: 63<br>hold probability: 0.2604<br>hold: False<br>volume: 2.039490<br>modified volume: 2.0400<br>fee: 0.025103<br>margin: 2040.000000<br>error: ",
          "order id: 66<br>hold probability: 0.3855<br>hold: False<br>volume: -0.378235<br>modified volume: 0.3800<br>fee: 0.022387<br>margin: 380.000000<br>error: ",
          "order id: 71<br>hold probability: 0.3986<br>hold: False<br>volume: 1.853607<br>modified volume: 1.8500<br>fee: 0.020148<br>margin: 1850.000000<br>error: ",
          "order id: 73<br>hold probability: 0.2160<br>hold: False<br>volume: 1.598004<br>modified volume: 1.6000<br>fee: 0.023160<br>margin: 1600.000000<br>error: ",
          "order id: 74<br>hold probability: 0.4805<br>hold: False<br>volume: 0.904062<br>modified volume: 0.9000<br>fee: 0.019474<br>margin: 900.000000<br>error: ",
          "order id: 76<br>hold probability: 0.2665<br>hold: False<br>volume: -0.723531<br>modified volume: 0.7200<br>fee: 0.018310<br>margin: 720.000000<br>error: ",
          "order id: 78<br>hold probability: 0.4155<br>hold: False<br>volume: 1.126491<br>modified volume: 1.1300<br>fee: 0.022551<br>margin: 1130.000000<br>error: ",
          "order id: 82<br>hold probability: 0.4681<br>hold: False<br>volume: 1.944086<br>modified volume: 1.9400<br>fee: 0.019064<br>margin: 1940.000000<br>error: ",
          "order id: 85<br>hold probability: 0.2225<br>hold: False<br>volume: -0.383884<br>modified volume: 0.3800<br>fee: 0.017066<br>margin: 380.000000<br>error: ",
          "order id: 88<br>hold probability: 0.4013<br>hold: False<br>volume: 1.464840<br>modified volume: 1.4600<br>fee: 0.020728<br>margin: 1460.000000<br>error: ",
          "order id: 90<br>hold probability: 0.1183<br>hold: False<br>volume: 1.493999<br>modified volume: 1.4900<br>fee: 0.025223<br>margin: 1490.000000<br>error: ",
          "order id: 92<br>hold probability: 0.3139<br>hold: False<br>volume: 2.626630<br>modified volume: 2.6300<br>fee: 0.025012<br>margin: 2630.000000<br>error: ",
          "order id: 97<br>hold probability: 0.3668<br>hold: False<br>volume: -1.919253<br>modified volume: 1.9200<br>fee: 0.018766<br>margin: 1920.000000<br>error: ",
          "order id: 99<br>hold probability: 0.1220<br>hold: False<br>volume: -0.073228<br>modified volume: 0.0700<br>fee: 0.016955<br>margin: 70.000000<br>error: ",
          "order id: 102<br>hold probability: 0.2300<br>hold: False<br>volume: 1.483646<br>modified volume: 1.4800<br>fee: 0.023440<br>margin: 1480.000000<br>error: ",
          "order id: 104<br>hold probability: 0.1769<br>hold: False<br>volume: 0.941169<br>modified volume: 0.9400<br>fee: 0.021816<br>margin: 940.000000<br>error: ",
          "order id: 106<br>hold probability: 0.4304<br>hold: False<br>volume: -1.351157<br>modified volume: 1.3500<br>fee: 0.019478<br>margin: 1350.000000<br>error: ",
          "order id: 108<br>hold probability: 0.4637<br>hold: False<br>volume: 1.613732<br>modified volume: 1.6100<br>fee: 0.018931<br>margin: 1610.000000<br>error: ",
          "order id: 110<br>hold probability: 0.4955<br>hold: False<br>volume: 0.396694<br>modified volume: 0.4000<br>fee: 0.023879<br>margin: 400.000000<br>error: ",
          "order id: 112<br>hold probability: 0.4920<br>hold: False<br>volume: 1.434273<br>modified volume: 1.4300<br>fee: 0.018533<br>margin: 1430.000000<br>error: ",
          "order id: 114<br>hold probability: 0.4439<br>hold: False<br>volume: 0.701741<br>modified volume: 0.7000<br>fee: 0.019850<br>margin: 700.000000<br>error: "
         ],
         "legendgroup": "g3",
         "marker": {
          "color": [
           "green",
           "green",
           "green",
           "red",
           "green",
           "red",
           "green",
           "green",
           "green",
           "green",
           "red",
           "green",
           "green",
           "green",
           "green",
           "green",
           "green",
           "green",
           "green",
           "green",
           "green",
           "red",
           "green",
           "green",
           "red",
           "green",
           "green",
           "red",
           "green",
           "green",
           "green",
           "red",
           "green",
           "green",
           "red",
           "green",
           "green",
           "green",
           "red",
           "red",
           "green",
           "green",
           "red",
           "green",
           "green",
           "green",
           "green"
          ],
          "size": [
           21.95249406175772,
           30,
           8.522565320665084,
           8.052256532066508,
           11.292161520190025,
           8.261282660332542,
           13.068883610451305,
           14.584323040380047,
           14.21852731591449,
           14.793349168646081,
           10.665083135391924,
           13.173396674584323,
           8.522565320665084,
           15.524940617577197,
           9.985748218527316,
           21.06413301662708,
           12.859857482185273,
           16.726840855106886,
           9.828978622327792,
           13.539192399049881,
           10.978622327790974,
           15.629453681710213,
           8.052256532066508,
           17.824228028503562,
           16.62232779097387,
           10.351543942992874,
           18.660332541567698,
           9.985748218527316,
           17.667458432304038,
           16.36104513064133,
           12.703087885985749,
           11.762470308788599,
           13.90498812351544,
           18.13776722090261,
           9.985748218527316,
           15.629453681710213,
           15.78622327790974,
           21.743467933491686,
           18.033254156769594,
           8.365795724465558,
           15.73396674584323,
           12.912114014251781,
           15.054631828978621,
           16.413301662707838,
           10.090261282660332,
           15.47268408551069,
           11.657957244655583
          ],
          "symbol": [
           "triangle-up",
           "triangle-up",
           "triangle-up",
           "triangle-down",
           "triangle-up",
           "triangle-down",
           "triangle-up",
           "triangle-up",
           "triangle-up",
           "triangle-up",
           "triangle-down",
           "triangle-up",
           "triangle-up",
           "triangle-up",
           "triangle-up",
           "triangle-up",
           "triangle-up",
           "triangle-up",
           "triangle-up",
           "triangle-up",
           "triangle-up",
           "triangle-down",
           "triangle-up",
           "triangle-up",
           "triangle-down",
           "triangle-up",
           "triangle-up",
           "triangle-down",
           "triangle-up",
           "triangle-up",
           "triangle-up",
           "triangle-down",
           "triangle-up",
           "triangle-up",
           "triangle-down",
           "triangle-up",
           "triangle-up",
           "triangle-up",
           "triangle-down",
           "triangle-down",
           "triangle-up",
           "triangle-up",
           "triangle-down",
           "triangle-up",
           "triangle-up",
           "triangle-up",
           "triangle-up"
          ]
         },
         "mode": "markers",
         "name": "USDJPY",
         "showlegend": false,
         "type": "scatter",
         "x": [
          "2021-05-24T00:00:00+00:00",
          "2021-05-25T00:00:00+00:00",
          "2021-05-27T00:00:00+00:00",
          "2021-06-01T00:00:00+00:00",
          "2021-06-02T00:00:00+00:00",
          "2021-06-04T00:00:00+00:00",
          "2021-06-07T00:00:00+00:00",
          "2021-06-09T00:00:00+00:00",
          "2021-06-10T00:00:00+00:00",
          "2021-06-11T00:00:00+00:00",
          "2021-06-14T00:00:00+00:00",
          "2021-06-16T00:00:00+00:00",
          "2021-06-18T00:00:00+00:00",
          "2021-06-23T00:00:00+00:00",
          "2021-06-24T00:00:00+00:00",
          "2021-06-25T00:00:00+00:00",
          "2021-06-29T00:00:00+00:00",
          "2021-06-30T00:00:00+00:00",
          "2021-07-01T00:00:00+00:00",
          "2021-07-02T00:00:00+00:00",
          "2021-07-05T00:00:00+00:00",
          "2021-07-06T00:00:00+00:00",
          "2021-07-07T00:00:00+00:00",
          "2021-07-08T00:00:00+00:00",
          "2021-07-09T00:00:00+00:00",
          "2021-07-13T00:00:00+00:00",
          "2021-07-16T00:00:00+00:00",
          "2021-07-20T00:00:00+00:00",
          "2021-07-26T00:00:00+00:00",
          "2021-07-27T00:00:00+00:00",
          "2021-07-28T00:00:00+00:00",
          "2021-07-29T00:00:00+00:00",
          "2021-07-30T00:00:00+00:00",
          "2021-08-03T00:00:00+00:00",
          "2021-08-04T00:00:00+00:00",
          "2021-08-06T00:00:00+00:00",
          "2021-08-10T00:00:00+00:00",
          "2021-08-16T00:00:00+00:00",
          "2021-08-20T00:00:00+00:00",
          "2021-08-23T00:00:00+00:00",
          "2021-08-24T00:00:00+00:00",
          "2021-08-26T00:00:00+00:00",
          "2021-08-27T00:00:00+00:00",
          "2021-08-30T00:00:00+00:00",
          "2021-08-31T00:00:00+00:00",
          "2021-09-01T00:00:00+00:00",
          "2021-09-02T00:00:00+00:00"
         ],
         "y": [
          108.74,
          108.747,
          109.808,
          109.467,
          109.547,
          109.524,
          109.238,
          109.618,
          109.319,
          109.682,
          110.071,
          110.708,
          110.211,
          110.949,
          110.874,
          110.778,
          110.538,
          111.101,
          111.521,
          111.02,
          110.962,
          110.61,
          110.608,
          109.748,
          110.102,
          110.627,
          110.081,
          109.843,
          110.381,
          109.774,
          109.909,
          109.47,
          109.656,
          109.042,
          109.473,
          110.217,
          110.56,
          109.243,
          109.799,
          109.694,
          109.679,
          110.081,
          109.85,
          109.913,
          110.007,
          110.025,
          109.937
         ],
         "yaxis": "y3"
        },
        {
         "hovertext": [
          "order id: 4<br>order type: Buy<br>close probability: 0.5027<br>margin: 2670.000000<br>profit: -34.638431",
          "order id: 6<br>order type: Buy<br>close probability: 0.6486<br>margin: 4210.000000<br>profit: 1431.629757",
          "order id: 10<br>order type: Buy<br>close probability: 0.5600<br>margin: 100.000000<br>profit: 3.707720",
          "order id: 14<br>order type: Sell<br>close probability: 0.7740<br>margin: 10.000000<br>profit: -0.924978",
          "order id: 16<br>order type: Buy<br>close probability: 0.7889<br>margin: 630.000000<br>profit: 405.067085",
          "order id: 18<br>order type: Sell<br>close probability: 0.7520<br>margin: 50.000000<br>profit: 12.442278",
          "order id: 20<br>order type: Buy<br>close probability: 0.5831<br>margin: 970.000000<br>profit: 207.699140",
          "order id: 23<br>order type: Buy<br>close probability: 0.6190<br>margin: 1260.000000<br>profit: -369.145228",
          "order id: 24<br>order type: Buy<br>close probability: 0.7665<br>margin: 1190.000000<br>profit: 789.749624<br>---------------------------------<br>order id: 25<br>order type: Buy<br>close probability: 0.7600<br>margin: 1300.000000<br>profit: 431.551765",
          "order id: 28<br>order type: Sell<br>close probability: 0.6382<br>margin: 510.000000<br>profit: -1.717138",
          "order id: 31<br>order type: Buy<br>close probability: 0.9325<br>margin: 990.000000<br>profit: -453.683649",
          "order id: 33<br>order type: Buy<br>close probability: 0.8760<br>margin: 100.000000<br>profit: 7.656086",
          "order id: 36<br>order type: Buy<br>close probability: 0.9085<br>margin: 1440.000000<br>profit: -124.327891",
          "order id: 38<br>order type: Buy<br>close probability: 0.8792<br>margin: 380.000000<br>profit: -96.767954<br>---------------------------------<br>order id: 41<br>order type: Buy<br>close probability: 0.7767<br>margin: 2500.000000<br>profit: -420.372858",
          "order id: 42<br>order type: Buy<br>close probability: 0.6383<br>margin: 930.000000<br>profit: 452.091090",
          "order id: 44<br>order type: Buy<br>close probability: 0.5003<br>margin: 1670.000000<br>profit: 589.445368",
          "order id: 47<br>order type: Buy<br>close probability: 0.7830<br>margin: 350.000000<br>profit: -163.491642",
          "order id: 50<br>order type: Buy<br>close probability: 0.9423<br>margin: 1060.000000<br>profit: -68.803097",
          "order id: 52<br>order type: Buy<br>close probability: 0.9841<br>margin: 570.000000<br>profit: -192.151333",
          "order id: 53<br>order type: Sell<br>close probability: 0.9187<br>margin: 1460.000000<br>profit: 1121.057339",
          "order id: 54<br>order type: Buy<br>close probability: 0.8764<br>margin: 10.000000<br>profit: -4.739241<br>---------------------------------<br>order id: 57<br>order type: Buy<br>close probability: 0.6063<br>margin: 1880.000000<br>profit: 573.539783",
          "order id: 59<br>order type: Sell<br>close probability: 0.9255<br>margin: 1650.000000<br>profit: -403.173175",
          "order id: 61<br>order type: Buy<br>close probability: 0.8195<br>margin: 450.000000<br>profit: -283.322353",
          "order id: 63<br>order type: Buy<br>close probability: 0.9646<br>margin: 2040.000000<br>profit: -488.633684",
          "order id: 66<br>order type: Sell<br>close probability: 0.7604<br>margin: 380.000000<br>profit: -160.353096",
          "order id: 71<br>order type: Buy<br>close probability: 0.7853<br>margin: 1850.000000<br>profit: -1056.919568",
          "order id: 73<br>order type: Buy<br>close probability: 0.8669<br>margin: 1600.000000<br>profit: 162.811726",
          "order id: 74<br>order type: Buy<br>close probability: 0.5296<br>margin: 900.000000<br>profit: -376.931498",
          "order id: 76<br>order type: Sell<br>close probability: 0.9185<br>margin: 720.000000<br>profit: -134.149418",
          "order id: 78<br>order type: Buy<br>close probability: 0.5151<br>margin: 1130.000000<br>profit: -386.179159",
          "order id: 82<br>order type: Buy<br>close probability: 0.9932<br>margin: 1940.000000<br>profit: 730.002182",
          "order id: 85<br>order type: Sell<br>close probability: 0.6312<br>margin: 380.000000<br>profit: -105.615830",
          "order id: 88<br>order type: Buy<br>close probability: 0.8114<br>margin: 1460.000000<br>profit: 38.757245",
          "order id: 90<br>order type: Buy<br>close probability: 0.5201<br>margin: 1490.000000<br>profit: -212.139795",
          "order id: 92<br>order type: Buy<br>close probability: 0.8948<br>margin: 2630.000000<br>profit: 784.688060",
          "order id: 97<br>order type: Sell<br>close probability: 0.8845<br>margin: 1920.000000<br>profit: 150.936830",
          "order id: 99<br>order type: Sell<br>close probability: 0.6255<br>margin: 70.000000<br>profit: -0.124785",
          "order id: 102<br>order type: Buy<br>close probability: 0.7218<br>margin: 1480.000000<br>profit: 431.209268",
          "order id: 104<br>order type: Buy<br>close probability: 0.5709<br>margin: 940.000000<br>profit: -216.337973",
          "order id: 106<br>order type: Sell<br>close probability: 0.6482<br>margin: 1350.000000<br>profit: -101.302594",
          "order id: 108<br>order type: Buy<br>close probability: 0.5649<br>margin: 1610.000000<br>profit: 109.866926",
          "order id: 110<br>order type: Buy<br>close probability: 0.6125<br>margin: 400.000000<br>profit: -34.157516<br>---------------------------------<br>order id: 112<br>order type: Buy<br>close probability: 0.6581<br>margin: 1430.000000<br>profit: -138.571888"
         ],
         "legendgroup": "g3",
         "marker": {
          "color": "black",
          "line": {
           "width": 1.5
          },
          "size": 7,
          "symbol": "line-ns"
         },
         "mode": "markers",
         "name": "USDJPY",
         "showlegend": false,
         "type": "scatter",
         "x": [
          "2021-05-25T00:00:00+00:00",
          "2021-05-26T00:00:00+00:00",
          "2021-05-28T00:00:00+00:00",
          "2021-06-02T00:00:00+00:00",
          "2021-06-03T00:00:00+00:00",
          "2021-06-07T00:00:00+00:00",
          "2021-06-08T00:00:00+00:00",
          "2021-06-10T00:00:00+00:00",
          "2021-06-14T00:00:00+00:00",
          "2021-06-15T00:00:00+00:00",
          "2021-06-17T00:00:00+00:00",
          "2021-06-21T00:00:00+00:00",
          "2021-06-24T00:00:00+00:00",
          "2021-06-28T00:00:00+00:00",
          "2021-06-30T00:00:00+00:00",
          "2021-07-01T00:00:00+00:00",
          "2021-07-02T00:00:00+00:00",
          "2021-07-05T00:00:00+00:00",
          "2021-07-06T00:00:00+00:00",
          "2021-07-08T00:00:00+00:00",
          "2021-07-09T00:00:00+00:00",
          "2021-07-12T00:00:00+00:00",
          "2021-07-14T00:00:00+00:00",
          "2021-07-20T00:00:00+00:00",
          "2021-07-21T00:00:00+00:00",
          "2021-07-27T00:00:00+00:00",
          "2021-07-28T00:00:00+00:00",
          "2021-07-29T00:00:00+00:00",
          "2021-07-30T00:00:00+00:00",
          "2021-08-02T00:00:00+00:00",
          "2021-08-04T00:00:00+00:00",
          "2021-08-05T00:00:00+00:00",
          "2021-08-09T00:00:00+00:00",
          "2021-08-11T00:00:00+00:00",
          "2021-08-17T00:00:00+00:00",
          "2021-08-23T00:00:00+00:00",
          "2021-08-24T00:00:00+00:00",
          "2021-08-25T00:00:00+00:00",
          "2021-08-27T00:00:00+00:00",
          "2021-08-30T00:00:00+00:00",
          "2021-08-31T00:00:00+00:00",
          "2021-09-02T00:00:00+00:00"
         ],
         "y": [
          108.747,
          109.139,
          109.872,
          109.547,
          110.276,
          109.238,
          109.492,
          109.319,
          110.071,
          110.056,
          110.221,
          110.314,
          110.874,
          110.614,
          111.101,
          111.521,
          111.02,
          110.962,
          110.61,
          109.748,
          110.102,
          110.349,
          109.95,
          109.843,
          110.286,
          109.774,
          109.909,
          109.47,
          109.656,
          109.305,
          109.473,
          109.761,
          110.267,
          110.428,
          109.595,
          109.694,
          109.679,
          110.023,
          109.85,
          109.913,
          110.007,
          109.937
         ],
         "yaxis": "y3"
        }
       ],
       "layout": {
        "height": 600,
        "template": {
         "data": {
          "bar": [
           {
            "error_x": {
             "color": "#2a3f5f"
            },
            "error_y": {
             "color": "#2a3f5f"
            },
            "marker": {
             "line": {
              "color": "#E5ECF6",
              "width": 0.5
             },
             "pattern": {
              "fillmode": "overlay",
              "size": 10,
              "solidity": 0.2
             }
            },
            "type": "bar"
           }
          ],
          "barpolar": [
           {
            "marker": {
             "line": {
              "color": "#E5ECF6",
              "width": 0.5
             },
             "pattern": {
              "fillmode": "overlay",
              "size": 10,
              "solidity": 0.2
             }
            },
            "type": "barpolar"
           }
          ],
          "carpet": [
           {
            "aaxis": {
             "endlinecolor": "#2a3f5f",
             "gridcolor": "white",
             "linecolor": "white",
             "minorgridcolor": "white",
             "startlinecolor": "#2a3f5f"
            },
            "baxis": {
             "endlinecolor": "#2a3f5f",
             "gridcolor": "white",
             "linecolor": "white",
             "minorgridcolor": "white",
             "startlinecolor": "#2a3f5f"
            },
            "type": "carpet"
           }
          ],
          "choropleth": [
           {
            "colorbar": {
             "outlinewidth": 0,
             "ticks": ""
            },
            "type": "choropleth"
           }
          ],
          "contour": [
           {
            "colorbar": {
             "outlinewidth": 0,
             "ticks": ""
            },
            "colorscale": [
             [
              0,
              "#0d0887"
             ],
             [
              0.1111111111111111,
              "#46039f"
             ],
             [
              0.2222222222222222,
              "#7201a8"
             ],
             [
              0.3333333333333333,
              "#9c179e"
             ],
             [
              0.4444444444444444,
              "#bd3786"
             ],
             [
              0.5555555555555556,
              "#d8576b"
             ],
             [
              0.6666666666666666,
              "#ed7953"
             ],
             [
              0.7777777777777778,
              "#fb9f3a"
             ],
             [
              0.8888888888888888,
              "#fdca26"
             ],
             [
              1,
              "#f0f921"
             ]
            ],
            "type": "contour"
           }
          ],
          "contourcarpet": [
           {
            "colorbar": {
             "outlinewidth": 0,
             "ticks": ""
            },
            "type": "contourcarpet"
           }
          ],
          "heatmap": [
           {
            "colorbar": {
             "outlinewidth": 0,
             "ticks": ""
            },
            "colorscale": [
             [
              0,
              "#0d0887"
             ],
             [
              0.1111111111111111,
              "#46039f"
             ],
             [
              0.2222222222222222,
              "#7201a8"
             ],
             [
              0.3333333333333333,
              "#9c179e"
             ],
             [
              0.4444444444444444,
              "#bd3786"
             ],
             [
              0.5555555555555556,
              "#d8576b"
             ],
             [
              0.6666666666666666,
              "#ed7953"
             ],
             [
              0.7777777777777778,
              "#fb9f3a"
             ],
             [
              0.8888888888888888,
              "#fdca26"
             ],
             [
              1,
              "#f0f921"
             ]
            ],
            "type": "heatmap"
           }
          ],
          "heatmapgl": [
           {
            "colorbar": {
             "outlinewidth": 0,
             "ticks": ""
            },
            "colorscale": [
             [
              0,
              "#0d0887"
             ],
             [
              0.1111111111111111,
              "#46039f"
             ],
             [
              0.2222222222222222,
              "#7201a8"
             ],
             [
              0.3333333333333333,
              "#9c179e"
             ],
             [
              0.4444444444444444,
              "#bd3786"
             ],
             [
              0.5555555555555556,
              "#d8576b"
             ],
             [
              0.6666666666666666,
              "#ed7953"
             ],
             [
              0.7777777777777778,
              "#fb9f3a"
             ],
             [
              0.8888888888888888,
              "#fdca26"
             ],
             [
              1,
              "#f0f921"
             ]
            ],
            "type": "heatmapgl"
           }
          ],
          "histogram": [
           {
            "marker": {
             "pattern": {
              "fillmode": "overlay",
              "size": 10,
              "solidity": 0.2
             }
            },
            "type": "histogram"
           }
          ],
          "histogram2d": [
           {
            "colorbar": {
             "outlinewidth": 0,
             "ticks": ""
            },
            "colorscale": [
             [
              0,
              "#0d0887"
             ],
             [
              0.1111111111111111,
              "#46039f"
             ],
             [
              0.2222222222222222,
              "#7201a8"
             ],
             [
              0.3333333333333333,
              "#9c179e"
             ],
             [
              0.4444444444444444,
              "#bd3786"
             ],
             [
              0.5555555555555556,
              "#d8576b"
             ],
             [
              0.6666666666666666,
              "#ed7953"
             ],
             [
              0.7777777777777778,
              "#fb9f3a"
             ],
             [
              0.8888888888888888,
              "#fdca26"
             ],
             [
              1,
              "#f0f921"
             ]
            ],
            "type": "histogram2d"
           }
          ],
          "histogram2dcontour": [
           {
            "colorbar": {
             "outlinewidth": 0,
             "ticks": ""
            },
            "colorscale": [
             [
              0,
              "#0d0887"
             ],
             [
              0.1111111111111111,
              "#46039f"
             ],
             [
              0.2222222222222222,
              "#7201a8"
             ],
             [
              0.3333333333333333,
              "#9c179e"
             ],
             [
              0.4444444444444444,
              "#bd3786"
             ],
             [
              0.5555555555555556,
              "#d8576b"
             ],
             [
              0.6666666666666666,
              "#ed7953"
             ],
             [
              0.7777777777777778,
              "#fb9f3a"
             ],
             [
              0.8888888888888888,
              "#fdca26"
             ],
             [
              1,
              "#f0f921"
             ]
            ],
            "type": "histogram2dcontour"
           }
          ],
          "mesh3d": [
           {
            "colorbar": {
             "outlinewidth": 0,
             "ticks": ""
            },
            "type": "mesh3d"
           }
          ],
          "parcoords": [
           {
            "line": {
             "colorbar": {
              "outlinewidth": 0,
              "ticks": ""
             }
            },
            "type": "parcoords"
           }
          ],
          "pie": [
           {
            "automargin": true,
            "type": "pie"
           }
          ],
          "scatter": [
           {
            "marker": {
             "colorbar": {
              "outlinewidth": 0,
              "ticks": ""
             }
            },
            "type": "scatter"
           }
          ],
          "scatter3d": [
           {
            "line": {
             "colorbar": {
              "outlinewidth": 0,
              "ticks": ""
             }
            },
            "marker": {
             "colorbar": {
              "outlinewidth": 0,
              "ticks": ""
             }
            },
            "type": "scatter3d"
           }
          ],
          "scattercarpet": [
           {
            "marker": {
             "colorbar": {
              "outlinewidth": 0,
              "ticks": ""
             }
            },
            "type": "scattercarpet"
           }
          ],
          "scattergeo": [
           {
            "marker": {
             "colorbar": {
              "outlinewidth": 0,
              "ticks": ""
             }
            },
            "type": "scattergeo"
           }
          ],
          "scattergl": [
           {
            "marker": {
             "colorbar": {
              "outlinewidth": 0,
              "ticks": ""
             }
            },
            "type": "scattergl"
           }
          ],
          "scattermapbox": [
           {
            "marker": {
             "colorbar": {
              "outlinewidth": 0,
              "ticks": ""
             }
            },
            "type": "scattermapbox"
           }
          ],
          "scatterpolar": [
           {
            "marker": {
             "colorbar": {
              "outlinewidth": 0,
              "ticks": ""
             }
            },
            "type": "scatterpolar"
           }
          ],
          "scatterpolargl": [
           {
            "marker": {
             "colorbar": {
              "outlinewidth": 0,
              "ticks": ""
             }
            },
            "type": "scatterpolargl"
           }
          ],
          "scatterternary": [
           {
            "marker": {
             "colorbar": {
              "outlinewidth": 0,
              "ticks": ""
             }
            },
            "type": "scatterternary"
           }
          ],
          "surface": [
           {
            "colorbar": {
             "outlinewidth": 0,
             "ticks": ""
            },
            "colorscale": [
             [
              0,
              "#0d0887"
             ],
             [
              0.1111111111111111,
              "#46039f"
             ],
             [
              0.2222222222222222,
              "#7201a8"
             ],
             [
              0.3333333333333333,
              "#9c179e"
             ],
             [
              0.4444444444444444,
              "#bd3786"
             ],
             [
              0.5555555555555556,
              "#d8576b"
             ],
             [
              0.6666666666666666,
              "#ed7953"
             ],
             [
              0.7777777777777778,
              "#fb9f3a"
             ],
             [
              0.8888888888888888,
              "#fdca26"
             ],
             [
              1,
              "#f0f921"
             ]
            ],
            "type": "surface"
           }
          ],
          "table": [
           {
            "cells": {
             "fill": {
              "color": "#EBF0F8"
             },
             "line": {
              "color": "white"
             }
            },
            "header": {
             "fill": {
              "color": "#C8D4E3"
             },
             "line": {
              "color": "white"
             }
            },
            "type": "table"
           }
          ]
         },
         "layout": {
          "annotationdefaults": {
           "arrowcolor": "#2a3f5f",
           "arrowhead": 0,
           "arrowwidth": 1
          },
          "autotypenumbers": "strict",
          "coloraxis": {
           "colorbar": {
            "outlinewidth": 0,
            "ticks": ""
           }
          },
          "colorscale": {
           "diverging": [
            [
             0,
             "#8e0152"
            ],
            [
             0.1,
             "#c51b7d"
            ],
            [
             0.2,
             "#de77ae"
            ],
            [
             0.3,
             "#f1b6da"
            ],
            [
             0.4,
             "#fde0ef"
            ],
            [
             0.5,
             "#f7f7f7"
            ],
            [
             0.6,
             "#e6f5d0"
            ],
            [
             0.7,
             "#b8e186"
            ],
            [
             0.8,
             "#7fbc41"
            ],
            [
             0.9,
             "#4d9221"
            ],
            [
             1,
             "#276419"
            ]
           ],
           "sequential": [
            [
             0,
             "#0d0887"
            ],
            [
             0.1111111111111111,
             "#46039f"
            ],
            [
             0.2222222222222222,
             "#7201a8"
            ],
            [
             0.3333333333333333,
             "#9c179e"
            ],
            [
             0.4444444444444444,
             "#bd3786"
            ],
            [
             0.5555555555555556,
             "#d8576b"
            ],
            [
             0.6666666666666666,
             "#ed7953"
            ],
            [
             0.7777777777777778,
             "#fb9f3a"
            ],
            [
             0.8888888888888888,
             "#fdca26"
            ],
            [
             1,
             "#f0f921"
            ]
           ],
           "sequentialminus": [
            [
             0,
             "#0d0887"
            ],
            [
             0.1111111111111111,
             "#46039f"
            ],
            [
             0.2222222222222222,
             "#7201a8"
            ],
            [
             0.3333333333333333,
             "#9c179e"
            ],
            [
             0.4444444444444444,
             "#bd3786"
            ],
            [
             0.5555555555555556,
             "#d8576b"
            ],
            [
             0.6666666666666666,
             "#ed7953"
            ],
            [
             0.7777777777777778,
             "#fb9f3a"
            ],
            [
             0.8888888888888888,
             "#fdca26"
            ],
            [
             1,
             "#f0f921"
            ]
           ]
          },
          "colorway": [
           "#636efa",
           "#EF553B",
           "#00cc96",
           "#ab63fa",
           "#FFA15A",
           "#19d3f3",
           "#FF6692",
           "#B6E880",
           "#FF97FF",
           "#FECB52"
          ],
          "font": {
           "color": "#2a3f5f"
          },
          "geo": {
           "bgcolor": "white",
           "lakecolor": "white",
           "landcolor": "#E5ECF6",
           "showlakes": true,
           "showland": true,
           "subunitcolor": "white"
          },
          "hoverlabel": {
           "align": "left"
          },
          "hovermode": "closest",
          "mapbox": {
           "style": "light"
          },
          "paper_bgcolor": "white",
          "plot_bgcolor": "#E5ECF6",
          "polar": {
           "angularaxis": {
            "gridcolor": "white",
            "linecolor": "white",
            "ticks": ""
           },
           "bgcolor": "#E5ECF6",
           "radialaxis": {
            "gridcolor": "white",
            "linecolor": "white",
            "ticks": ""
           }
          },
          "scene": {
           "xaxis": {
            "backgroundcolor": "#E5ECF6",
            "gridcolor": "white",
            "gridwidth": 2,
            "linecolor": "white",
            "showbackground": true,
            "ticks": "",
            "zerolinecolor": "white"
           },
           "yaxis": {
            "backgroundcolor": "#E5ECF6",
            "gridcolor": "white",
            "gridwidth": 2,
            "linecolor": "white",
            "showbackground": true,
            "ticks": "",
            "zerolinecolor": "white"
           },
           "zaxis": {
            "backgroundcolor": "#E5ECF6",
            "gridcolor": "white",
            "gridwidth": 2,
            "linecolor": "white",
            "showbackground": true,
            "ticks": "",
            "zerolinecolor": "white"
           }
          },
          "shapedefaults": {
           "line": {
            "color": "#2a3f5f"
           }
          },
          "ternary": {
           "aaxis": {
            "gridcolor": "white",
            "linecolor": "white",
            "ticks": ""
           },
           "baxis": {
            "gridcolor": "white",
            "linecolor": "white",
            "ticks": ""
           },
           "bgcolor": "#E5ECF6",
           "caxis": {
            "gridcolor": "white",
            "linecolor": "white",
            "ticks": ""
           }
          },
          "title": {
           "x": 0.05
          },
          "xaxis": {
           "automargin": true,
           "gridcolor": "white",
           "linecolor": "white",
           "ticks": "",
           "title": {
            "standoff": 15
           },
           "zerolinecolor": "white",
           "zerolinewidth": 2
          },
          "yaxis": {
           "automargin": true,
           "gridcolor": "white",
           "linecolor": "white",
           "ticks": "",
           "title": {
            "standoff": 15
           },
           "zerolinecolor": "white",
           "zerolinewidth": 2
          }
         }
        },
        "title": {
         "text": "Balance: 19362.018404 USD ~ Equity: 19131.200797 ~ Margin: 2469.285600 ~ Free Margin: 16661.915197 ~ Margin Level: 7.747666"
        },
        "width": 1400,
        "xaxis": {
         "tickformat": "%Y-%m-%d"
        },
        "yaxis": {
         "tickfont": {
          "color": "rgba(0.12156862745098039, 0.4666666666666667, 0.7058823529411765, 0.8)"
         }
        },
        "yaxis2": {
         "overlaying": "y",
         "tickfont": {
          "color": "rgba(0.5643983083429451, 0.36993464052287583, 0.5132641291810843, 0.8)"
         }
        },
        "yaxis3": {
         "overlaying": "y",
         "tickfont": {
          "color": "rgba(0.7372549019607844, 0.7411764705882353, 0.13333333333333333, 0.8)"
         }
        }
       }
      }
     },
     "metadata": {},
     "output_type": "display_data"
    }
   ],
   "source": [
    "import gym\n",
    "from gym_mtsim import (\n",
    "    Timeframe, SymbolInfo,\n",
    "    MtSimulator, OrderType, Order, SymbolNotFound, OrderNotFound,\n",
    "    MtEnv,\n",
    "    FOREX_DATA_PATH, STOCKS_DATA_PATH, CRYPTO_DATA_PATH, MIXED_DATA_PATH,\n",
    ")\n",
    "from stable_baselines3 import A2C\n",
    "\n",
    "\n",
    "# env = gym.make('forex-hedge-v0')\n",
    "\n",
    "model = A2C('MultiInputPolicy', env, verbose=0)\n",
    "model.learn(total_timesteps=1000)\n",
    "\n",
    "observation = env.reset()\n",
    "while True:\n",
    "    action, _states = model.predict(observation)\n",
    "    observation, reward, done, info = env.step(action)\n",
    "    if done:\n",
    "        break\n",
    "\n",
    "env.render('advanced_figure', time_format=\"%Y-%m-%d\")"
   ]
  },
  {
   "cell_type": "markdown",
   "metadata": {},
   "source": [
    "## References\n",
    "\n",
    "* [https://www.mql5.com/en/docs/integration/python_metatrader5](https://www.mql5.com/en/docs/integration/python_metatrader5)\n",
    "* [https://www.metatrader5.com/en/terminal/help/trading_advanced/margin_forex](https://www.metatrader5.com/en/terminal/help/trading_advanced/margin_forex)\n",
    "* [https://admiralmarkets.com/education/articles/forex-basics/margin-in-forex-trading-margin-level-vs-margin-call](https://admiralmarkets.com/education/articles/forex-basics/margin-in-forex-trading-margin-level-vs-margin-call)\n",
    "* [https://www.investopedia.com/articles/forex/12/calculating-profits-and-losses-of-forex-trades.asp](https://www.investopedia.com/articles/forex/12/calculating-profits-and-losses-of-forex-trades.asp)\n"
   ]
  }
 ],
 "metadata": {
  "interpreter": {
   "hash": "0abee77d591a174194b91b850e12395de882ac6d36de3e6e63e8904e4cff1216"
  },
  "kernelspec": {
   "display_name": "Python 3.9.6 64-bit ('venv': venv)",
   "name": "python3"
  },
  "language_info": {
   "codemirror_mode": {
    "name": "ipython",
    "version": 3
   },
   "file_extension": ".py",
   "mimetype": "text/x-python",
   "name": "python",
   "nbconvert_exporter": "python",
   "pygments_lexer": "ipython3",
   "version": "3.9.6"
  }
 },
 "nbformat": 4,
 "nbformat_minor": 2
}
